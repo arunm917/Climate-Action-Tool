{
  "cells": [
    {
      "cell_type": "markdown",
      "metadata": {
        "id": "view-in-github",
        "colab_type": "text"
      },
      "source": [
        "<a href=\"https://colab.research.google.com/github/arunm917/Climate-Action-Tool/blob/main/solver.ipynb\" target=\"_parent\"><img src=\"https://colab.research.google.com/assets/colab-badge.svg\" alt=\"Open In Colab\"/></a>"
      ]
    },
    {
      "cell_type": "markdown",
      "source": [
        "# Downloading packages and files"
      ],
      "metadata": {
        "id": "KdS99pR9tZiY"
      }
    },
    {
      "cell_type": "code",
      "execution_count": 190,
      "metadata": {
        "id": "tTLsHuFjR1NC"
      },
      "outputs": [],
      "source": [
        "import numpy as np\n",
        "import pandas as pd\n",
        "import gdown\n",
        "import regex as re\n",
        "from scipy.optimize import minimize"
      ]
    },
    {
      "cell_type": "code",
      "source": [
        "# from google.colab import files\n",
        "# uploaded = files.upload()"
      ],
      "metadata": {
        "id": "klbPqIK3l2X-"
      },
      "execution_count": 191,
      "outputs": []
    },
    {
      "cell_type": "code",
      "source": [
        "# # downloading file from gdrive\n",
        "# output = 'equations'\n",
        "# file_id = '1q9cRaPAXvg2KSuc9f8WDjnfLQDFdmtew' # Google drive ID\n",
        "# #Download the file\n",
        "# gdown.download('https://drive.google.com/uc?id=' + file_id, output, quiet=False)\n",
        "# print('\\nDONE.')"
      ],
      "metadata": {
        "id": "CPLhUbpdsA8Q"
      },
      "execution_count": 192,
      "outputs": []
    },
    {
      "cell_type": "code",
      "source": [
        "# downloading file from gdrive\n",
        "output = 'equations'\n",
        "file_id = '1raendJQeKuzTduzPYIgcIXZYlRA7esAU' # Google drive ID\n",
        "#Download the file\n",
        "gdown.download('https://drive.google.com/uc?id=' + file_id, output, quiet=False)\n",
        "print('\\nDONE.')"
      ],
      "metadata": {
        "colab": {
          "base_uri": "https://localhost:8080/"
        },
        "id": "gHJZeRSeJ5Kn",
        "outputId": "ec5c1b9f-2d5a-4192-dbaf-b25c1a3d064d"
      },
      "execution_count": 193,
      "outputs": [
        {
          "output_type": "stream",
          "name": "stderr",
          "text": [
            "Downloading...\n",
            "From: https://drive.google.com/uc?id=1raendJQeKuzTduzPYIgcIXZYlRA7esAU\n",
            "To: /content/equations\n",
            "100%|██████████| 797/797 [00:00<00:00, 1.69MB/s]"
          ]
        },
        {
          "output_type": "stream",
          "name": "stdout",
          "text": [
            "\n",
            "DONE.\n"
          ]
        },
        {
          "output_type": "stream",
          "name": "stderr",
          "text": [
            "\n"
          ]
        }
      ]
    },
    {
      "cell_type": "code",
      "source": [
        "# downloading file from gdrive\n",
        "output = 'parameters'\n",
        "file_id = '1qC5eDYSwAqwYZ0QqlVpayiuQnix9e85K' # Google drive ID\n",
        "#Download the file\n",
        "gdown.download('https://drive.google.com/uc?id=' + file_id, output, quiet=False)\n",
        "print('\\nDONE.')"
      ],
      "metadata": {
        "colab": {
          "base_uri": "https://localhost:8080/"
        },
        "id": "_VNs8JfDstU-",
        "outputId": "9ca334e8-0c1c-4776-bbd7-17f687d7ab85"
      },
      "execution_count": 194,
      "outputs": [
        {
          "output_type": "stream",
          "name": "stderr",
          "text": [
            "Downloading...\n",
            "From: https://drive.google.com/uc?id=1qC5eDYSwAqwYZ0QqlVpayiuQnix9e85K\n",
            "To: /content/parameters\n",
            "100%|██████████| 433/433 [00:00<00:00, 1.06MB/s]"
          ]
        },
        {
          "output_type": "stream",
          "name": "stdout",
          "text": [
            "\n",
            "DONE.\n"
          ]
        },
        {
          "output_type": "stream",
          "name": "stderr",
          "text": [
            "\n"
          ]
        }
      ]
    },
    {
      "cell_type": "code",
      "source": [
        "# downloading file from gdrive\n",
        "output = 'variables'\n",
        "file_id = '1qAyqEmDgX0hvR2LN3moC6i3SDNrlylYZ' # Google drive ID\n",
        "#Download the file\n",
        "gdown.download('https://drive.google.com/uc?id=' + file_id, output, quiet=False)\n",
        "print('\\nDONE.')"
      ],
      "metadata": {
        "colab": {
          "base_uri": "https://localhost:8080/"
        },
        "id": "BgRc7RZVsuv1",
        "outputId": "450598b2-f6bc-473d-fc22-cbb1013a867f"
      },
      "execution_count": 195,
      "outputs": [
        {
          "output_type": "stream",
          "name": "stderr",
          "text": [
            "Downloading...\n",
            "From: https://drive.google.com/uc?id=1qAyqEmDgX0hvR2LN3moC6i3SDNrlylYZ\n",
            "To: /content/variables\n",
            "100%|██████████| 345/345 [00:00<00:00, 718kB/s]"
          ]
        },
        {
          "output_type": "stream",
          "name": "stdout",
          "text": [
            "\n",
            "DONE.\n"
          ]
        },
        {
          "output_type": "stream",
          "name": "stderr",
          "text": [
            "\n"
          ]
        }
      ]
    },
    {
      "cell_type": "markdown",
      "source": [
        "# Processing files"
      ],
      "metadata": {
        "id": "r9KgIAECtgxv"
      }
    },
    {
      "cell_type": "code",
      "execution_count": 196,
      "metadata": {
        "id": "t_oSCk3YR1NH"
      },
      "outputs": [],
      "source": [
        "parameters_df = pd.read_csv('parameters')"
      ]
    },
    {
      "cell_type": "code",
      "source": [
        "parameters_df"
      ],
      "metadata": {
        "colab": {
          "base_uri": "https://localhost:8080/",
          "height": 677
        },
        "id": "oP8u4XXDudd8",
        "outputId": "58603a71-623c-4e25-b74a-5f960fbd3e69"
      },
      "execution_count": 197,
      "outputs": [
        {
          "output_type": "execute_result",
          "data": {
            "text/plain": [
              "        parameters  values     type\n",
              "0      phi_crusher    3.50    fixed\n",
              "1           phi_rm   26.00    fixed\n",
              "2           phi_cm   76.30    fixed\n",
              "3          phi_phk   37.70    fixed\n",
              "4       phi_cooler   37.70    fixed\n",
              "5   phi_cementmill   30.00    fixed\n",
              "6         w_add_ls    0.11    fixed\n",
              "7           w_c_ls    0.06    fixed\n",
              "8         w_c_coal    0.76    fixed\n",
              "9          w_cl_rm    0.64    fixed\n",
              "10        w_air_ls    1.64    fixed\n",
              "11         w_gy_ls    0.05    fixed\n",
              "12        w_fly_ls    0.33    fixed\n",
              "13         w_cl_ls    0.71    fixed\n",
              "14        beta_phk    2.97    fixed\n",
              "15       eta_plant    0.60  correct\n",
              "16             gcv   25.00    fixed\n",
              "17        eta_kiln    0.95    float\n",
              "18      mol_wt_co2   44.00    fixed\n",
              "19        mol_wt_c   12.00    fixed"
            ],
            "text/html": [
              "\n",
              "  <div id=\"df-a42a02d9-533a-461f-89a3-f3505479994e\">\n",
              "    <div class=\"colab-df-container\">\n",
              "      <div>\n",
              "<style scoped>\n",
              "    .dataframe tbody tr th:only-of-type {\n",
              "        vertical-align: middle;\n",
              "    }\n",
              "\n",
              "    .dataframe tbody tr th {\n",
              "        vertical-align: top;\n",
              "    }\n",
              "\n",
              "    .dataframe thead th {\n",
              "        text-align: right;\n",
              "    }\n",
              "</style>\n",
              "<table border=\"1\" class=\"dataframe\">\n",
              "  <thead>\n",
              "    <tr style=\"text-align: right;\">\n",
              "      <th></th>\n",
              "      <th>parameters</th>\n",
              "      <th>values</th>\n",
              "      <th>type</th>\n",
              "    </tr>\n",
              "  </thead>\n",
              "  <tbody>\n",
              "    <tr>\n",
              "      <th>0</th>\n",
              "      <td>phi_crusher</td>\n",
              "      <td>3.50</td>\n",
              "      <td>fixed</td>\n",
              "    </tr>\n",
              "    <tr>\n",
              "      <th>1</th>\n",
              "      <td>phi_rm</td>\n",
              "      <td>26.00</td>\n",
              "      <td>fixed</td>\n",
              "    </tr>\n",
              "    <tr>\n",
              "      <th>2</th>\n",
              "      <td>phi_cm</td>\n",
              "      <td>76.30</td>\n",
              "      <td>fixed</td>\n",
              "    </tr>\n",
              "    <tr>\n",
              "      <th>3</th>\n",
              "      <td>phi_phk</td>\n",
              "      <td>37.70</td>\n",
              "      <td>fixed</td>\n",
              "    </tr>\n",
              "    <tr>\n",
              "      <th>4</th>\n",
              "      <td>phi_cooler</td>\n",
              "      <td>37.70</td>\n",
              "      <td>fixed</td>\n",
              "    </tr>\n",
              "    <tr>\n",
              "      <th>5</th>\n",
              "      <td>phi_cementmill</td>\n",
              "      <td>30.00</td>\n",
              "      <td>fixed</td>\n",
              "    </tr>\n",
              "    <tr>\n",
              "      <th>6</th>\n",
              "      <td>w_add_ls</td>\n",
              "      <td>0.11</td>\n",
              "      <td>fixed</td>\n",
              "    </tr>\n",
              "    <tr>\n",
              "      <th>7</th>\n",
              "      <td>w_c_ls</td>\n",
              "      <td>0.06</td>\n",
              "      <td>fixed</td>\n",
              "    </tr>\n",
              "    <tr>\n",
              "      <th>8</th>\n",
              "      <td>w_c_coal</td>\n",
              "      <td>0.76</td>\n",
              "      <td>fixed</td>\n",
              "    </tr>\n",
              "    <tr>\n",
              "      <th>9</th>\n",
              "      <td>w_cl_rm</td>\n",
              "      <td>0.64</td>\n",
              "      <td>fixed</td>\n",
              "    </tr>\n",
              "    <tr>\n",
              "      <th>10</th>\n",
              "      <td>w_air_ls</td>\n",
              "      <td>1.64</td>\n",
              "      <td>fixed</td>\n",
              "    </tr>\n",
              "    <tr>\n",
              "      <th>11</th>\n",
              "      <td>w_gy_ls</td>\n",
              "      <td>0.05</td>\n",
              "      <td>fixed</td>\n",
              "    </tr>\n",
              "    <tr>\n",
              "      <th>12</th>\n",
              "      <td>w_fly_ls</td>\n",
              "      <td>0.33</td>\n",
              "      <td>fixed</td>\n",
              "    </tr>\n",
              "    <tr>\n",
              "      <th>13</th>\n",
              "      <td>w_cl_ls</td>\n",
              "      <td>0.71</td>\n",
              "      <td>fixed</td>\n",
              "    </tr>\n",
              "    <tr>\n",
              "      <th>14</th>\n",
              "      <td>beta_phk</td>\n",
              "      <td>2.97</td>\n",
              "      <td>fixed</td>\n",
              "    </tr>\n",
              "    <tr>\n",
              "      <th>15</th>\n",
              "      <td>eta_plant</td>\n",
              "      <td>0.60</td>\n",
              "      <td>correct</td>\n",
              "    </tr>\n",
              "    <tr>\n",
              "      <th>16</th>\n",
              "      <td>gcv</td>\n",
              "      <td>25.00</td>\n",
              "      <td>fixed</td>\n",
              "    </tr>\n",
              "    <tr>\n",
              "      <th>17</th>\n",
              "      <td>eta_kiln</td>\n",
              "      <td>0.95</td>\n",
              "      <td>float</td>\n",
              "    </tr>\n",
              "    <tr>\n",
              "      <th>18</th>\n",
              "      <td>mol_wt_co2</td>\n",
              "      <td>44.00</td>\n",
              "      <td>fixed</td>\n",
              "    </tr>\n",
              "    <tr>\n",
              "      <th>19</th>\n",
              "      <td>mol_wt_c</td>\n",
              "      <td>12.00</td>\n",
              "      <td>fixed</td>\n",
              "    </tr>\n",
              "  </tbody>\n",
              "</table>\n",
              "</div>\n",
              "      <button class=\"colab-df-convert\" onclick=\"convertToInteractive('df-a42a02d9-533a-461f-89a3-f3505479994e')\"\n",
              "              title=\"Convert this dataframe to an interactive table.\"\n",
              "              style=\"display:none;\">\n",
              "        \n",
              "  <svg xmlns=\"http://www.w3.org/2000/svg\" height=\"24px\"viewBox=\"0 0 24 24\"\n",
              "       width=\"24px\">\n",
              "    <path d=\"M0 0h24v24H0V0z\" fill=\"none\"/>\n",
              "    <path d=\"M18.56 5.44l.94 2.06.94-2.06 2.06-.94-2.06-.94-.94-2.06-.94 2.06-2.06.94zm-11 1L8.5 8.5l.94-2.06 2.06-.94-2.06-.94L8.5 2.5l-.94 2.06-2.06.94zm10 10l.94 2.06.94-2.06 2.06-.94-2.06-.94-.94-2.06-.94 2.06-2.06.94z\"/><path d=\"M17.41 7.96l-1.37-1.37c-.4-.4-.92-.59-1.43-.59-.52 0-1.04.2-1.43.59L10.3 9.45l-7.72 7.72c-.78.78-.78 2.05 0 2.83L4 21.41c.39.39.9.59 1.41.59.51 0 1.02-.2 1.41-.59l7.78-7.78 2.81-2.81c.8-.78.8-2.07 0-2.86zM5.41 20L4 18.59l7.72-7.72 1.47 1.35L5.41 20z\"/>\n",
              "  </svg>\n",
              "      </button>\n",
              "      \n",
              "  <style>\n",
              "    .colab-df-container {\n",
              "      display:flex;\n",
              "      flex-wrap:wrap;\n",
              "      gap: 12px;\n",
              "    }\n",
              "\n",
              "    .colab-df-convert {\n",
              "      background-color: #E8F0FE;\n",
              "      border: none;\n",
              "      border-radius: 50%;\n",
              "      cursor: pointer;\n",
              "      display: none;\n",
              "      fill: #1967D2;\n",
              "      height: 32px;\n",
              "      padding: 0 0 0 0;\n",
              "      width: 32px;\n",
              "    }\n",
              "\n",
              "    .colab-df-convert:hover {\n",
              "      background-color: #E2EBFA;\n",
              "      box-shadow: 0px 1px 2px rgba(60, 64, 67, 0.3), 0px 1px 3px 1px rgba(60, 64, 67, 0.15);\n",
              "      fill: #174EA6;\n",
              "    }\n",
              "\n",
              "    [theme=dark] .colab-df-convert {\n",
              "      background-color: #3B4455;\n",
              "      fill: #D2E3FC;\n",
              "    }\n",
              "\n",
              "    [theme=dark] .colab-df-convert:hover {\n",
              "      background-color: #434B5C;\n",
              "      box-shadow: 0px 1px 3px 1px rgba(0, 0, 0, 0.15);\n",
              "      filter: drop-shadow(0px 1px 2px rgba(0, 0, 0, 0.3));\n",
              "      fill: #FFFFFF;\n",
              "    }\n",
              "  </style>\n",
              "\n",
              "      <script>\n",
              "        const buttonEl =\n",
              "          document.querySelector('#df-a42a02d9-533a-461f-89a3-f3505479994e button.colab-df-convert');\n",
              "        buttonEl.style.display =\n",
              "          google.colab.kernel.accessAllowed ? 'block' : 'none';\n",
              "\n",
              "        async function convertToInteractive(key) {\n",
              "          const element = document.querySelector('#df-a42a02d9-533a-461f-89a3-f3505479994e');\n",
              "          const dataTable =\n",
              "            await google.colab.kernel.invokeFunction('convertToInteractive',\n",
              "                                                     [key], {});\n",
              "          if (!dataTable) return;\n",
              "\n",
              "          const docLinkHtml = 'Like what you see? Visit the ' +\n",
              "            '<a target=\"_blank\" href=https://colab.research.google.com/notebooks/data_table.ipynb>data table notebook</a>'\n",
              "            + ' to learn more about interactive tables.';\n",
              "          element.innerHTML = '';\n",
              "          dataTable['output_type'] = 'display_data';\n",
              "          await google.colab.output.renderOutput(dataTable, element);\n",
              "          const docLink = document.createElement('div');\n",
              "          docLink.innerHTML = docLinkHtml;\n",
              "          element.appendChild(docLink);\n",
              "        }\n",
              "      </script>\n",
              "    </div>\n",
              "  </div>\n",
              "  "
            ]
          },
          "metadata": {},
          "execution_count": 197
        }
      ]
    },
    {
      "cell_type": "code",
      "source": [
        "correct_params_df = parameters_df.loc[parameters_df['type'] == 'correct', ['parameters','values']]"
      ],
      "metadata": {
        "id": "WVdhV5Ou6Oyb"
      },
      "execution_count": 198,
      "outputs": []
    },
    {
      "cell_type": "code",
      "source": [
        "correct_params_df"
      ],
      "metadata": {
        "colab": {
          "base_uri": "https://localhost:8080/",
          "height": 81
        },
        "id": "3Kpv3dLP7Rhm",
        "outputId": "5feecdf6-cb74-4198-fdd2-5baa4221bb30"
      },
      "execution_count": 199,
      "outputs": [
        {
          "output_type": "execute_result",
          "data": {
            "text/plain": [
              "   parameters  values\n",
              "15  eta_plant     0.6"
            ],
            "text/html": [
              "\n",
              "  <div id=\"df-bf2b69fe-dae4-4e2f-bcb4-7ad2a93213a5\">\n",
              "    <div class=\"colab-df-container\">\n",
              "      <div>\n",
              "<style scoped>\n",
              "    .dataframe tbody tr th:only-of-type {\n",
              "        vertical-align: middle;\n",
              "    }\n",
              "\n",
              "    .dataframe tbody tr th {\n",
              "        vertical-align: top;\n",
              "    }\n",
              "\n",
              "    .dataframe thead th {\n",
              "        text-align: right;\n",
              "    }\n",
              "</style>\n",
              "<table border=\"1\" class=\"dataframe\">\n",
              "  <thead>\n",
              "    <tr style=\"text-align: right;\">\n",
              "      <th></th>\n",
              "      <th>parameters</th>\n",
              "      <th>values</th>\n",
              "    </tr>\n",
              "  </thead>\n",
              "  <tbody>\n",
              "    <tr>\n",
              "      <th>15</th>\n",
              "      <td>eta_plant</td>\n",
              "      <td>0.6</td>\n",
              "    </tr>\n",
              "  </tbody>\n",
              "</table>\n",
              "</div>\n",
              "      <button class=\"colab-df-convert\" onclick=\"convertToInteractive('df-bf2b69fe-dae4-4e2f-bcb4-7ad2a93213a5')\"\n",
              "              title=\"Convert this dataframe to an interactive table.\"\n",
              "              style=\"display:none;\">\n",
              "        \n",
              "  <svg xmlns=\"http://www.w3.org/2000/svg\" height=\"24px\"viewBox=\"0 0 24 24\"\n",
              "       width=\"24px\">\n",
              "    <path d=\"M0 0h24v24H0V0z\" fill=\"none\"/>\n",
              "    <path d=\"M18.56 5.44l.94 2.06.94-2.06 2.06-.94-2.06-.94-.94-2.06-.94 2.06-2.06.94zm-11 1L8.5 8.5l.94-2.06 2.06-.94-2.06-.94L8.5 2.5l-.94 2.06-2.06.94zm10 10l.94 2.06.94-2.06 2.06-.94-2.06-.94-.94-2.06-.94 2.06-2.06.94z\"/><path d=\"M17.41 7.96l-1.37-1.37c-.4-.4-.92-.59-1.43-.59-.52 0-1.04.2-1.43.59L10.3 9.45l-7.72 7.72c-.78.78-.78 2.05 0 2.83L4 21.41c.39.39.9.59 1.41.59.51 0 1.02-.2 1.41-.59l7.78-7.78 2.81-2.81c.8-.78.8-2.07 0-2.86zM5.41 20L4 18.59l7.72-7.72 1.47 1.35L5.41 20z\"/>\n",
              "  </svg>\n",
              "      </button>\n",
              "      \n",
              "  <style>\n",
              "    .colab-df-container {\n",
              "      display:flex;\n",
              "      flex-wrap:wrap;\n",
              "      gap: 12px;\n",
              "    }\n",
              "\n",
              "    .colab-df-convert {\n",
              "      background-color: #E8F0FE;\n",
              "      border: none;\n",
              "      border-radius: 50%;\n",
              "      cursor: pointer;\n",
              "      display: none;\n",
              "      fill: #1967D2;\n",
              "      height: 32px;\n",
              "      padding: 0 0 0 0;\n",
              "      width: 32px;\n",
              "    }\n",
              "\n",
              "    .colab-df-convert:hover {\n",
              "      background-color: #E2EBFA;\n",
              "      box-shadow: 0px 1px 2px rgba(60, 64, 67, 0.3), 0px 1px 3px 1px rgba(60, 64, 67, 0.15);\n",
              "      fill: #174EA6;\n",
              "    }\n",
              "\n",
              "    [theme=dark] .colab-df-convert {\n",
              "      background-color: #3B4455;\n",
              "      fill: #D2E3FC;\n",
              "    }\n",
              "\n",
              "    [theme=dark] .colab-df-convert:hover {\n",
              "      background-color: #434B5C;\n",
              "      box-shadow: 0px 1px 3px 1px rgba(0, 0, 0, 0.15);\n",
              "      filter: drop-shadow(0px 1px 2px rgba(0, 0, 0, 0.3));\n",
              "      fill: #FFFFFF;\n",
              "    }\n",
              "  </style>\n",
              "\n",
              "      <script>\n",
              "        const buttonEl =\n",
              "          document.querySelector('#df-bf2b69fe-dae4-4e2f-bcb4-7ad2a93213a5 button.colab-df-convert');\n",
              "        buttonEl.style.display =\n",
              "          google.colab.kernel.accessAllowed ? 'block' : 'none';\n",
              "\n",
              "        async function convertToInteractive(key) {\n",
              "          const element = document.querySelector('#df-bf2b69fe-dae4-4e2f-bcb4-7ad2a93213a5');\n",
              "          const dataTable =\n",
              "            await google.colab.kernel.invokeFunction('convertToInteractive',\n",
              "                                                     [key], {});\n",
              "          if (!dataTable) return;\n",
              "\n",
              "          const docLinkHtml = 'Like what you see? Visit the ' +\n",
              "            '<a target=\"_blank\" href=https://colab.research.google.com/notebooks/data_table.ipynb>data table notebook</a>'\n",
              "            + ' to learn more about interactive tables.';\n",
              "          element.innerHTML = '';\n",
              "          dataTable['output_type'] = 'display_data';\n",
              "          await google.colab.output.renderOutput(dataTable, element);\n",
              "          const docLink = document.createElement('div');\n",
              "          docLink.innerHTML = docLinkHtml;\n",
              "          element.appendChild(docLink);\n",
              "        }\n",
              "      </script>\n",
              "    </div>\n",
              "  </div>\n",
              "  "
            ]
          },
          "metadata": {},
          "execution_count": 199
        }
      ]
    },
    {
      "cell_type": "code",
      "source": [
        "variables_df = pd.read_csv('variables')\n",
        "variables_df"
      ],
      "metadata": {
        "colab": {
          "base_uri": "https://localhost:8080/",
          "height": 582
        },
        "id": "y7LQDv_junnM",
        "outputId": "8470385e-ce35-4ae4-e187-6c602ffab3da"
      },
      "execution_count": 200,
      "outputs": [
        {
          "output_type": "execute_result",
          "data": {
            "text/plain": [
              "       variables  values     type\n",
              "0           m_ls     100  correct\n",
              "1           m_rm       0    float\n",
              "2      m_rawmeal       0    float\n",
              "3        m_pcoal       0    float\n",
              "4      m_phk_air       0    float\n",
              "5   m_hotclinker       0    float\n",
              "6     m_stackgas       0    float\n",
              "7      m_clinker       0    float\n",
              "8       m_cement       0    float\n",
              "9   m_cooler_air       0    float\n",
              "10     e_crusher       0    float\n",
              "11     e_rawmill       0    float\n",
              "12    e_coalmill       0    float\n",
              "13   e_phk_total       0    float\n",
              "14      e_cooler       0    float\n",
              "15  e_cementmill       0    float\n",
              "16         m_co2       0    float"
            ],
            "text/html": [
              "\n",
              "  <div id=\"df-2a6200eb-1ded-4146-9011-b22eb1e14f8d\">\n",
              "    <div class=\"colab-df-container\">\n",
              "      <div>\n",
              "<style scoped>\n",
              "    .dataframe tbody tr th:only-of-type {\n",
              "        vertical-align: middle;\n",
              "    }\n",
              "\n",
              "    .dataframe tbody tr th {\n",
              "        vertical-align: top;\n",
              "    }\n",
              "\n",
              "    .dataframe thead th {\n",
              "        text-align: right;\n",
              "    }\n",
              "</style>\n",
              "<table border=\"1\" class=\"dataframe\">\n",
              "  <thead>\n",
              "    <tr style=\"text-align: right;\">\n",
              "      <th></th>\n",
              "      <th>variables</th>\n",
              "      <th>values</th>\n",
              "      <th>type</th>\n",
              "    </tr>\n",
              "  </thead>\n",
              "  <tbody>\n",
              "    <tr>\n",
              "      <th>0</th>\n",
              "      <td>m_ls</td>\n",
              "      <td>100</td>\n",
              "      <td>correct</td>\n",
              "    </tr>\n",
              "    <tr>\n",
              "      <th>1</th>\n",
              "      <td>m_rm</td>\n",
              "      <td>0</td>\n",
              "      <td>float</td>\n",
              "    </tr>\n",
              "    <tr>\n",
              "      <th>2</th>\n",
              "      <td>m_rawmeal</td>\n",
              "      <td>0</td>\n",
              "      <td>float</td>\n",
              "    </tr>\n",
              "    <tr>\n",
              "      <th>3</th>\n",
              "      <td>m_pcoal</td>\n",
              "      <td>0</td>\n",
              "      <td>float</td>\n",
              "    </tr>\n",
              "    <tr>\n",
              "      <th>4</th>\n",
              "      <td>m_phk_air</td>\n",
              "      <td>0</td>\n",
              "      <td>float</td>\n",
              "    </tr>\n",
              "    <tr>\n",
              "      <th>5</th>\n",
              "      <td>m_hotclinker</td>\n",
              "      <td>0</td>\n",
              "      <td>float</td>\n",
              "    </tr>\n",
              "    <tr>\n",
              "      <th>6</th>\n",
              "      <td>m_stackgas</td>\n",
              "      <td>0</td>\n",
              "      <td>float</td>\n",
              "    </tr>\n",
              "    <tr>\n",
              "      <th>7</th>\n",
              "      <td>m_clinker</td>\n",
              "      <td>0</td>\n",
              "      <td>float</td>\n",
              "    </tr>\n",
              "    <tr>\n",
              "      <th>8</th>\n",
              "      <td>m_cement</td>\n",
              "      <td>0</td>\n",
              "      <td>float</td>\n",
              "    </tr>\n",
              "    <tr>\n",
              "      <th>9</th>\n",
              "      <td>m_cooler_air</td>\n",
              "      <td>0</td>\n",
              "      <td>float</td>\n",
              "    </tr>\n",
              "    <tr>\n",
              "      <th>10</th>\n",
              "      <td>e_crusher</td>\n",
              "      <td>0</td>\n",
              "      <td>float</td>\n",
              "    </tr>\n",
              "    <tr>\n",
              "      <th>11</th>\n",
              "      <td>e_rawmill</td>\n",
              "      <td>0</td>\n",
              "      <td>float</td>\n",
              "    </tr>\n",
              "    <tr>\n",
              "      <th>12</th>\n",
              "      <td>e_coalmill</td>\n",
              "      <td>0</td>\n",
              "      <td>float</td>\n",
              "    </tr>\n",
              "    <tr>\n",
              "      <th>13</th>\n",
              "      <td>e_phk_total</td>\n",
              "      <td>0</td>\n",
              "      <td>float</td>\n",
              "    </tr>\n",
              "    <tr>\n",
              "      <th>14</th>\n",
              "      <td>e_cooler</td>\n",
              "      <td>0</td>\n",
              "      <td>float</td>\n",
              "    </tr>\n",
              "    <tr>\n",
              "      <th>15</th>\n",
              "      <td>e_cementmill</td>\n",
              "      <td>0</td>\n",
              "      <td>float</td>\n",
              "    </tr>\n",
              "    <tr>\n",
              "      <th>16</th>\n",
              "      <td>m_co2</td>\n",
              "      <td>0</td>\n",
              "      <td>float</td>\n",
              "    </tr>\n",
              "  </tbody>\n",
              "</table>\n",
              "</div>\n",
              "      <button class=\"colab-df-convert\" onclick=\"convertToInteractive('df-2a6200eb-1ded-4146-9011-b22eb1e14f8d')\"\n",
              "              title=\"Convert this dataframe to an interactive table.\"\n",
              "              style=\"display:none;\">\n",
              "        \n",
              "  <svg xmlns=\"http://www.w3.org/2000/svg\" height=\"24px\"viewBox=\"0 0 24 24\"\n",
              "       width=\"24px\">\n",
              "    <path d=\"M0 0h24v24H0V0z\" fill=\"none\"/>\n",
              "    <path d=\"M18.56 5.44l.94 2.06.94-2.06 2.06-.94-2.06-.94-.94-2.06-.94 2.06-2.06.94zm-11 1L8.5 8.5l.94-2.06 2.06-.94-2.06-.94L8.5 2.5l-.94 2.06-2.06.94zm10 10l.94 2.06.94-2.06 2.06-.94-2.06-.94-.94-2.06-.94 2.06-2.06.94z\"/><path d=\"M17.41 7.96l-1.37-1.37c-.4-.4-.92-.59-1.43-.59-.52 0-1.04.2-1.43.59L10.3 9.45l-7.72 7.72c-.78.78-.78 2.05 0 2.83L4 21.41c.39.39.9.59 1.41.59.51 0 1.02-.2 1.41-.59l7.78-7.78 2.81-2.81c.8-.78.8-2.07 0-2.86zM5.41 20L4 18.59l7.72-7.72 1.47 1.35L5.41 20z\"/>\n",
              "  </svg>\n",
              "      </button>\n",
              "      \n",
              "  <style>\n",
              "    .colab-df-container {\n",
              "      display:flex;\n",
              "      flex-wrap:wrap;\n",
              "      gap: 12px;\n",
              "    }\n",
              "\n",
              "    .colab-df-convert {\n",
              "      background-color: #E8F0FE;\n",
              "      border: none;\n",
              "      border-radius: 50%;\n",
              "      cursor: pointer;\n",
              "      display: none;\n",
              "      fill: #1967D2;\n",
              "      height: 32px;\n",
              "      padding: 0 0 0 0;\n",
              "      width: 32px;\n",
              "    }\n",
              "\n",
              "    .colab-df-convert:hover {\n",
              "      background-color: #E2EBFA;\n",
              "      box-shadow: 0px 1px 2px rgba(60, 64, 67, 0.3), 0px 1px 3px 1px rgba(60, 64, 67, 0.15);\n",
              "      fill: #174EA6;\n",
              "    }\n",
              "\n",
              "    [theme=dark] .colab-df-convert {\n",
              "      background-color: #3B4455;\n",
              "      fill: #D2E3FC;\n",
              "    }\n",
              "\n",
              "    [theme=dark] .colab-df-convert:hover {\n",
              "      background-color: #434B5C;\n",
              "      box-shadow: 0px 1px 3px 1px rgba(0, 0, 0, 0.15);\n",
              "      filter: drop-shadow(0px 1px 2px rgba(0, 0, 0, 0.3));\n",
              "      fill: #FFFFFF;\n",
              "    }\n",
              "  </style>\n",
              "\n",
              "      <script>\n",
              "        const buttonEl =\n",
              "          document.querySelector('#df-2a6200eb-1ded-4146-9011-b22eb1e14f8d button.colab-df-convert');\n",
              "        buttonEl.style.display =\n",
              "          google.colab.kernel.accessAllowed ? 'block' : 'none';\n",
              "\n",
              "        async function convertToInteractive(key) {\n",
              "          const element = document.querySelector('#df-2a6200eb-1ded-4146-9011-b22eb1e14f8d');\n",
              "          const dataTable =\n",
              "            await google.colab.kernel.invokeFunction('convertToInteractive',\n",
              "                                                     [key], {});\n",
              "          if (!dataTable) return;\n",
              "\n",
              "          const docLinkHtml = 'Like what you see? Visit the ' +\n",
              "            '<a target=\"_blank\" href=https://colab.research.google.com/notebooks/data_table.ipynb>data table notebook</a>'\n",
              "            + ' to learn more about interactive tables.';\n",
              "          element.innerHTML = '';\n",
              "          dataTable['output_type'] = 'display_data';\n",
              "          await google.colab.output.renderOutput(dataTable, element);\n",
              "          const docLink = document.createElement('div');\n",
              "          docLink.innerHTML = docLinkHtml;\n",
              "          element.appendChild(docLink);\n",
              "        }\n",
              "      </script>\n",
              "    </div>\n",
              "  </div>\n",
              "  "
            ]
          },
          "metadata": {},
          "execution_count": 200
        }
      ]
    },
    {
      "cell_type": "code",
      "source": [
        "correct_vars_df = variables_df.loc[variables_df['type'] == 'correct', ['variables','values']]"
      ],
      "metadata": {
        "id": "3xNPPMMbM-4d"
      },
      "execution_count": 201,
      "outputs": []
    },
    {
      "cell_type": "code",
      "source": [
        "correct_vars_df"
      ],
      "metadata": {
        "colab": {
          "base_uri": "https://localhost:8080/",
          "height": 81
        },
        "id": "O41w7NYqQplV",
        "outputId": "e78a096c-708f-4856-d2b9-6cd7e9da79d0"
      },
      "execution_count": 202,
      "outputs": [
        {
          "output_type": "execute_result",
          "data": {
            "text/plain": [
              "  variables  values\n",
              "0      m_ls     100"
            ],
            "text/html": [
              "\n",
              "  <div id=\"df-0d677a84-3008-4ba9-a134-b722ae211596\">\n",
              "    <div class=\"colab-df-container\">\n",
              "      <div>\n",
              "<style scoped>\n",
              "    .dataframe tbody tr th:only-of-type {\n",
              "        vertical-align: middle;\n",
              "    }\n",
              "\n",
              "    .dataframe tbody tr th {\n",
              "        vertical-align: top;\n",
              "    }\n",
              "\n",
              "    .dataframe thead th {\n",
              "        text-align: right;\n",
              "    }\n",
              "</style>\n",
              "<table border=\"1\" class=\"dataframe\">\n",
              "  <thead>\n",
              "    <tr style=\"text-align: right;\">\n",
              "      <th></th>\n",
              "      <th>variables</th>\n",
              "      <th>values</th>\n",
              "    </tr>\n",
              "  </thead>\n",
              "  <tbody>\n",
              "    <tr>\n",
              "      <th>0</th>\n",
              "      <td>m_ls</td>\n",
              "      <td>100</td>\n",
              "    </tr>\n",
              "  </tbody>\n",
              "</table>\n",
              "</div>\n",
              "      <button class=\"colab-df-convert\" onclick=\"convertToInteractive('df-0d677a84-3008-4ba9-a134-b722ae211596')\"\n",
              "              title=\"Convert this dataframe to an interactive table.\"\n",
              "              style=\"display:none;\">\n",
              "        \n",
              "  <svg xmlns=\"http://www.w3.org/2000/svg\" height=\"24px\"viewBox=\"0 0 24 24\"\n",
              "       width=\"24px\">\n",
              "    <path d=\"M0 0h24v24H0V0z\" fill=\"none\"/>\n",
              "    <path d=\"M18.56 5.44l.94 2.06.94-2.06 2.06-.94-2.06-.94-.94-2.06-.94 2.06-2.06.94zm-11 1L8.5 8.5l.94-2.06 2.06-.94-2.06-.94L8.5 2.5l-.94 2.06-2.06.94zm10 10l.94 2.06.94-2.06 2.06-.94-2.06-.94-.94-2.06-.94 2.06-2.06.94z\"/><path d=\"M17.41 7.96l-1.37-1.37c-.4-.4-.92-.59-1.43-.59-.52 0-1.04.2-1.43.59L10.3 9.45l-7.72 7.72c-.78.78-.78 2.05 0 2.83L4 21.41c.39.39.9.59 1.41.59.51 0 1.02-.2 1.41-.59l7.78-7.78 2.81-2.81c.8-.78.8-2.07 0-2.86zM5.41 20L4 18.59l7.72-7.72 1.47 1.35L5.41 20z\"/>\n",
              "  </svg>\n",
              "      </button>\n",
              "      \n",
              "  <style>\n",
              "    .colab-df-container {\n",
              "      display:flex;\n",
              "      flex-wrap:wrap;\n",
              "      gap: 12px;\n",
              "    }\n",
              "\n",
              "    .colab-df-convert {\n",
              "      background-color: #E8F0FE;\n",
              "      border: none;\n",
              "      border-radius: 50%;\n",
              "      cursor: pointer;\n",
              "      display: none;\n",
              "      fill: #1967D2;\n",
              "      height: 32px;\n",
              "      padding: 0 0 0 0;\n",
              "      width: 32px;\n",
              "    }\n",
              "\n",
              "    .colab-df-convert:hover {\n",
              "      background-color: #E2EBFA;\n",
              "      box-shadow: 0px 1px 2px rgba(60, 64, 67, 0.3), 0px 1px 3px 1px rgba(60, 64, 67, 0.15);\n",
              "      fill: #174EA6;\n",
              "    }\n",
              "\n",
              "    [theme=dark] .colab-df-convert {\n",
              "      background-color: #3B4455;\n",
              "      fill: #D2E3FC;\n",
              "    }\n",
              "\n",
              "    [theme=dark] .colab-df-convert:hover {\n",
              "      background-color: #434B5C;\n",
              "      box-shadow: 0px 1px 3px 1px rgba(0, 0, 0, 0.15);\n",
              "      filter: drop-shadow(0px 1px 2px rgba(0, 0, 0, 0.3));\n",
              "      fill: #FFFFFF;\n",
              "    }\n",
              "  </style>\n",
              "\n",
              "      <script>\n",
              "        const buttonEl =\n",
              "          document.querySelector('#df-0d677a84-3008-4ba9-a134-b722ae211596 button.colab-df-convert');\n",
              "        buttonEl.style.display =\n",
              "          google.colab.kernel.accessAllowed ? 'block' : 'none';\n",
              "\n",
              "        async function convertToInteractive(key) {\n",
              "          const element = document.querySelector('#df-0d677a84-3008-4ba9-a134-b722ae211596');\n",
              "          const dataTable =\n",
              "            await google.colab.kernel.invokeFunction('convertToInteractive',\n",
              "                                                     [key], {});\n",
              "          if (!dataTable) return;\n",
              "\n",
              "          const docLinkHtml = 'Like what you see? Visit the ' +\n",
              "            '<a target=\"_blank\" href=https://colab.research.google.com/notebooks/data_table.ipynb>data table notebook</a>'\n",
              "            + ' to learn more about interactive tables.';\n",
              "          element.innerHTML = '';\n",
              "          dataTable['output_type'] = 'display_data';\n",
              "          await google.colab.output.renderOutput(dataTable, element);\n",
              "          const docLink = document.createElement('div');\n",
              "          docLink.innerHTML = docLinkHtml;\n",
              "          element.appendChild(docLink);\n",
              "        }\n",
              "      </script>\n",
              "    </div>\n",
              "  </div>\n",
              "  "
            ]
          },
          "metadata": {},
          "execution_count": 202
        }
      ]
    },
    {
      "cell_type": "code",
      "source": [
        "'''concatinating the dataframes containing correct variables and parameters'''\n",
        "\n",
        "correct_params_df_copy = correct_params_df.copy()\n",
        "correct_params_df_copy = correct_params_df_copy.rename(columns={'parameters': 'variables'})\n",
        "correct_df = pd.concat([correct_vars_df, correct_params_df_copy])\n",
        "correct_df = correct_df.reset_index(drop=True)"
      ],
      "metadata": {
        "id": "PpXclqxLuciQ"
      },
      "execution_count": 203,
      "outputs": []
    },
    {
      "cell_type": "code",
      "source": [
        "correct_df"
      ],
      "metadata": {
        "colab": {
          "base_uri": "https://localhost:8080/",
          "height": 112
        },
        "id": "i3YmfzI6ujZA",
        "outputId": "a9940c6d-a5a1-408c-ed1b-ef6238eabab8"
      },
      "execution_count": 204,
      "outputs": [
        {
          "output_type": "execute_result",
          "data": {
            "text/plain": [
              "   variables  values\n",
              "0       m_ls   100.0\n",
              "1  eta_plant     0.6"
            ],
            "text/html": [
              "\n",
              "  <div id=\"df-3ed3c23f-2c4c-4710-b89d-b727e55735de\">\n",
              "    <div class=\"colab-df-container\">\n",
              "      <div>\n",
              "<style scoped>\n",
              "    .dataframe tbody tr th:only-of-type {\n",
              "        vertical-align: middle;\n",
              "    }\n",
              "\n",
              "    .dataframe tbody tr th {\n",
              "        vertical-align: top;\n",
              "    }\n",
              "\n",
              "    .dataframe thead th {\n",
              "        text-align: right;\n",
              "    }\n",
              "</style>\n",
              "<table border=\"1\" class=\"dataframe\">\n",
              "  <thead>\n",
              "    <tr style=\"text-align: right;\">\n",
              "      <th></th>\n",
              "      <th>variables</th>\n",
              "      <th>values</th>\n",
              "    </tr>\n",
              "  </thead>\n",
              "  <tbody>\n",
              "    <tr>\n",
              "      <th>0</th>\n",
              "      <td>m_ls</td>\n",
              "      <td>100.0</td>\n",
              "    </tr>\n",
              "    <tr>\n",
              "      <th>1</th>\n",
              "      <td>eta_plant</td>\n",
              "      <td>0.6</td>\n",
              "    </tr>\n",
              "  </tbody>\n",
              "</table>\n",
              "</div>\n",
              "      <button class=\"colab-df-convert\" onclick=\"convertToInteractive('df-3ed3c23f-2c4c-4710-b89d-b727e55735de')\"\n",
              "              title=\"Convert this dataframe to an interactive table.\"\n",
              "              style=\"display:none;\">\n",
              "        \n",
              "  <svg xmlns=\"http://www.w3.org/2000/svg\" height=\"24px\"viewBox=\"0 0 24 24\"\n",
              "       width=\"24px\">\n",
              "    <path d=\"M0 0h24v24H0V0z\" fill=\"none\"/>\n",
              "    <path d=\"M18.56 5.44l.94 2.06.94-2.06 2.06-.94-2.06-.94-.94-2.06-.94 2.06-2.06.94zm-11 1L8.5 8.5l.94-2.06 2.06-.94-2.06-.94L8.5 2.5l-.94 2.06-2.06.94zm10 10l.94 2.06.94-2.06 2.06-.94-2.06-.94-.94-2.06-.94 2.06-2.06.94z\"/><path d=\"M17.41 7.96l-1.37-1.37c-.4-.4-.92-.59-1.43-.59-.52 0-1.04.2-1.43.59L10.3 9.45l-7.72 7.72c-.78.78-.78 2.05 0 2.83L4 21.41c.39.39.9.59 1.41.59.51 0 1.02-.2 1.41-.59l7.78-7.78 2.81-2.81c.8-.78.8-2.07 0-2.86zM5.41 20L4 18.59l7.72-7.72 1.47 1.35L5.41 20z\"/>\n",
              "  </svg>\n",
              "      </button>\n",
              "      \n",
              "  <style>\n",
              "    .colab-df-container {\n",
              "      display:flex;\n",
              "      flex-wrap:wrap;\n",
              "      gap: 12px;\n",
              "    }\n",
              "\n",
              "    .colab-df-convert {\n",
              "      background-color: #E8F0FE;\n",
              "      border: none;\n",
              "      border-radius: 50%;\n",
              "      cursor: pointer;\n",
              "      display: none;\n",
              "      fill: #1967D2;\n",
              "      height: 32px;\n",
              "      padding: 0 0 0 0;\n",
              "      width: 32px;\n",
              "    }\n",
              "\n",
              "    .colab-df-convert:hover {\n",
              "      background-color: #E2EBFA;\n",
              "      box-shadow: 0px 1px 2px rgba(60, 64, 67, 0.3), 0px 1px 3px 1px rgba(60, 64, 67, 0.15);\n",
              "      fill: #174EA6;\n",
              "    }\n",
              "\n",
              "    [theme=dark] .colab-df-convert {\n",
              "      background-color: #3B4455;\n",
              "      fill: #D2E3FC;\n",
              "    }\n",
              "\n",
              "    [theme=dark] .colab-df-convert:hover {\n",
              "      background-color: #434B5C;\n",
              "      box-shadow: 0px 1px 3px 1px rgba(0, 0, 0, 0.15);\n",
              "      filter: drop-shadow(0px 1px 2px rgba(0, 0, 0, 0.3));\n",
              "      fill: #FFFFFF;\n",
              "    }\n",
              "  </style>\n",
              "\n",
              "      <script>\n",
              "        const buttonEl =\n",
              "          document.querySelector('#df-3ed3c23f-2c4c-4710-b89d-b727e55735de button.colab-df-convert');\n",
              "        buttonEl.style.display =\n",
              "          google.colab.kernel.accessAllowed ? 'block' : 'none';\n",
              "\n",
              "        async function convertToInteractive(key) {\n",
              "          const element = document.querySelector('#df-3ed3c23f-2c4c-4710-b89d-b727e55735de');\n",
              "          const dataTable =\n",
              "            await google.colab.kernel.invokeFunction('convertToInteractive',\n",
              "                                                     [key], {});\n",
              "          if (!dataTable) return;\n",
              "\n",
              "          const docLinkHtml = 'Like what you see? Visit the ' +\n",
              "            '<a target=\"_blank\" href=https://colab.research.google.com/notebooks/data_table.ipynb>data table notebook</a>'\n",
              "            + ' to learn more about interactive tables.';\n",
              "          element.innerHTML = '';\n",
              "          dataTable['output_type'] = 'display_data';\n",
              "          await google.colab.output.renderOutput(dataTable, element);\n",
              "          const docLink = document.createElement('div');\n",
              "          docLink.innerHTML = docLinkHtml;\n",
              "          element.appendChild(docLink);\n",
              "        }\n",
              "      </script>\n",
              "    </div>\n",
              "  </div>\n",
              "  "
            ]
          },
          "metadata": {},
          "execution_count": 204
        }
      ]
    },
    {
      "cell_type": "code",
      "source": [
        "decision_var_list = []\n",
        "static_var_list = []"
      ],
      "metadata": {
        "id": "stNdL0XcKeX8"
      },
      "execution_count": 205,
      "outputs": []
    },
    {
      "cell_type": "code",
      "source": [
        "''' The following lines of code checks if the variable is set to fixed, float or correctable.\n",
        "    fixed = variable value is fixed\n",
        "    float = variable is part of the decision variable. Value assigned for variable is discarded\n",
        "    correct = variable is changed by a small margin by making it a decision variable and applying a tolerance (using bounds).\n",
        "    variable value is not discarded.'''\n",
        "\n",
        "float_vars = variables_df.loc[variables_df['type'].isin(['float']), 'variables'].tolist()\n",
        "decision_var_list.extend(float_vars) # float params is added to decision variables list\n",
        "correct_vars = variables_df.loc[variables_df['type'].isin(['correct']), 'variables'].tolist()\n",
        "decision_var_list.extend(correct_vars) # correct params are added to decision variables list\n",
        "variables_df = variables_df[~variables_df['variables'].isin(float_vars + correct_vars)] # deleting parameters that are float and correct from parameters list. This is done so that they don't get substituted"
      ],
      "metadata": {
        "id": "LgSVyRYLCbx3"
      },
      "execution_count": 206,
      "outputs": []
    },
    {
      "cell_type": "code",
      "source": [
        "print(decision_var_list)\n",
        "print(correct_vars)\n",
        "print(variables_df)"
      ],
      "metadata": {
        "colab": {
          "base_uri": "https://localhost:8080/"
        },
        "id": "FEKh5TNiHwYP",
        "outputId": "5aee1b2c-fa7d-4e34-81d9-ec5b078706fc"
      },
      "execution_count": 207,
      "outputs": [
        {
          "output_type": "stream",
          "name": "stdout",
          "text": [
            "['m_rm', 'm_rawmeal', 'm_pcoal', 'm_phk_air', 'm_hotclinker', 'm_stackgas', 'm_clinker', 'm_cement', 'm_cooler_air', 'e_crusher', 'e_rawmill', 'e_coalmill', 'e_phk_total', 'e_cooler', 'e_cementmill', 'm_co2', 'm_ls']\n",
            "['m_ls']\n",
            "Empty DataFrame\n",
            "Columns: [variables, values, type]\n",
            "Index: []\n"
          ]
        }
      ]
    },
    {
      "cell_type": "code",
      "source": [
        "# static_var_list = list(static_var_df['variables'])\n",
        "# decision_var_list = list(decision_var_df['variables'])"
      ],
      "metadata": {
        "id": "i95q64vC4bmU"
      },
      "execution_count": 208,
      "outputs": []
    },
    {
      "cell_type": "code",
      "source": [
        "''' The following lines of code checks if the parameter is set to fixed, float or correctable.\n",
        "    fixed = parameter value is fixed\n",
        "    float = parameter is part of the decision variable. Value of parameter is discarded\n",
        "    correct = parameter is changed by a small margin by making it a decision variable and applying a tolerance (using bounds).\n",
        "    Parameter value is not discarded.'''\n",
        "\n",
        "float_params = parameters_df.loc[parameters_df['type'].isin(['float']), 'parameters'].tolist()\n",
        "decision_var_list.extend(float_params) # float params is added to decision variables list\n",
        "correct_params = parameters_df.loc[parameters_df['type'].isin(['correct']), 'parameters'].tolist()\n",
        "decision_var_list.extend(correct_params) # correct params are added to decision variables list\n",
        "parameters_df = parameters_df[~parameters_df['parameters'].isin(float_params + correct_params)] # deleting parameters that are float and correct from parameters list. This is done so that they don't get substituted"
      ],
      "metadata": {
        "id": "GW4Oe8RoDWOg"
      },
      "execution_count": 209,
      "outputs": []
    },
    {
      "cell_type": "code",
      "source": [
        "print(correct_params)"
      ],
      "metadata": {
        "colab": {
          "base_uri": "https://localhost:8080/"
        },
        "id": "lJ-BwhanXunx",
        "outputId": "c6763c92-dc91-44e2-9e9e-3da98663e8e5"
      },
      "execution_count": 210,
      "outputs": [
        {
          "output_type": "stream",
          "name": "stdout",
          "text": [
            "['eta_plant']\n"
          ]
        }
      ]
    },
    {
      "cell_type": "code",
      "source": [
        "parameters_df"
      ],
      "metadata": {
        "colab": {
          "base_uri": "https://localhost:8080/",
          "height": 614
        },
        "id": "KT70cG1vRzdr",
        "outputId": "09371e4d-220e-463e-c0eb-99f5eb23f3b9"
      },
      "execution_count": 211,
      "outputs": [
        {
          "output_type": "execute_result",
          "data": {
            "text/plain": [
              "        parameters  values   type\n",
              "0      phi_crusher    3.50  fixed\n",
              "1           phi_rm   26.00  fixed\n",
              "2           phi_cm   76.30  fixed\n",
              "3          phi_phk   37.70  fixed\n",
              "4       phi_cooler   37.70  fixed\n",
              "5   phi_cementmill   30.00  fixed\n",
              "6         w_add_ls    0.11  fixed\n",
              "7           w_c_ls    0.06  fixed\n",
              "8         w_c_coal    0.76  fixed\n",
              "9          w_cl_rm    0.64  fixed\n",
              "10        w_air_ls    1.64  fixed\n",
              "11         w_gy_ls    0.05  fixed\n",
              "12        w_fly_ls    0.33  fixed\n",
              "13         w_cl_ls    0.71  fixed\n",
              "14        beta_phk    2.97  fixed\n",
              "16             gcv   25.00  fixed\n",
              "18      mol_wt_co2   44.00  fixed\n",
              "19        mol_wt_c   12.00  fixed"
            ],
            "text/html": [
              "\n",
              "  <div id=\"df-8ad5f377-f144-443b-8c4d-036b7bcda611\">\n",
              "    <div class=\"colab-df-container\">\n",
              "      <div>\n",
              "<style scoped>\n",
              "    .dataframe tbody tr th:only-of-type {\n",
              "        vertical-align: middle;\n",
              "    }\n",
              "\n",
              "    .dataframe tbody tr th {\n",
              "        vertical-align: top;\n",
              "    }\n",
              "\n",
              "    .dataframe thead th {\n",
              "        text-align: right;\n",
              "    }\n",
              "</style>\n",
              "<table border=\"1\" class=\"dataframe\">\n",
              "  <thead>\n",
              "    <tr style=\"text-align: right;\">\n",
              "      <th></th>\n",
              "      <th>parameters</th>\n",
              "      <th>values</th>\n",
              "      <th>type</th>\n",
              "    </tr>\n",
              "  </thead>\n",
              "  <tbody>\n",
              "    <tr>\n",
              "      <th>0</th>\n",
              "      <td>phi_crusher</td>\n",
              "      <td>3.50</td>\n",
              "      <td>fixed</td>\n",
              "    </tr>\n",
              "    <tr>\n",
              "      <th>1</th>\n",
              "      <td>phi_rm</td>\n",
              "      <td>26.00</td>\n",
              "      <td>fixed</td>\n",
              "    </tr>\n",
              "    <tr>\n",
              "      <th>2</th>\n",
              "      <td>phi_cm</td>\n",
              "      <td>76.30</td>\n",
              "      <td>fixed</td>\n",
              "    </tr>\n",
              "    <tr>\n",
              "      <th>3</th>\n",
              "      <td>phi_phk</td>\n",
              "      <td>37.70</td>\n",
              "      <td>fixed</td>\n",
              "    </tr>\n",
              "    <tr>\n",
              "      <th>4</th>\n",
              "      <td>phi_cooler</td>\n",
              "      <td>37.70</td>\n",
              "      <td>fixed</td>\n",
              "    </tr>\n",
              "    <tr>\n",
              "      <th>5</th>\n",
              "      <td>phi_cementmill</td>\n",
              "      <td>30.00</td>\n",
              "      <td>fixed</td>\n",
              "    </tr>\n",
              "    <tr>\n",
              "      <th>6</th>\n",
              "      <td>w_add_ls</td>\n",
              "      <td>0.11</td>\n",
              "      <td>fixed</td>\n",
              "    </tr>\n",
              "    <tr>\n",
              "      <th>7</th>\n",
              "      <td>w_c_ls</td>\n",
              "      <td>0.06</td>\n",
              "      <td>fixed</td>\n",
              "    </tr>\n",
              "    <tr>\n",
              "      <th>8</th>\n",
              "      <td>w_c_coal</td>\n",
              "      <td>0.76</td>\n",
              "      <td>fixed</td>\n",
              "    </tr>\n",
              "    <tr>\n",
              "      <th>9</th>\n",
              "      <td>w_cl_rm</td>\n",
              "      <td>0.64</td>\n",
              "      <td>fixed</td>\n",
              "    </tr>\n",
              "    <tr>\n",
              "      <th>10</th>\n",
              "      <td>w_air_ls</td>\n",
              "      <td>1.64</td>\n",
              "      <td>fixed</td>\n",
              "    </tr>\n",
              "    <tr>\n",
              "      <th>11</th>\n",
              "      <td>w_gy_ls</td>\n",
              "      <td>0.05</td>\n",
              "      <td>fixed</td>\n",
              "    </tr>\n",
              "    <tr>\n",
              "      <th>12</th>\n",
              "      <td>w_fly_ls</td>\n",
              "      <td>0.33</td>\n",
              "      <td>fixed</td>\n",
              "    </tr>\n",
              "    <tr>\n",
              "      <th>13</th>\n",
              "      <td>w_cl_ls</td>\n",
              "      <td>0.71</td>\n",
              "      <td>fixed</td>\n",
              "    </tr>\n",
              "    <tr>\n",
              "      <th>14</th>\n",
              "      <td>beta_phk</td>\n",
              "      <td>2.97</td>\n",
              "      <td>fixed</td>\n",
              "    </tr>\n",
              "    <tr>\n",
              "      <th>16</th>\n",
              "      <td>gcv</td>\n",
              "      <td>25.00</td>\n",
              "      <td>fixed</td>\n",
              "    </tr>\n",
              "    <tr>\n",
              "      <th>18</th>\n",
              "      <td>mol_wt_co2</td>\n",
              "      <td>44.00</td>\n",
              "      <td>fixed</td>\n",
              "    </tr>\n",
              "    <tr>\n",
              "      <th>19</th>\n",
              "      <td>mol_wt_c</td>\n",
              "      <td>12.00</td>\n",
              "      <td>fixed</td>\n",
              "    </tr>\n",
              "  </tbody>\n",
              "</table>\n",
              "</div>\n",
              "      <button class=\"colab-df-convert\" onclick=\"convertToInteractive('df-8ad5f377-f144-443b-8c4d-036b7bcda611')\"\n",
              "              title=\"Convert this dataframe to an interactive table.\"\n",
              "              style=\"display:none;\">\n",
              "        \n",
              "  <svg xmlns=\"http://www.w3.org/2000/svg\" height=\"24px\"viewBox=\"0 0 24 24\"\n",
              "       width=\"24px\">\n",
              "    <path d=\"M0 0h24v24H0V0z\" fill=\"none\"/>\n",
              "    <path d=\"M18.56 5.44l.94 2.06.94-2.06 2.06-.94-2.06-.94-.94-2.06-.94 2.06-2.06.94zm-11 1L8.5 8.5l.94-2.06 2.06-.94-2.06-.94L8.5 2.5l-.94 2.06-2.06.94zm10 10l.94 2.06.94-2.06 2.06-.94-2.06-.94-.94-2.06-.94 2.06-2.06.94z\"/><path d=\"M17.41 7.96l-1.37-1.37c-.4-.4-.92-.59-1.43-.59-.52 0-1.04.2-1.43.59L10.3 9.45l-7.72 7.72c-.78.78-.78 2.05 0 2.83L4 21.41c.39.39.9.59 1.41.59.51 0 1.02-.2 1.41-.59l7.78-7.78 2.81-2.81c.8-.78.8-2.07 0-2.86zM5.41 20L4 18.59l7.72-7.72 1.47 1.35L5.41 20z\"/>\n",
              "  </svg>\n",
              "      </button>\n",
              "      \n",
              "  <style>\n",
              "    .colab-df-container {\n",
              "      display:flex;\n",
              "      flex-wrap:wrap;\n",
              "      gap: 12px;\n",
              "    }\n",
              "\n",
              "    .colab-df-convert {\n",
              "      background-color: #E8F0FE;\n",
              "      border: none;\n",
              "      border-radius: 50%;\n",
              "      cursor: pointer;\n",
              "      display: none;\n",
              "      fill: #1967D2;\n",
              "      height: 32px;\n",
              "      padding: 0 0 0 0;\n",
              "      width: 32px;\n",
              "    }\n",
              "\n",
              "    .colab-df-convert:hover {\n",
              "      background-color: #E2EBFA;\n",
              "      box-shadow: 0px 1px 2px rgba(60, 64, 67, 0.3), 0px 1px 3px 1px rgba(60, 64, 67, 0.15);\n",
              "      fill: #174EA6;\n",
              "    }\n",
              "\n",
              "    [theme=dark] .colab-df-convert {\n",
              "      background-color: #3B4455;\n",
              "      fill: #D2E3FC;\n",
              "    }\n",
              "\n",
              "    [theme=dark] .colab-df-convert:hover {\n",
              "      background-color: #434B5C;\n",
              "      box-shadow: 0px 1px 3px 1px rgba(0, 0, 0, 0.15);\n",
              "      filter: drop-shadow(0px 1px 2px rgba(0, 0, 0, 0.3));\n",
              "      fill: #FFFFFF;\n",
              "    }\n",
              "  </style>\n",
              "\n",
              "      <script>\n",
              "        const buttonEl =\n",
              "          document.querySelector('#df-8ad5f377-f144-443b-8c4d-036b7bcda611 button.colab-df-convert');\n",
              "        buttonEl.style.display =\n",
              "          google.colab.kernel.accessAllowed ? 'block' : 'none';\n",
              "\n",
              "        async function convertToInteractive(key) {\n",
              "          const element = document.querySelector('#df-8ad5f377-f144-443b-8c4d-036b7bcda611');\n",
              "          const dataTable =\n",
              "            await google.colab.kernel.invokeFunction('convertToInteractive',\n",
              "                                                     [key], {});\n",
              "          if (!dataTable) return;\n",
              "\n",
              "          const docLinkHtml = 'Like what you see? Visit the ' +\n",
              "            '<a target=\"_blank\" href=https://colab.research.google.com/notebooks/data_table.ipynb>data table notebook</a>'\n",
              "            + ' to learn more about interactive tables.';\n",
              "          element.innerHTML = '';\n",
              "          dataTable['output_type'] = 'display_data';\n",
              "          await google.colab.output.renderOutput(dataTable, element);\n",
              "          const docLink = document.createElement('div');\n",
              "          docLink.innerHTML = docLinkHtml;\n",
              "          element.appendChild(docLink);\n",
              "        }\n",
              "      </script>\n",
              "    </div>\n",
              "  </div>\n",
              "  "
            ]
          },
          "metadata": {},
          "execution_count": 211
        }
      ]
    },
    {
      "cell_type": "code",
      "source": [
        "print(decision_var_list)"
      ],
      "metadata": {
        "colab": {
          "base_uri": "https://localhost:8080/"
        },
        "id": "HGl15MHYKz_y",
        "outputId": "0e2c0ca5-69d2-440d-b257-e4feb35379b7"
      },
      "execution_count": 212,
      "outputs": [
        {
          "output_type": "stream",
          "name": "stdout",
          "text": [
            "['m_rm', 'm_rawmeal', 'm_pcoal', 'm_phk_air', 'm_hotclinker', 'm_stackgas', 'm_clinker', 'm_cement', 'm_cooler_air', 'e_crusher', 'e_rawmill', 'e_coalmill', 'e_phk_total', 'e_cooler', 'e_cementmill', 'm_co2', 'm_ls', 'eta_kiln', 'eta_plant']\n"
          ]
        }
      ]
    },
    {
      "cell_type": "code",
      "execution_count": 213,
      "metadata": {
        "id": "CRaZZlk6R1NJ"
      },
      "outputs": [],
      "source": [
        "with open('equations', 'r') as f:\n",
        "    # Read the equations line by line\n",
        "    eq_lines = f.readlines()"
      ]
    },
    {
      "cell_type": "code",
      "execution_count": 214,
      "metadata": {
        "id": "YS11BD2MR1NJ",
        "outputId": "1ec1be65-3a81-483f-90ec-08d7ed68e474",
        "colab": {
          "base_uri": "https://localhost:8080/"
        }
      },
      "outputs": [
        {
          "output_type": "stream",
          "name": "stdout",
          "text": [
            "['eq1: (1 + w_add_ls) * m_ls - m_rm\\n', 'eq2: m_rm - m_rawmeal\\n', 'eq3: (beta_phk * w_cl_ls / gcv) * (m_ls / eta_plant) - m_pcoal  \\n', 'eq4: m_cooler_air - w_c_coal * 23.0158 * m_pcoal \\n', 'eq5: m_cooler_air - m_phk_air\\n', 'eq6: (1 - w_cl_rm) * m_rawmeal + w_c_coal * m_pcoal + m_phk_air - m_stackgas\\n', 'eq7: w_cl_rm * m_rawmeal + (1 - w_c_coal) * m_pcoal - m_clinker\\n', 'eq8: m_hotclinker - m_clinker\\n', 'eq9: m_clinker + w_gy_ls * m_ls + w_fly_ls * m_ls - m_cement\\n', 'eq10: (m_ls * mol_wt_co2 / 100) + (w_c_coal * eta_kiln * mol_wt_co2 / mol_wt_c) * m_pcoal - m_co2 \\n', 'eq11: e_crusher - phi_crusher * m_rm\\n', 'eq12: e_rawmill - phi_rm * m_rawmeal\\n', 'eq13: e_coalmill - phi_cm * m_pcoal\\n', 'eq14: e_phk_total - beta_phk * 1000 * m_clinker \\n', 'eq15: e_cooler - phi_cooler * m_hotclinker\\n', 'eq16: e_cementmill - phi_cementmill * m_cement\\n']\n"
          ]
        }
      ],
      "source": [
        "print(eq_lines)"
      ]
    },
    {
      "cell_type": "code",
      "execution_count": 215,
      "metadata": {
        "id": "YnMT1VBsR1NK",
        "colab": {
          "base_uri": "https://localhost:8080/"
        },
        "outputId": "c1f31f15-080e-4ae6-92f0-26827fb3b6f2"
      },
      "outputs": [
        {
          "output_type": "stream",
          "name": "stdout",
          "text": [
            "[' (1 + w_add_ls) * m_ls - m_rm', ' m_rm - m_rawmeal', ' (beta_phk * w_cl_ls / gcv) * (m_ls / eta_plant) - m_pcoal', ' m_cooler_air - w_c_coal * 23.0158 * m_pcoal', ' m_cooler_air - m_phk_air', ' (1 - w_cl_rm) * m_rawmeal + w_c_coal * m_pcoal + m_phk_air - m_stackgas', ' w_cl_rm * m_rawmeal + (1 - w_c_coal) * m_pcoal - m_clinker', ' m_hotclinker - m_clinker', ' m_clinker + w_gy_ls * m_ls + w_fly_ls * m_ls - m_cement', ' (m_ls * mol_wt_co2 / 100) + (w_c_coal * eta_kiln * mol_wt_co2 / mol_wt_c) * m_pcoal - m_co2', ' e_crusher - phi_crusher * m_rm', ' e_rawmill - phi_rm * m_rawmeal', ' e_coalmill - phi_cm * m_pcoal', ' e_phk_total - beta_phk * 1000 * m_clinker', ' e_cooler - phi_cooler * m_hotclinker', ' e_cementmill - phi_cementmill * m_cement']\n"
          ]
        }
      ],
      "source": [
        "# Create a list to store the equations\n",
        "eq_list = []\n",
        "\n",
        "# Loop through the equation lines\n",
        "for eq_line in eq_lines:\n",
        "    # Split the line into the equation name and the equation expression\n",
        "    eq_name, eq_expr = eq_line.strip().split(':')\n",
        "    # Convert the tuple of symbols to a single expression\n",
        "    eq_list.append(eq_expr)\n",
        "    # Add the equation to the dictionary\n",
        "print(eq_list)"
      ]
    },
    {
      "cell_type": "code",
      "execution_count": 216,
      "metadata": {
        "id": "nGf16bA1R1NM",
        "outputId": "dbcb991e-d448-44f9-8652-fd86c4f9cf09",
        "colab": {
          "base_uri": "https://localhost:8080/"
        }
      },
      "outputs": [
        {
          "output_type": "stream",
          "name": "stdout",
          "text": [
            "{'phi_crusher': 3.5, 'phi_rm': 26.0, 'phi_cm': 76.3, 'phi_phk': 37.7, 'phi_cooler': 37.7, 'phi_cementmill': 30.0, 'w_add_ls': 0.11, 'w_c_ls': 0.06, 'w_c_coal': 0.76, 'w_cl_rm': 0.64, 'w_air_ls': 1.64, 'w_gy_ls': 0.05, 'w_fly_ls': 0.33, 'w_cl_ls': 0.71, 'beta_phk': 2.97, 'gcv': 25.0, 'mol_wt_co2': 44.0, 'mol_wt_c': 12.0}\n"
          ]
        }
      ],
      "source": [
        "# Creating dictionary for parameters and their values\n",
        "param_fixed_dict = dict(zip(parameters_df['parameters'],parameters_df['values']))\n",
        "print(param_fixed_dict)"
      ]
    },
    {
      "cell_type": "code",
      "source": [
        "# Creating dictionary for variables and their values\n",
        "var_fixed_dict = dict(zip(variables_df['variables'],variables_df['values']))\n",
        "print(var_fixed_dict)"
      ],
      "metadata": {
        "colab": {
          "base_uri": "https://localhost:8080/"
        },
        "id": "cOjsG0KUNQ3Z",
        "outputId": "362f4fe2-e26d-455e-d0bb-b18d2b563fa7"
      },
      "execution_count": 217,
      "outputs": [
        {
          "output_type": "stream",
          "name": "stdout",
          "text": [
            "{}\n"
          ]
        }
      ]
    },
    {
      "cell_type": "code",
      "source": [
        "correct_dict = dict(zip(correct_df['variables'],correct_df['values']))\n",
        "print(correct_dict)"
      ],
      "metadata": {
        "colab": {
          "base_uri": "https://localhost:8080/"
        },
        "id": "pRKXWSuLBysR",
        "outputId": "cc8883dc-7689-4e6c-9be8-d2c33607be6b"
      },
      "execution_count": 218,
      "outputs": [
        {
          "output_type": "stream",
          "name": "stdout",
          "text": [
            "{'m_ls': 100.0, 'eta_plant': 0.6}\n"
          ]
        }
      ]
    },
    {
      "cell_type": "code",
      "source": [
        "# key = next(iter(correct_dict))\n",
        "# print(key)\n",
        "# value = correct_dict[key]\n",
        "# print(value)\n",
        "# corr_eq1 = f\"{key} - {value}\"\n",
        "# print(corr_eq1)"
      ],
      "metadata": {
        "id": "WX4EHZv0CKLI"
      },
      "execution_count": 219,
      "outputs": []
    },
    {
      "cell_type": "code",
      "execution_count": 220,
      "metadata": {
        "id": "heYwSSfqR1NM",
        "outputId": "21262602-e162-4647-aed9-6e9e63a320e9",
        "colab": {
          "base_uri": "https://localhost:8080/"
        }
      },
      "outputs": [
        {
          "output_type": "stream",
          "name": "stdout",
          "text": [
            "[' (1 + 0.11) * m_ls - m_rm', ' m_rm - m_rawmeal', ' (2.97 * 0.71 / 25.0) * (m_ls / eta_plant) - m_pcoal', ' m_cooler_air - 0.76 * 23.0158 * m_pcoal', ' m_cooler_air - m_phk_air', ' (1 - 0.64) * m_rawmeal + 0.76 * m_pcoal + m_phk_air - m_stackgas', ' 0.64 * m_rawmeal + (1 - 0.76) * m_pcoal - m_clinker', ' m_hotclinker - m_clinker', ' m_clinker + 0.05 * m_ls + 0.33 * m_ls - m_cement', ' (m_ls * 44.0 / 100) + (0.76 * eta_kiln * 44.0 / 12.0) * m_pcoal - m_co2', ' e_crusher - 3.5 * m_rm', ' e_rawmill - 26.0 * m_rawmeal', ' e_coalmill - 76.3 * m_pcoal', ' e_phk_total - 2.97 * 1000 * m_clinker', ' e_cooler - 37.7 * m_hotclinker', ' e_cementmill - 30.0 * m_cement']\n"
          ]
        }
      ],
      "source": [
        "# Substituting parameters in equation with their values\n",
        "modified_eq_list_param = []\n",
        "for eq in eq_list:\n",
        "  for key in param_fixed_dict:\n",
        "    if key in eq:\n",
        "        value = param_fixed_dict.get(key)\n",
        "        eq = eq.replace(key, str(param_fixed_dict.get(key)))\n",
        "  modified_eq_list_param.append(eq)\n",
        "print(modified_eq_list_param)"
      ]
    },
    {
      "cell_type": "code",
      "source": [
        "# Substituting variables in equation with their values\n",
        "modified_eq_list_var = [] # list after substituting for variables with corresponding values\n",
        "for eq in modified_eq_list_param:\n",
        "  for key in var_fixed_dict:\n",
        "    if key in eq:\n",
        "        value = var_fixed_dict.get(key)\n",
        "        eq = eq.replace(key, str(var_fixed_dict.get(key)))\n",
        "  modified_eq_list_var.append(eq)\n",
        "print(modified_eq_list_var)"
      ],
      "metadata": {
        "colab": {
          "base_uri": "https://localhost:8080/"
        },
        "id": "kL-HV4XwNr5X",
        "outputId": "2f72b271-9689-484a-b1bf-97765ddfb557"
      },
      "execution_count": 221,
      "outputs": [
        {
          "output_type": "stream",
          "name": "stdout",
          "text": [
            "[' (1 + 0.11) * m_ls - m_rm', ' m_rm - m_rawmeal', ' (2.97 * 0.71 / 25.0) * (m_ls / eta_plant) - m_pcoal', ' m_cooler_air - 0.76 * 23.0158 * m_pcoal', ' m_cooler_air - m_phk_air', ' (1 - 0.64) * m_rawmeal + 0.76 * m_pcoal + m_phk_air - m_stackgas', ' 0.64 * m_rawmeal + (1 - 0.76) * m_pcoal - m_clinker', ' m_hotclinker - m_clinker', ' m_clinker + 0.05 * m_ls + 0.33 * m_ls - m_cement', ' (m_ls * 44.0 / 100) + (0.76 * eta_kiln * 44.0 / 12.0) * m_pcoal - m_co2', ' e_crusher - 3.5 * m_rm', ' e_rawmill - 26.0 * m_rawmeal', ' e_coalmill - 76.3 * m_pcoal', ' e_phk_total - 2.97 * 1000 * m_clinker', ' e_cooler - 37.7 * m_hotclinker', ' e_cementmill - 30.0 * m_cement']\n"
          ]
        }
      ]
    },
    {
      "cell_type": "code",
      "source": [
        "''' Updating the equations with the equations for data reconsiliation'''\n",
        "\n",
        "for key, value in correct_dict.items():\n",
        "  eq = f'{key} - {value}'\n",
        "  modified_eq_list_var.append(eq)"
      ],
      "metadata": {
        "id": "X2eVvvLyIgkO"
      },
      "execution_count": 222,
      "outputs": []
    },
    {
      "cell_type": "code",
      "source": [
        "for item in modified_eq_list_var:\n",
        "  print(item)"
      ],
      "metadata": {
        "colab": {
          "base_uri": "https://localhost:8080/"
        },
        "id": "UVElDmuPLGO-",
        "outputId": "2488c9c7-1f3d-46b9-b9d5-b1f003351f7f"
      },
      "execution_count": 223,
      "outputs": [
        {
          "output_type": "stream",
          "name": "stdout",
          "text": [
            " (1 + 0.11) * m_ls - m_rm\n",
            " m_rm - m_rawmeal\n",
            " (2.97 * 0.71 / 25.0) * (m_ls / eta_plant) - m_pcoal\n",
            " m_cooler_air - 0.76 * 23.0158 * m_pcoal\n",
            " m_cooler_air - m_phk_air\n",
            " (1 - 0.64) * m_rawmeal + 0.76 * m_pcoal + m_phk_air - m_stackgas\n",
            " 0.64 * m_rawmeal + (1 - 0.76) * m_pcoal - m_clinker\n",
            " m_hotclinker - m_clinker\n",
            " m_clinker + 0.05 * m_ls + 0.33 * m_ls - m_cement\n",
            " (m_ls * 44.0 / 100) + (0.76 * eta_kiln * 44.0 / 12.0) * m_pcoal - m_co2\n",
            " e_crusher - 3.5 * m_rm\n",
            " e_rawmill - 26.0 * m_rawmeal\n",
            " e_coalmill - 76.3 * m_pcoal\n",
            " e_phk_total - 2.97 * 1000 * m_clinker\n",
            " e_cooler - 37.7 * m_hotclinker\n",
            " e_cementmill - 30.0 * m_cement\n",
            "m_ls - 100.0\n",
            "eta_plant - 0.6\n"
          ]
        }
      ]
    },
    {
      "cell_type": "markdown",
      "source": [
        "# Solving the optimization problem"
      ],
      "metadata": {
        "id": "ayYXW1-utqHl"
      }
    },
    {
      "cell_type": "code",
      "source": [
        "# Define the objective function\n",
        "def objective_function(decision_variables):\n",
        "    # x, y, z, w = initial_guess\n",
        "    for index, variable in enumerate(decision_var_list):\n",
        "      globals()[variable] = decision_variables[index]\n",
        "\n",
        "    equations = []\n",
        "    for equation in modified_eq_list_var:\n",
        "      equations.append(eval(equation))\n",
        "    # print(equations)\n",
        "    squared_errors = [result**2 for result in equations]\n",
        "    return sum(squared_errors)"
      ],
      "metadata": {
        "id": "1N9BHoMz3h9j"
      },
      "execution_count": 224,
      "outputs": []
    },
    {
      "cell_type": "code",
      "source": [
        "def constraints(decision_variables):\n",
        "\n",
        "    for index, variable in enumerate(decision_var_list):\n",
        "      globals()[variable] = decision_variables[index]\n",
        "\n",
        "    constraints = []\n",
        "    for equation in modified_eq_list_var:\n",
        "      constraints.append(eval(equation))\n",
        "    return constraints"
      ],
      "metadata": {
        "id": "aDxc_wxXEVNT"
      },
      "execution_count": 225,
      "outputs": []
    },
    {
      "cell_type": "code",
      "source": [
        "# Initial guess for the decision variables\n",
        "initial_guess = [1] * len(decision_var_list)\n",
        "\n",
        "# Bounds for the decision variables\n",
        "# bounds = [(0, 1000)]* len(variables_list)\n",
        "\n",
        "# If type of decision variable is correctable the bounds are adjusted to a tolerance\n",
        "tol = 0.2\n",
        "bounds = []\n",
        "for var in decision_var_list:\n",
        "  if var in correct_params:\n",
        "    value = correct_params_df.loc[correct_params_df['parameters'] == var, 'values'].values[0]\n",
        "    # value = param_dict[var]\n",
        "    lower_bound = value * (1 - tol)\n",
        "    upper_bound = value * (1 + tol)\n",
        "    bounds.append((lower_bound, upper_bound))\n",
        "\n",
        "  elif var in correct_vars:\n",
        "    value = correct_vars_df.loc[correct_vars_df['variables'] == var, 'values'].values[0]\n",
        "    # value = param_dict[var]\n",
        "    lower_bound = value * (1 - tol)\n",
        "    upper_bound = value * (1 + tol)\n",
        "    bounds.append((lower_bound, upper_bound))\n",
        "\n",
        "  else:\n",
        "    bounds.append((0, float('inf')))\n",
        "\n",
        "result = minimize(objective_function, initial_guess, bounds = bounds, constraints={'type': 'eq', 'fun': constraints})"
      ],
      "metadata": {
        "id": "J-P3NzlR3orz"
      },
      "execution_count": 226,
      "outputs": []
    },
    {
      "cell_type": "code",
      "source": [
        "# Extract the optimal solution\n",
        "optimal_solution = result.x\n",
        "print(\"Optimal solution:\", optimal_solution)"
      ],
      "metadata": {
        "id": "W1RpebUE3wdi",
        "colab": {
          "base_uri": "https://localhost:8080/"
        },
        "outputId": "a39d7d7a-280a-4d8e-9e62-a5f0a0114683"
      },
      "execution_count": 227,
      "outputs": [
        {
          "output_type": "stream",
          "name": "stdout",
          "text": [
            "Optimal solution: [1.11000000e+02 1.11000000e+02 1.40580000e+01 2.45902648e+02\n",
            " 7.44139200e+01 2.96546728e+02 7.44139200e+01 1.12413920e+02\n",
            " 2.45902648e+02 3.88500000e+02 2.88600000e+03 1.07262540e+03\n",
            " 2.21009342e+05 2.80540478e+03 3.37241760e+03 7.82044489e+01\n",
            " 1.00000000e+02 8.73120199e-01 6.00000000e-01]\n"
          ]
        }
      ]
    },
    {
      "cell_type": "markdown",
      "source": [
        "# Print solution"
      ],
      "metadata": {
        "id": "wqd___FVsuR5"
      }
    },
    {
      "cell_type": "code",
      "source": [
        "for variable, value in zip(decision_var_list, optimal_solution):\n",
        "    value = round(value,2)\n",
        "    print(f\"{variable}: {value}\")"
      ],
      "metadata": {
        "colab": {
          "base_uri": "https://localhost:8080/"
        },
        "id": "AryDcxcIs8uG",
        "outputId": "1579a8e8-d281-410c-c790-dede7a1a8a6e"
      },
      "execution_count": 228,
      "outputs": [
        {
          "output_type": "stream",
          "name": "stdout",
          "text": [
            "m_rm: 111.0\n",
            "m_rawmeal: 111.0\n",
            "m_pcoal: 14.06\n",
            "m_phk_air: 245.9\n",
            "m_hotclinker: 74.41\n",
            "m_stackgas: 296.55\n",
            "m_clinker: 74.41\n",
            "m_cement: 112.41\n",
            "m_cooler_air: 245.9\n",
            "e_crusher: 388.5\n",
            "e_rawmill: 2886.0\n",
            "e_coalmill: 1072.63\n",
            "e_phk_total: 221009.34\n",
            "e_cooler: 2805.4\n",
            "e_cementmill: 3372.42\n",
            "m_co2: 78.2\n",
            "m_ls: 100.0\n",
            "eta_kiln: 0.87\n",
            "eta_plant: 0.6\n"
          ]
        }
      ]
    }
  ],
  "metadata": {
    "kernelspec": {
      "display_name": "base",
      "language": "python",
      "name": "python3"
    },
    "language_info": {
      "codemirror_mode": {
        "name": "ipython",
        "version": 3
      },
      "file_extension": ".py",
      "mimetype": "text/x-python",
      "name": "python",
      "nbconvert_exporter": "python",
      "pygments_lexer": "ipython3",
      "version": "3.9.13"
    },
    "orig_nbformat": 4,
    "colab": {
      "provenance": [],
      "collapsed_sections": [
        "KdS99pR9tZiY"
      ],
      "include_colab_link": true
    }
  },
  "nbformat": 4,
  "nbformat_minor": 0
}