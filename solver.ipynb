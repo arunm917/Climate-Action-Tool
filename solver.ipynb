{
  "cells": [
    {
      "cell_type": "markdown",
      "metadata": {
        "id": "view-in-github",
        "colab_type": "text"
      },
      "source": [
        "<a href=\"https://colab.research.google.com/github/arunm917/Climate-Action-Tool/blob/main/solver.ipynb\" target=\"_parent\"><img src=\"https://colab.research.google.com/assets/colab-badge.svg\" alt=\"Open In Colab\"/></a>"
      ]
    },
    {
      "cell_type": "markdown",
      "source": [
        "# Downloading packages and files"
      ],
      "metadata": {
        "id": "KdS99pR9tZiY"
      }
    },
    {
      "cell_type": "code",
      "execution_count": 80,
      "metadata": {
        "id": "tTLsHuFjR1NC"
      },
      "outputs": [],
      "source": [
        "import numpy as np\n",
        "import pandas as pd\n",
        "import gdown\n",
        "import regex as re\n",
        "from scipy.optimize import minimize"
      ]
    },
    {
      "cell_type": "code",
      "source": [
        "# downloading file from gdrive\n",
        "output = 'equations'\n",
        "file_id = '1raendJQeKuzTduzPYIgcIXZYlRA7esAU' # cement\n",
        "# file_id = '1shDdoDOjaa6lIn8zqRo38nmMm71de7mb' # steel\n",
        "#Download the file\n",
        "gdown.download('https://drive.google.com/uc?id=' + file_id, output, quiet=False)\n",
        "print('\\nDONE.')"
      ],
      "metadata": {
        "colab": {
          "base_uri": "https://localhost:8080/"
        },
        "id": "gHJZeRSeJ5Kn",
        "outputId": "b4a614ca-3f68-4bee-d087-1e81b32431a2"
      },
      "execution_count": 81,
      "outputs": [
        {
          "output_type": "stream",
          "name": "stderr",
          "text": [
            "Downloading...\n",
            "From: https://drive.google.com/uc?id=1raendJQeKuzTduzPYIgcIXZYlRA7esAU\n",
            "To: /content/equations\n",
            "100%|██████████| 809/809 [00:00<00:00, 2.39MB/s]"
          ]
        },
        {
          "output_type": "stream",
          "name": "stdout",
          "text": [
            "\n",
            "DONE.\n"
          ]
        },
        {
          "output_type": "stream",
          "name": "stderr",
          "text": [
            "\n"
          ]
        }
      ]
    },
    {
      "cell_type": "code",
      "source": [
        "# downloading file from gdrive\n",
        "output = 'parameters'\n",
        "file_id = '1qC5eDYSwAqwYZ0QqlVpayiuQnix9e85K' # cement\n",
        "# file_id = '1siz79kixFg13GPMp95d4HeUkPO27va1G' # steel\n",
        "#Download the file\n",
        "gdown.download('https://drive.google.com/uc?id=' + file_id, output, quiet=False)\n",
        "print('\\nDONE.')"
      ],
      "metadata": {
        "colab": {
          "base_uri": "https://localhost:8080/"
        },
        "id": "_VNs8JfDstU-",
        "outputId": "19606708-e190-4819-df67-05efad0f982d"
      },
      "execution_count": 82,
      "outputs": [
        {
          "output_type": "stream",
          "name": "stderr",
          "text": [
            "Downloading...\n",
            "From: https://drive.google.com/uc?id=1qC5eDYSwAqwYZ0QqlVpayiuQnix9e85K\n",
            "To: /content/parameters\n",
            "100%|██████████| 433/433 [00:00<00:00, 1.32MB/s]"
          ]
        },
        {
          "output_type": "stream",
          "name": "stdout",
          "text": [
            "\n",
            "DONE.\n"
          ]
        },
        {
          "output_type": "stream",
          "name": "stderr",
          "text": [
            "\n"
          ]
        }
      ]
    },
    {
      "cell_type": "code",
      "source": [
        "# downloading file from gdrive\n",
        "output = 'variables'\n",
        "file_id = '1qAyqEmDgX0hvR2LN3moC6i3SDNrlylYZ' # cement\n",
        "# file_id = '1sm04sQ_TnfesCuVrNUFz52SQHCGxZzgp' # steel\n",
        "#Download the file\n",
        "gdown.download('https://drive.google.com/uc?id=' + file_id, output, quiet=False)\n",
        "print('\\nDONE.')"
      ],
      "metadata": {
        "colab": {
          "base_uri": "https://localhost:8080/"
        },
        "id": "BgRc7RZVsuv1",
        "outputId": "641542fe-30a9-4cda-c1b6-1c86a9e1b022"
      },
      "execution_count": 83,
      "outputs": [
        {
          "output_type": "stream",
          "name": "stderr",
          "text": [
            "Downloading...\n",
            "From: https://drive.google.com/uc?id=1qAyqEmDgX0hvR2LN3moC6i3SDNrlylYZ\n",
            "To: /content/variables\n",
            "100%|██████████| 347/347 [00:00<00:00, 376kB/s]"
          ]
        },
        {
          "output_type": "stream",
          "name": "stdout",
          "text": [
            "\n",
            "DONE.\n"
          ]
        },
        {
          "output_type": "stream",
          "name": "stderr",
          "text": [
            "\n"
          ]
        }
      ]
    },
    {
      "cell_type": "markdown",
      "source": [
        "# Processing files"
      ],
      "metadata": {
        "id": "r9KgIAECtgxv"
      }
    },
    {
      "cell_type": "code",
      "execution_count": 84,
      "metadata": {
        "id": "t_oSCk3YR1NH"
      },
      "outputs": [],
      "source": [
        "parameters_df = pd.read_csv('parameters')"
      ]
    },
    {
      "cell_type": "code",
      "source": [
        "parameters_df"
      ],
      "metadata": {
        "colab": {
          "base_uri": "https://localhost:8080/",
          "height": 677
        },
        "id": "oP8u4XXDudd8",
        "outputId": "c1cf825b-1ecd-4ab8-ebee-eacaf435df2e"
      },
      "execution_count": 85,
      "outputs": [
        {
          "output_type": "execute_result",
          "data": {
            "text/plain": [
              "        parameters  values     type\n",
              "0      phi_crusher    3.50    fixed\n",
              "1           phi_rm   26.00    fixed\n",
              "2           phi_cm   76.30    fixed\n",
              "3          phi_phk   37.70    fixed\n",
              "4       phi_cooler   37.70    fixed\n",
              "5   phi_cementmill   30.00    fixed\n",
              "6         w_add_ls    0.11    fixed\n",
              "7           w_c_ls    0.06    fixed\n",
              "8         w_c_coal    0.76    fixed\n",
              "9          w_cl_rm    0.64    fixed\n",
              "10        w_air_ls    1.64    fixed\n",
              "11         w_gy_ls    0.05    fixed\n",
              "12        w_fly_ls    0.33    fixed\n",
              "13         w_cl_ls    0.71    fixed\n",
              "14        beta_phk    2.97    fixed\n",
              "15       eta_plant    0.60  correct\n",
              "16             gcv   25.00    fixed\n",
              "17        eta_kiln    0.95    float\n",
              "18      mol_wt_co2   44.00    fixed\n",
              "19        mol_wt_c   12.00    fixed"
            ],
            "text/html": [
              "\n",
              "  <div id=\"df-f30778f3-06d1-4856-b95c-7e5e5123b61d\">\n",
              "    <div class=\"colab-df-container\">\n",
              "      <div>\n",
              "<style scoped>\n",
              "    .dataframe tbody tr th:only-of-type {\n",
              "        vertical-align: middle;\n",
              "    }\n",
              "\n",
              "    .dataframe tbody tr th {\n",
              "        vertical-align: top;\n",
              "    }\n",
              "\n",
              "    .dataframe thead th {\n",
              "        text-align: right;\n",
              "    }\n",
              "</style>\n",
              "<table border=\"1\" class=\"dataframe\">\n",
              "  <thead>\n",
              "    <tr style=\"text-align: right;\">\n",
              "      <th></th>\n",
              "      <th>parameters</th>\n",
              "      <th>values</th>\n",
              "      <th>type</th>\n",
              "    </tr>\n",
              "  </thead>\n",
              "  <tbody>\n",
              "    <tr>\n",
              "      <th>0</th>\n",
              "      <td>phi_crusher</td>\n",
              "      <td>3.50</td>\n",
              "      <td>fixed</td>\n",
              "    </tr>\n",
              "    <tr>\n",
              "      <th>1</th>\n",
              "      <td>phi_rm</td>\n",
              "      <td>26.00</td>\n",
              "      <td>fixed</td>\n",
              "    </tr>\n",
              "    <tr>\n",
              "      <th>2</th>\n",
              "      <td>phi_cm</td>\n",
              "      <td>76.30</td>\n",
              "      <td>fixed</td>\n",
              "    </tr>\n",
              "    <tr>\n",
              "      <th>3</th>\n",
              "      <td>phi_phk</td>\n",
              "      <td>37.70</td>\n",
              "      <td>fixed</td>\n",
              "    </tr>\n",
              "    <tr>\n",
              "      <th>4</th>\n",
              "      <td>phi_cooler</td>\n",
              "      <td>37.70</td>\n",
              "      <td>fixed</td>\n",
              "    </tr>\n",
              "    <tr>\n",
              "      <th>5</th>\n",
              "      <td>phi_cementmill</td>\n",
              "      <td>30.00</td>\n",
              "      <td>fixed</td>\n",
              "    </tr>\n",
              "    <tr>\n",
              "      <th>6</th>\n",
              "      <td>w_add_ls</td>\n",
              "      <td>0.11</td>\n",
              "      <td>fixed</td>\n",
              "    </tr>\n",
              "    <tr>\n",
              "      <th>7</th>\n",
              "      <td>w_c_ls</td>\n",
              "      <td>0.06</td>\n",
              "      <td>fixed</td>\n",
              "    </tr>\n",
              "    <tr>\n",
              "      <th>8</th>\n",
              "      <td>w_c_coal</td>\n",
              "      <td>0.76</td>\n",
              "      <td>fixed</td>\n",
              "    </tr>\n",
              "    <tr>\n",
              "      <th>9</th>\n",
              "      <td>w_cl_rm</td>\n",
              "      <td>0.64</td>\n",
              "      <td>fixed</td>\n",
              "    </tr>\n",
              "    <tr>\n",
              "      <th>10</th>\n",
              "      <td>w_air_ls</td>\n",
              "      <td>1.64</td>\n",
              "      <td>fixed</td>\n",
              "    </tr>\n",
              "    <tr>\n",
              "      <th>11</th>\n",
              "      <td>w_gy_ls</td>\n",
              "      <td>0.05</td>\n",
              "      <td>fixed</td>\n",
              "    </tr>\n",
              "    <tr>\n",
              "      <th>12</th>\n",
              "      <td>w_fly_ls</td>\n",
              "      <td>0.33</td>\n",
              "      <td>fixed</td>\n",
              "    </tr>\n",
              "    <tr>\n",
              "      <th>13</th>\n",
              "      <td>w_cl_ls</td>\n",
              "      <td>0.71</td>\n",
              "      <td>fixed</td>\n",
              "    </tr>\n",
              "    <tr>\n",
              "      <th>14</th>\n",
              "      <td>beta_phk</td>\n",
              "      <td>2.97</td>\n",
              "      <td>fixed</td>\n",
              "    </tr>\n",
              "    <tr>\n",
              "      <th>15</th>\n",
              "      <td>eta_plant</td>\n",
              "      <td>0.60</td>\n",
              "      <td>correct</td>\n",
              "    </tr>\n",
              "    <tr>\n",
              "      <th>16</th>\n",
              "      <td>gcv</td>\n",
              "      <td>25.00</td>\n",
              "      <td>fixed</td>\n",
              "    </tr>\n",
              "    <tr>\n",
              "      <th>17</th>\n",
              "      <td>eta_kiln</td>\n",
              "      <td>0.95</td>\n",
              "      <td>float</td>\n",
              "    </tr>\n",
              "    <tr>\n",
              "      <th>18</th>\n",
              "      <td>mol_wt_co2</td>\n",
              "      <td>44.00</td>\n",
              "      <td>fixed</td>\n",
              "    </tr>\n",
              "    <tr>\n",
              "      <th>19</th>\n",
              "      <td>mol_wt_c</td>\n",
              "      <td>12.00</td>\n",
              "      <td>fixed</td>\n",
              "    </tr>\n",
              "  </tbody>\n",
              "</table>\n",
              "</div>\n",
              "      <button class=\"colab-df-convert\" onclick=\"convertToInteractive('df-f30778f3-06d1-4856-b95c-7e5e5123b61d')\"\n",
              "              title=\"Convert this dataframe to an interactive table.\"\n",
              "              style=\"display:none;\">\n",
              "        \n",
              "  <svg xmlns=\"http://www.w3.org/2000/svg\" height=\"24px\"viewBox=\"0 0 24 24\"\n",
              "       width=\"24px\">\n",
              "    <path d=\"M0 0h24v24H0V0z\" fill=\"none\"/>\n",
              "    <path d=\"M18.56 5.44l.94 2.06.94-2.06 2.06-.94-2.06-.94-.94-2.06-.94 2.06-2.06.94zm-11 1L8.5 8.5l.94-2.06 2.06-.94-2.06-.94L8.5 2.5l-.94 2.06-2.06.94zm10 10l.94 2.06.94-2.06 2.06-.94-2.06-.94-.94-2.06-.94 2.06-2.06.94z\"/><path d=\"M17.41 7.96l-1.37-1.37c-.4-.4-.92-.59-1.43-.59-.52 0-1.04.2-1.43.59L10.3 9.45l-7.72 7.72c-.78.78-.78 2.05 0 2.83L4 21.41c.39.39.9.59 1.41.59.51 0 1.02-.2 1.41-.59l7.78-7.78 2.81-2.81c.8-.78.8-2.07 0-2.86zM5.41 20L4 18.59l7.72-7.72 1.47 1.35L5.41 20z\"/>\n",
              "  </svg>\n",
              "      </button>\n",
              "      \n",
              "  <style>\n",
              "    .colab-df-container {\n",
              "      display:flex;\n",
              "      flex-wrap:wrap;\n",
              "      gap: 12px;\n",
              "    }\n",
              "\n",
              "    .colab-df-convert {\n",
              "      background-color: #E8F0FE;\n",
              "      border: none;\n",
              "      border-radius: 50%;\n",
              "      cursor: pointer;\n",
              "      display: none;\n",
              "      fill: #1967D2;\n",
              "      height: 32px;\n",
              "      padding: 0 0 0 0;\n",
              "      width: 32px;\n",
              "    }\n",
              "\n",
              "    .colab-df-convert:hover {\n",
              "      background-color: #E2EBFA;\n",
              "      box-shadow: 0px 1px 2px rgba(60, 64, 67, 0.3), 0px 1px 3px 1px rgba(60, 64, 67, 0.15);\n",
              "      fill: #174EA6;\n",
              "    }\n",
              "\n",
              "    [theme=dark] .colab-df-convert {\n",
              "      background-color: #3B4455;\n",
              "      fill: #D2E3FC;\n",
              "    }\n",
              "\n",
              "    [theme=dark] .colab-df-convert:hover {\n",
              "      background-color: #434B5C;\n",
              "      box-shadow: 0px 1px 3px 1px rgba(0, 0, 0, 0.15);\n",
              "      filter: drop-shadow(0px 1px 2px rgba(0, 0, 0, 0.3));\n",
              "      fill: #FFFFFF;\n",
              "    }\n",
              "  </style>\n",
              "\n",
              "      <script>\n",
              "        const buttonEl =\n",
              "          document.querySelector('#df-f30778f3-06d1-4856-b95c-7e5e5123b61d button.colab-df-convert');\n",
              "        buttonEl.style.display =\n",
              "          google.colab.kernel.accessAllowed ? 'block' : 'none';\n",
              "\n",
              "        async function convertToInteractive(key) {\n",
              "          const element = document.querySelector('#df-f30778f3-06d1-4856-b95c-7e5e5123b61d');\n",
              "          const dataTable =\n",
              "            await google.colab.kernel.invokeFunction('convertToInteractive',\n",
              "                                                     [key], {});\n",
              "          if (!dataTable) return;\n",
              "\n",
              "          const docLinkHtml = 'Like what you see? Visit the ' +\n",
              "            '<a target=\"_blank\" href=https://colab.research.google.com/notebooks/data_table.ipynb>data table notebook</a>'\n",
              "            + ' to learn more about interactive tables.';\n",
              "          element.innerHTML = '';\n",
              "          dataTable['output_type'] = 'display_data';\n",
              "          await google.colab.output.renderOutput(dataTable, element);\n",
              "          const docLink = document.createElement('div');\n",
              "          docLink.innerHTML = docLinkHtml;\n",
              "          element.appendChild(docLink);\n",
              "        }\n",
              "      </script>\n",
              "    </div>\n",
              "  </div>\n",
              "  "
            ]
          },
          "metadata": {},
          "execution_count": 85
        }
      ]
    },
    {
      "cell_type": "code",
      "source": [
        "correct_params_df = parameters_df.loc[parameters_df['type'] == 'correct', ['parameters','values']]"
      ],
      "metadata": {
        "id": "WVdhV5Ou6Oyb"
      },
      "execution_count": 86,
      "outputs": []
    },
    {
      "cell_type": "code",
      "source": [
        "correct_params_df"
      ],
      "metadata": {
        "colab": {
          "base_uri": "https://localhost:8080/",
          "height": 81
        },
        "id": "3Kpv3dLP7Rhm",
        "outputId": "029bd797-0e35-4a99-bf96-b7fd70ebbc9b"
      },
      "execution_count": 87,
      "outputs": [
        {
          "output_type": "execute_result",
          "data": {
            "text/plain": [
              "   parameters  values\n",
              "15  eta_plant     0.6"
            ],
            "text/html": [
              "\n",
              "  <div id=\"df-80d84abd-a0e1-4eb9-bafe-3d7316253063\">\n",
              "    <div class=\"colab-df-container\">\n",
              "      <div>\n",
              "<style scoped>\n",
              "    .dataframe tbody tr th:only-of-type {\n",
              "        vertical-align: middle;\n",
              "    }\n",
              "\n",
              "    .dataframe tbody tr th {\n",
              "        vertical-align: top;\n",
              "    }\n",
              "\n",
              "    .dataframe thead th {\n",
              "        text-align: right;\n",
              "    }\n",
              "</style>\n",
              "<table border=\"1\" class=\"dataframe\">\n",
              "  <thead>\n",
              "    <tr style=\"text-align: right;\">\n",
              "      <th></th>\n",
              "      <th>parameters</th>\n",
              "      <th>values</th>\n",
              "    </tr>\n",
              "  </thead>\n",
              "  <tbody>\n",
              "    <tr>\n",
              "      <th>15</th>\n",
              "      <td>eta_plant</td>\n",
              "      <td>0.6</td>\n",
              "    </tr>\n",
              "  </tbody>\n",
              "</table>\n",
              "</div>\n",
              "      <button class=\"colab-df-convert\" onclick=\"convertToInteractive('df-80d84abd-a0e1-4eb9-bafe-3d7316253063')\"\n",
              "              title=\"Convert this dataframe to an interactive table.\"\n",
              "              style=\"display:none;\">\n",
              "        \n",
              "  <svg xmlns=\"http://www.w3.org/2000/svg\" height=\"24px\"viewBox=\"0 0 24 24\"\n",
              "       width=\"24px\">\n",
              "    <path d=\"M0 0h24v24H0V0z\" fill=\"none\"/>\n",
              "    <path d=\"M18.56 5.44l.94 2.06.94-2.06 2.06-.94-2.06-.94-.94-2.06-.94 2.06-2.06.94zm-11 1L8.5 8.5l.94-2.06 2.06-.94-2.06-.94L8.5 2.5l-.94 2.06-2.06.94zm10 10l.94 2.06.94-2.06 2.06-.94-2.06-.94-.94-2.06-.94 2.06-2.06.94z\"/><path d=\"M17.41 7.96l-1.37-1.37c-.4-.4-.92-.59-1.43-.59-.52 0-1.04.2-1.43.59L10.3 9.45l-7.72 7.72c-.78.78-.78 2.05 0 2.83L4 21.41c.39.39.9.59 1.41.59.51 0 1.02-.2 1.41-.59l7.78-7.78 2.81-2.81c.8-.78.8-2.07 0-2.86zM5.41 20L4 18.59l7.72-7.72 1.47 1.35L5.41 20z\"/>\n",
              "  </svg>\n",
              "      </button>\n",
              "      \n",
              "  <style>\n",
              "    .colab-df-container {\n",
              "      display:flex;\n",
              "      flex-wrap:wrap;\n",
              "      gap: 12px;\n",
              "    }\n",
              "\n",
              "    .colab-df-convert {\n",
              "      background-color: #E8F0FE;\n",
              "      border: none;\n",
              "      border-radius: 50%;\n",
              "      cursor: pointer;\n",
              "      display: none;\n",
              "      fill: #1967D2;\n",
              "      height: 32px;\n",
              "      padding: 0 0 0 0;\n",
              "      width: 32px;\n",
              "    }\n",
              "\n",
              "    .colab-df-convert:hover {\n",
              "      background-color: #E2EBFA;\n",
              "      box-shadow: 0px 1px 2px rgba(60, 64, 67, 0.3), 0px 1px 3px 1px rgba(60, 64, 67, 0.15);\n",
              "      fill: #174EA6;\n",
              "    }\n",
              "\n",
              "    [theme=dark] .colab-df-convert {\n",
              "      background-color: #3B4455;\n",
              "      fill: #D2E3FC;\n",
              "    }\n",
              "\n",
              "    [theme=dark] .colab-df-convert:hover {\n",
              "      background-color: #434B5C;\n",
              "      box-shadow: 0px 1px 3px 1px rgba(0, 0, 0, 0.15);\n",
              "      filter: drop-shadow(0px 1px 2px rgba(0, 0, 0, 0.3));\n",
              "      fill: #FFFFFF;\n",
              "    }\n",
              "  </style>\n",
              "\n",
              "      <script>\n",
              "        const buttonEl =\n",
              "          document.querySelector('#df-80d84abd-a0e1-4eb9-bafe-3d7316253063 button.colab-df-convert');\n",
              "        buttonEl.style.display =\n",
              "          google.colab.kernel.accessAllowed ? 'block' : 'none';\n",
              "\n",
              "        async function convertToInteractive(key) {\n",
              "          const element = document.querySelector('#df-80d84abd-a0e1-4eb9-bafe-3d7316253063');\n",
              "          const dataTable =\n",
              "            await google.colab.kernel.invokeFunction('convertToInteractive',\n",
              "                                                     [key], {});\n",
              "          if (!dataTable) return;\n",
              "\n",
              "          const docLinkHtml = 'Like what you see? Visit the ' +\n",
              "            '<a target=\"_blank\" href=https://colab.research.google.com/notebooks/data_table.ipynb>data table notebook</a>'\n",
              "            + ' to learn more about interactive tables.';\n",
              "          element.innerHTML = '';\n",
              "          dataTable['output_type'] = 'display_data';\n",
              "          await google.colab.output.renderOutput(dataTable, element);\n",
              "          const docLink = document.createElement('div');\n",
              "          docLink.innerHTML = docLinkHtml;\n",
              "          element.appendChild(docLink);\n",
              "        }\n",
              "      </script>\n",
              "    </div>\n",
              "  </div>\n",
              "  "
            ]
          },
          "metadata": {},
          "execution_count": 87
        }
      ]
    },
    {
      "cell_type": "code",
      "source": [
        "variables_df = pd.read_csv('variables')\n",
        "variables_df"
      ],
      "metadata": {
        "colab": {
          "base_uri": "https://localhost:8080/",
          "height": 582
        },
        "id": "y7LQDv_junnM",
        "outputId": "0b8094d9-41cb-493b-c455-51fd518bcfdf"
      },
      "execution_count": 88,
      "outputs": [
        {
          "output_type": "execute_result",
          "data": {
            "text/plain": [
              "       variables  values   type\n",
              "0           m_ls     100  fixed\n",
              "1       m_rm_gcv       0  float\n",
              "2      m_rawmeal       0  float\n",
              "3        m_pcoal       0  float\n",
              "4      m_phk_air       0  float\n",
              "5   m_hotclinker       0  float\n",
              "6     m_stackgas       0  float\n",
              "7      m_clinker       0  float\n",
              "8       m_cement       0  float\n",
              "9   m_cooler_air       0  float\n",
              "10     e_crusher       0  float\n",
              "11     e_rawmill       0  float\n",
              "12    e_coalmill       0  float\n",
              "13   e_phk_total       0  float\n",
              "14      e_cooler       0  float\n",
              "15  e_cementmill       0  float\n",
              "16         m_co2       0  float"
            ],
            "text/html": [
              "\n",
              "  <div id=\"df-385baadd-3693-4efe-9a35-d4940800c881\">\n",
              "    <div class=\"colab-df-container\">\n",
              "      <div>\n",
              "<style scoped>\n",
              "    .dataframe tbody tr th:only-of-type {\n",
              "        vertical-align: middle;\n",
              "    }\n",
              "\n",
              "    .dataframe tbody tr th {\n",
              "        vertical-align: top;\n",
              "    }\n",
              "\n",
              "    .dataframe thead th {\n",
              "        text-align: right;\n",
              "    }\n",
              "</style>\n",
              "<table border=\"1\" class=\"dataframe\">\n",
              "  <thead>\n",
              "    <tr style=\"text-align: right;\">\n",
              "      <th></th>\n",
              "      <th>variables</th>\n",
              "      <th>values</th>\n",
              "      <th>type</th>\n",
              "    </tr>\n",
              "  </thead>\n",
              "  <tbody>\n",
              "    <tr>\n",
              "      <th>0</th>\n",
              "      <td>m_ls</td>\n",
              "      <td>100</td>\n",
              "      <td>fixed</td>\n",
              "    </tr>\n",
              "    <tr>\n",
              "      <th>1</th>\n",
              "      <td>m_rm_gcv</td>\n",
              "      <td>0</td>\n",
              "      <td>float</td>\n",
              "    </tr>\n",
              "    <tr>\n",
              "      <th>2</th>\n",
              "      <td>m_rawmeal</td>\n",
              "      <td>0</td>\n",
              "      <td>float</td>\n",
              "    </tr>\n",
              "    <tr>\n",
              "      <th>3</th>\n",
              "      <td>m_pcoal</td>\n",
              "      <td>0</td>\n",
              "      <td>float</td>\n",
              "    </tr>\n",
              "    <tr>\n",
              "      <th>4</th>\n",
              "      <td>m_phk_air</td>\n",
              "      <td>0</td>\n",
              "      <td>float</td>\n",
              "    </tr>\n",
              "    <tr>\n",
              "      <th>5</th>\n",
              "      <td>m_hotclinker</td>\n",
              "      <td>0</td>\n",
              "      <td>float</td>\n",
              "    </tr>\n",
              "    <tr>\n",
              "      <th>6</th>\n",
              "      <td>m_stackgas</td>\n",
              "      <td>0</td>\n",
              "      <td>float</td>\n",
              "    </tr>\n",
              "    <tr>\n",
              "      <th>7</th>\n",
              "      <td>m_clinker</td>\n",
              "      <td>0</td>\n",
              "      <td>float</td>\n",
              "    </tr>\n",
              "    <tr>\n",
              "      <th>8</th>\n",
              "      <td>m_cement</td>\n",
              "      <td>0</td>\n",
              "      <td>float</td>\n",
              "    </tr>\n",
              "    <tr>\n",
              "      <th>9</th>\n",
              "      <td>m_cooler_air</td>\n",
              "      <td>0</td>\n",
              "      <td>float</td>\n",
              "    </tr>\n",
              "    <tr>\n",
              "      <th>10</th>\n",
              "      <td>e_crusher</td>\n",
              "      <td>0</td>\n",
              "      <td>float</td>\n",
              "    </tr>\n",
              "    <tr>\n",
              "      <th>11</th>\n",
              "      <td>e_rawmill</td>\n",
              "      <td>0</td>\n",
              "      <td>float</td>\n",
              "    </tr>\n",
              "    <tr>\n",
              "      <th>12</th>\n",
              "      <td>e_coalmill</td>\n",
              "      <td>0</td>\n",
              "      <td>float</td>\n",
              "    </tr>\n",
              "    <tr>\n",
              "      <th>13</th>\n",
              "      <td>e_phk_total</td>\n",
              "      <td>0</td>\n",
              "      <td>float</td>\n",
              "    </tr>\n",
              "    <tr>\n",
              "      <th>14</th>\n",
              "      <td>e_cooler</td>\n",
              "      <td>0</td>\n",
              "      <td>float</td>\n",
              "    </tr>\n",
              "    <tr>\n",
              "      <th>15</th>\n",
              "      <td>e_cementmill</td>\n",
              "      <td>0</td>\n",
              "      <td>float</td>\n",
              "    </tr>\n",
              "    <tr>\n",
              "      <th>16</th>\n",
              "      <td>m_co2</td>\n",
              "      <td>0</td>\n",
              "      <td>float</td>\n",
              "    </tr>\n",
              "  </tbody>\n",
              "</table>\n",
              "</div>\n",
              "      <button class=\"colab-df-convert\" onclick=\"convertToInteractive('df-385baadd-3693-4efe-9a35-d4940800c881')\"\n",
              "              title=\"Convert this dataframe to an interactive table.\"\n",
              "              style=\"display:none;\">\n",
              "        \n",
              "  <svg xmlns=\"http://www.w3.org/2000/svg\" height=\"24px\"viewBox=\"0 0 24 24\"\n",
              "       width=\"24px\">\n",
              "    <path d=\"M0 0h24v24H0V0z\" fill=\"none\"/>\n",
              "    <path d=\"M18.56 5.44l.94 2.06.94-2.06 2.06-.94-2.06-.94-.94-2.06-.94 2.06-2.06.94zm-11 1L8.5 8.5l.94-2.06 2.06-.94-2.06-.94L8.5 2.5l-.94 2.06-2.06.94zm10 10l.94 2.06.94-2.06 2.06-.94-2.06-.94-.94-2.06-.94 2.06-2.06.94z\"/><path d=\"M17.41 7.96l-1.37-1.37c-.4-.4-.92-.59-1.43-.59-.52 0-1.04.2-1.43.59L10.3 9.45l-7.72 7.72c-.78.78-.78 2.05 0 2.83L4 21.41c.39.39.9.59 1.41.59.51 0 1.02-.2 1.41-.59l7.78-7.78 2.81-2.81c.8-.78.8-2.07 0-2.86zM5.41 20L4 18.59l7.72-7.72 1.47 1.35L5.41 20z\"/>\n",
              "  </svg>\n",
              "      </button>\n",
              "      \n",
              "  <style>\n",
              "    .colab-df-container {\n",
              "      display:flex;\n",
              "      flex-wrap:wrap;\n",
              "      gap: 12px;\n",
              "    }\n",
              "\n",
              "    .colab-df-convert {\n",
              "      background-color: #E8F0FE;\n",
              "      border: none;\n",
              "      border-radius: 50%;\n",
              "      cursor: pointer;\n",
              "      display: none;\n",
              "      fill: #1967D2;\n",
              "      height: 32px;\n",
              "      padding: 0 0 0 0;\n",
              "      width: 32px;\n",
              "    }\n",
              "\n",
              "    .colab-df-convert:hover {\n",
              "      background-color: #E2EBFA;\n",
              "      box-shadow: 0px 1px 2px rgba(60, 64, 67, 0.3), 0px 1px 3px 1px rgba(60, 64, 67, 0.15);\n",
              "      fill: #174EA6;\n",
              "    }\n",
              "\n",
              "    [theme=dark] .colab-df-convert {\n",
              "      background-color: #3B4455;\n",
              "      fill: #D2E3FC;\n",
              "    }\n",
              "\n",
              "    [theme=dark] .colab-df-convert:hover {\n",
              "      background-color: #434B5C;\n",
              "      box-shadow: 0px 1px 3px 1px rgba(0, 0, 0, 0.15);\n",
              "      filter: drop-shadow(0px 1px 2px rgba(0, 0, 0, 0.3));\n",
              "      fill: #FFFFFF;\n",
              "    }\n",
              "  </style>\n",
              "\n",
              "      <script>\n",
              "        const buttonEl =\n",
              "          document.querySelector('#df-385baadd-3693-4efe-9a35-d4940800c881 button.colab-df-convert');\n",
              "        buttonEl.style.display =\n",
              "          google.colab.kernel.accessAllowed ? 'block' : 'none';\n",
              "\n",
              "        async function convertToInteractive(key) {\n",
              "          const element = document.querySelector('#df-385baadd-3693-4efe-9a35-d4940800c881');\n",
              "          const dataTable =\n",
              "            await google.colab.kernel.invokeFunction('convertToInteractive',\n",
              "                                                     [key], {});\n",
              "          if (!dataTable) return;\n",
              "\n",
              "          const docLinkHtml = 'Like what you see? Visit the ' +\n",
              "            '<a target=\"_blank\" href=https://colab.research.google.com/notebooks/data_table.ipynb>data table notebook</a>'\n",
              "            + ' to learn more about interactive tables.';\n",
              "          element.innerHTML = '';\n",
              "          dataTable['output_type'] = 'display_data';\n",
              "          await google.colab.output.renderOutput(dataTable, element);\n",
              "          const docLink = document.createElement('div');\n",
              "          docLink.innerHTML = docLinkHtml;\n",
              "          element.appendChild(docLink);\n",
              "        }\n",
              "      </script>\n",
              "    </div>\n",
              "  </div>\n",
              "  "
            ]
          },
          "metadata": {},
          "execution_count": 88
        }
      ]
    },
    {
      "cell_type": "code",
      "source": [
        "correct_vars_df = variables_df.loc[variables_df['type'] == 'correct', ['variables','values']]"
      ],
      "metadata": {
        "id": "3xNPPMMbM-4d"
      },
      "execution_count": 89,
      "outputs": []
    },
    {
      "cell_type": "code",
      "source": [
        "correct_vars_df"
      ],
      "metadata": {
        "colab": {
          "base_uri": "https://localhost:8080/",
          "height": 49
        },
        "id": "O41w7NYqQplV",
        "outputId": "0355f8e4-9577-4272-85fa-0dfae7ef4be4"
      },
      "execution_count": 90,
      "outputs": [
        {
          "output_type": "execute_result",
          "data": {
            "text/plain": [
              "Empty DataFrame\n",
              "Columns: [variables, values]\n",
              "Index: []"
            ],
            "text/html": [
              "\n",
              "  <div id=\"df-c4fae974-4b00-4b7a-af6f-4c25542e8d2f\">\n",
              "    <div class=\"colab-df-container\">\n",
              "      <div>\n",
              "<style scoped>\n",
              "    .dataframe tbody tr th:only-of-type {\n",
              "        vertical-align: middle;\n",
              "    }\n",
              "\n",
              "    .dataframe tbody tr th {\n",
              "        vertical-align: top;\n",
              "    }\n",
              "\n",
              "    .dataframe thead th {\n",
              "        text-align: right;\n",
              "    }\n",
              "</style>\n",
              "<table border=\"1\" class=\"dataframe\">\n",
              "  <thead>\n",
              "    <tr style=\"text-align: right;\">\n",
              "      <th></th>\n",
              "      <th>variables</th>\n",
              "      <th>values</th>\n",
              "    </tr>\n",
              "  </thead>\n",
              "  <tbody>\n",
              "  </tbody>\n",
              "</table>\n",
              "</div>\n",
              "      <button class=\"colab-df-convert\" onclick=\"convertToInteractive('df-c4fae974-4b00-4b7a-af6f-4c25542e8d2f')\"\n",
              "              title=\"Convert this dataframe to an interactive table.\"\n",
              "              style=\"display:none;\">\n",
              "        \n",
              "  <svg xmlns=\"http://www.w3.org/2000/svg\" height=\"24px\"viewBox=\"0 0 24 24\"\n",
              "       width=\"24px\">\n",
              "    <path d=\"M0 0h24v24H0V0z\" fill=\"none\"/>\n",
              "    <path d=\"M18.56 5.44l.94 2.06.94-2.06 2.06-.94-2.06-.94-.94-2.06-.94 2.06-2.06.94zm-11 1L8.5 8.5l.94-2.06 2.06-.94-2.06-.94L8.5 2.5l-.94 2.06-2.06.94zm10 10l.94 2.06.94-2.06 2.06-.94-2.06-.94-.94-2.06-.94 2.06-2.06.94z\"/><path d=\"M17.41 7.96l-1.37-1.37c-.4-.4-.92-.59-1.43-.59-.52 0-1.04.2-1.43.59L10.3 9.45l-7.72 7.72c-.78.78-.78 2.05 0 2.83L4 21.41c.39.39.9.59 1.41.59.51 0 1.02-.2 1.41-.59l7.78-7.78 2.81-2.81c.8-.78.8-2.07 0-2.86zM5.41 20L4 18.59l7.72-7.72 1.47 1.35L5.41 20z\"/>\n",
              "  </svg>\n",
              "      </button>\n",
              "      \n",
              "  <style>\n",
              "    .colab-df-container {\n",
              "      display:flex;\n",
              "      flex-wrap:wrap;\n",
              "      gap: 12px;\n",
              "    }\n",
              "\n",
              "    .colab-df-convert {\n",
              "      background-color: #E8F0FE;\n",
              "      border: none;\n",
              "      border-radius: 50%;\n",
              "      cursor: pointer;\n",
              "      display: none;\n",
              "      fill: #1967D2;\n",
              "      height: 32px;\n",
              "      padding: 0 0 0 0;\n",
              "      width: 32px;\n",
              "    }\n",
              "\n",
              "    .colab-df-convert:hover {\n",
              "      background-color: #E2EBFA;\n",
              "      box-shadow: 0px 1px 2px rgba(60, 64, 67, 0.3), 0px 1px 3px 1px rgba(60, 64, 67, 0.15);\n",
              "      fill: #174EA6;\n",
              "    }\n",
              "\n",
              "    [theme=dark] .colab-df-convert {\n",
              "      background-color: #3B4455;\n",
              "      fill: #D2E3FC;\n",
              "    }\n",
              "\n",
              "    [theme=dark] .colab-df-convert:hover {\n",
              "      background-color: #434B5C;\n",
              "      box-shadow: 0px 1px 3px 1px rgba(0, 0, 0, 0.15);\n",
              "      filter: drop-shadow(0px 1px 2px rgba(0, 0, 0, 0.3));\n",
              "      fill: #FFFFFF;\n",
              "    }\n",
              "  </style>\n",
              "\n",
              "      <script>\n",
              "        const buttonEl =\n",
              "          document.querySelector('#df-c4fae974-4b00-4b7a-af6f-4c25542e8d2f button.colab-df-convert');\n",
              "        buttonEl.style.display =\n",
              "          google.colab.kernel.accessAllowed ? 'block' : 'none';\n",
              "\n",
              "        async function convertToInteractive(key) {\n",
              "          const element = document.querySelector('#df-c4fae974-4b00-4b7a-af6f-4c25542e8d2f');\n",
              "          const dataTable =\n",
              "            await google.colab.kernel.invokeFunction('convertToInteractive',\n",
              "                                                     [key], {});\n",
              "          if (!dataTable) return;\n",
              "\n",
              "          const docLinkHtml = 'Like what you see? Visit the ' +\n",
              "            '<a target=\"_blank\" href=https://colab.research.google.com/notebooks/data_table.ipynb>data table notebook</a>'\n",
              "            + ' to learn more about interactive tables.';\n",
              "          element.innerHTML = '';\n",
              "          dataTable['output_type'] = 'display_data';\n",
              "          await google.colab.output.renderOutput(dataTable, element);\n",
              "          const docLink = document.createElement('div');\n",
              "          docLink.innerHTML = docLinkHtml;\n",
              "          element.appendChild(docLink);\n",
              "        }\n",
              "      </script>\n",
              "    </div>\n",
              "  </div>\n",
              "  "
            ]
          },
          "metadata": {},
          "execution_count": 90
        }
      ]
    },
    {
      "cell_type": "code",
      "source": [
        "'''concatinating the dataframes containing correct variables and parameters'''\n",
        "\n",
        "correct_params_df_copy = correct_params_df.copy()\n",
        "correct_params_df_copy = correct_params_df_copy.rename(columns={'parameters': 'variables'})\n",
        "correct_df = pd.concat([correct_vars_df, correct_params_df_copy])\n",
        "correct_df = correct_df.reset_index(drop=True)"
      ],
      "metadata": {
        "id": "PpXclqxLuciQ"
      },
      "execution_count": 91,
      "outputs": []
    },
    {
      "cell_type": "code",
      "source": [
        "correct_df"
      ],
      "metadata": {
        "colab": {
          "base_uri": "https://localhost:8080/",
          "height": 81
        },
        "id": "i3YmfzI6ujZA",
        "outputId": "6bccdfeb-00c4-48e3-e78f-7cec1307fa9c"
      },
      "execution_count": 92,
      "outputs": [
        {
          "output_type": "execute_result",
          "data": {
            "text/plain": [
              "   variables  values\n",
              "0  eta_plant     0.6"
            ],
            "text/html": [
              "\n",
              "  <div id=\"df-7f91df9f-a549-4bde-b9be-6101f24dc0ee\">\n",
              "    <div class=\"colab-df-container\">\n",
              "      <div>\n",
              "<style scoped>\n",
              "    .dataframe tbody tr th:only-of-type {\n",
              "        vertical-align: middle;\n",
              "    }\n",
              "\n",
              "    .dataframe tbody tr th {\n",
              "        vertical-align: top;\n",
              "    }\n",
              "\n",
              "    .dataframe thead th {\n",
              "        text-align: right;\n",
              "    }\n",
              "</style>\n",
              "<table border=\"1\" class=\"dataframe\">\n",
              "  <thead>\n",
              "    <tr style=\"text-align: right;\">\n",
              "      <th></th>\n",
              "      <th>variables</th>\n",
              "      <th>values</th>\n",
              "    </tr>\n",
              "  </thead>\n",
              "  <tbody>\n",
              "    <tr>\n",
              "      <th>0</th>\n",
              "      <td>eta_plant</td>\n",
              "      <td>0.6</td>\n",
              "    </tr>\n",
              "  </tbody>\n",
              "</table>\n",
              "</div>\n",
              "      <button class=\"colab-df-convert\" onclick=\"convertToInteractive('df-7f91df9f-a549-4bde-b9be-6101f24dc0ee')\"\n",
              "              title=\"Convert this dataframe to an interactive table.\"\n",
              "              style=\"display:none;\">\n",
              "        \n",
              "  <svg xmlns=\"http://www.w3.org/2000/svg\" height=\"24px\"viewBox=\"0 0 24 24\"\n",
              "       width=\"24px\">\n",
              "    <path d=\"M0 0h24v24H0V0z\" fill=\"none\"/>\n",
              "    <path d=\"M18.56 5.44l.94 2.06.94-2.06 2.06-.94-2.06-.94-.94-2.06-.94 2.06-2.06.94zm-11 1L8.5 8.5l.94-2.06 2.06-.94-2.06-.94L8.5 2.5l-.94 2.06-2.06.94zm10 10l.94 2.06.94-2.06 2.06-.94-2.06-.94-.94-2.06-.94 2.06-2.06.94z\"/><path d=\"M17.41 7.96l-1.37-1.37c-.4-.4-.92-.59-1.43-.59-.52 0-1.04.2-1.43.59L10.3 9.45l-7.72 7.72c-.78.78-.78 2.05 0 2.83L4 21.41c.39.39.9.59 1.41.59.51 0 1.02-.2 1.41-.59l7.78-7.78 2.81-2.81c.8-.78.8-2.07 0-2.86zM5.41 20L4 18.59l7.72-7.72 1.47 1.35L5.41 20z\"/>\n",
              "  </svg>\n",
              "      </button>\n",
              "      \n",
              "  <style>\n",
              "    .colab-df-container {\n",
              "      display:flex;\n",
              "      flex-wrap:wrap;\n",
              "      gap: 12px;\n",
              "    }\n",
              "\n",
              "    .colab-df-convert {\n",
              "      background-color: #E8F0FE;\n",
              "      border: none;\n",
              "      border-radius: 50%;\n",
              "      cursor: pointer;\n",
              "      display: none;\n",
              "      fill: #1967D2;\n",
              "      height: 32px;\n",
              "      padding: 0 0 0 0;\n",
              "      width: 32px;\n",
              "    }\n",
              "\n",
              "    .colab-df-convert:hover {\n",
              "      background-color: #E2EBFA;\n",
              "      box-shadow: 0px 1px 2px rgba(60, 64, 67, 0.3), 0px 1px 3px 1px rgba(60, 64, 67, 0.15);\n",
              "      fill: #174EA6;\n",
              "    }\n",
              "\n",
              "    [theme=dark] .colab-df-convert {\n",
              "      background-color: #3B4455;\n",
              "      fill: #D2E3FC;\n",
              "    }\n",
              "\n",
              "    [theme=dark] .colab-df-convert:hover {\n",
              "      background-color: #434B5C;\n",
              "      box-shadow: 0px 1px 3px 1px rgba(0, 0, 0, 0.15);\n",
              "      filter: drop-shadow(0px 1px 2px rgba(0, 0, 0, 0.3));\n",
              "      fill: #FFFFFF;\n",
              "    }\n",
              "  </style>\n",
              "\n",
              "      <script>\n",
              "        const buttonEl =\n",
              "          document.querySelector('#df-7f91df9f-a549-4bde-b9be-6101f24dc0ee button.colab-df-convert');\n",
              "        buttonEl.style.display =\n",
              "          google.colab.kernel.accessAllowed ? 'block' : 'none';\n",
              "\n",
              "        async function convertToInteractive(key) {\n",
              "          const element = document.querySelector('#df-7f91df9f-a549-4bde-b9be-6101f24dc0ee');\n",
              "          const dataTable =\n",
              "            await google.colab.kernel.invokeFunction('convertToInteractive',\n",
              "                                                     [key], {});\n",
              "          if (!dataTable) return;\n",
              "\n",
              "          const docLinkHtml = 'Like what you see? Visit the ' +\n",
              "            '<a target=\"_blank\" href=https://colab.research.google.com/notebooks/data_table.ipynb>data table notebook</a>'\n",
              "            + ' to learn more about interactive tables.';\n",
              "          element.innerHTML = '';\n",
              "          dataTable['output_type'] = 'display_data';\n",
              "          await google.colab.output.renderOutput(dataTable, element);\n",
              "          const docLink = document.createElement('div');\n",
              "          docLink.innerHTML = docLinkHtml;\n",
              "          element.appendChild(docLink);\n",
              "        }\n",
              "      </script>\n",
              "    </div>\n",
              "  </div>\n",
              "  "
            ]
          },
          "metadata": {},
          "execution_count": 92
        }
      ]
    },
    {
      "cell_type": "code",
      "source": [
        "decision_var_list = []\n",
        "static_var_list = []"
      ],
      "metadata": {
        "id": "stNdL0XcKeX8"
      },
      "execution_count": 93,
      "outputs": []
    },
    {
      "cell_type": "code",
      "source": [
        "''' The following lines of code checks if the variable is set to fixed, float or correctable.\n",
        "    fixed = variable value is fixed\n",
        "    float = variable is part of the decision variable. Value assigned for variable is discarded\n",
        "    correct = variable is changed by a small margin by making it a decision variable and applying a tolerance (using bounds).\n",
        "    variable value is not discarded.'''\n",
        "\n",
        "float_vars = variables_df.loc[variables_df['type'].isin(['float']), 'variables'].tolist()\n",
        "decision_var_list.extend(float_vars) # float params is added to decision variables list\n",
        "correct_vars = variables_df.loc[variables_df['type'].isin(['correct']), 'variables'].tolist()\n",
        "decision_var_list.extend(correct_vars) # correct params are added to decision variables list\n",
        "variables_df = variables_df[~variables_df['variables'].isin(float_vars + correct_vars)] # deleting parameters that are float and correct from parameters list. This is done so that they don't get substituted"
      ],
      "metadata": {
        "id": "LgSVyRYLCbx3"
      },
      "execution_count": 94,
      "outputs": []
    },
    {
      "cell_type": "code",
      "source": [
        "print(decision_var_list)\n",
        "print(correct_vars)\n",
        "print(variables_df)"
      ],
      "metadata": {
        "colab": {
          "base_uri": "https://localhost:8080/"
        },
        "id": "FEKh5TNiHwYP",
        "outputId": "35c5eba6-bc7e-4897-f765-3a8c148f3905"
      },
      "execution_count": 95,
      "outputs": [
        {
          "output_type": "stream",
          "name": "stdout",
          "text": [
            "['m_rm_gcv', 'm_rawmeal', 'm_pcoal', 'm_phk_air', 'm_hotclinker', 'm_stackgas', 'm_clinker', 'm_cement', 'm_cooler_air', 'e_crusher', 'e_rawmill', 'e_coalmill', 'e_phk_total', 'e_cooler', 'e_cementmill', 'm_co2']\n",
            "[]\n",
            "  variables  values   type\n",
            "0      m_ls     100  fixed\n"
          ]
        }
      ]
    },
    {
      "cell_type": "code",
      "source": [
        "# static_var_list = list(static_var_df['variables'])\n",
        "# decision_var_list = list(decision_var_df['variables'])"
      ],
      "metadata": {
        "id": "i95q64vC4bmU"
      },
      "execution_count": 96,
      "outputs": []
    },
    {
      "cell_type": "code",
      "source": [
        "''' The following lines of code checks if the parameter is set to fixed, float or correctable.\n",
        "    fixed = parameter value is fixed\n",
        "    float = parameter is part of the decision variable. Value of parameter is discarded\n",
        "    correct = parameter is changed by a small margin by making it a decision variable and applying a tolerance (using bounds).\n",
        "    Parameter value is not discarded.'''\n",
        "\n",
        "float_params = parameters_df.loc[parameters_df['type'].isin(['float']), 'parameters'].tolist()\n",
        "decision_var_list.extend(float_params) # float params is added to decision variables list\n",
        "correct_params = parameters_df.loc[parameters_df['type'].isin(['correct']), 'parameters'].tolist()\n",
        "decision_var_list.extend(correct_params) # correct params are added to decision variables list\n",
        "parameters_df = parameters_df[~parameters_df['parameters'].isin(float_params + correct_params)] # deleting parameters that are float and correct from parameters list. This is done so that they don't get substituted"
      ],
      "metadata": {
        "id": "GW4Oe8RoDWOg"
      },
      "execution_count": 97,
      "outputs": []
    },
    {
      "cell_type": "code",
      "source": [
        "print(correct_params)"
      ],
      "metadata": {
        "colab": {
          "base_uri": "https://localhost:8080/"
        },
        "id": "lJ-BwhanXunx",
        "outputId": "b3501bff-d2a3-4f87-8d58-1693d9598968"
      },
      "execution_count": 98,
      "outputs": [
        {
          "output_type": "stream",
          "name": "stdout",
          "text": [
            "['eta_plant']\n"
          ]
        }
      ]
    },
    {
      "cell_type": "code",
      "source": [
        "parameters_df"
      ],
      "metadata": {
        "colab": {
          "base_uri": "https://localhost:8080/",
          "height": 614
        },
        "id": "KT70cG1vRzdr",
        "outputId": "ce069c73-ecf9-4fd9-fba7-816c185ed67b"
      },
      "execution_count": 99,
      "outputs": [
        {
          "output_type": "execute_result",
          "data": {
            "text/plain": [
              "        parameters  values   type\n",
              "0      phi_crusher    3.50  fixed\n",
              "1           phi_rm   26.00  fixed\n",
              "2           phi_cm   76.30  fixed\n",
              "3          phi_phk   37.70  fixed\n",
              "4       phi_cooler   37.70  fixed\n",
              "5   phi_cementmill   30.00  fixed\n",
              "6         w_add_ls    0.11  fixed\n",
              "7           w_c_ls    0.06  fixed\n",
              "8         w_c_coal    0.76  fixed\n",
              "9          w_cl_rm    0.64  fixed\n",
              "10        w_air_ls    1.64  fixed\n",
              "11         w_gy_ls    0.05  fixed\n",
              "12        w_fly_ls    0.33  fixed\n",
              "13         w_cl_ls    0.71  fixed\n",
              "14        beta_phk    2.97  fixed\n",
              "16             gcv   25.00  fixed\n",
              "18      mol_wt_co2   44.00  fixed\n",
              "19        mol_wt_c   12.00  fixed"
            ],
            "text/html": [
              "\n",
              "  <div id=\"df-740f513a-faad-4cc4-b179-ddad5ad77bdb\">\n",
              "    <div class=\"colab-df-container\">\n",
              "      <div>\n",
              "<style scoped>\n",
              "    .dataframe tbody tr th:only-of-type {\n",
              "        vertical-align: middle;\n",
              "    }\n",
              "\n",
              "    .dataframe tbody tr th {\n",
              "        vertical-align: top;\n",
              "    }\n",
              "\n",
              "    .dataframe thead th {\n",
              "        text-align: right;\n",
              "    }\n",
              "</style>\n",
              "<table border=\"1\" class=\"dataframe\">\n",
              "  <thead>\n",
              "    <tr style=\"text-align: right;\">\n",
              "      <th></th>\n",
              "      <th>parameters</th>\n",
              "      <th>values</th>\n",
              "      <th>type</th>\n",
              "    </tr>\n",
              "  </thead>\n",
              "  <tbody>\n",
              "    <tr>\n",
              "      <th>0</th>\n",
              "      <td>phi_crusher</td>\n",
              "      <td>3.50</td>\n",
              "      <td>fixed</td>\n",
              "    </tr>\n",
              "    <tr>\n",
              "      <th>1</th>\n",
              "      <td>phi_rm</td>\n",
              "      <td>26.00</td>\n",
              "      <td>fixed</td>\n",
              "    </tr>\n",
              "    <tr>\n",
              "      <th>2</th>\n",
              "      <td>phi_cm</td>\n",
              "      <td>76.30</td>\n",
              "      <td>fixed</td>\n",
              "    </tr>\n",
              "    <tr>\n",
              "      <th>3</th>\n",
              "      <td>phi_phk</td>\n",
              "      <td>37.70</td>\n",
              "      <td>fixed</td>\n",
              "    </tr>\n",
              "    <tr>\n",
              "      <th>4</th>\n",
              "      <td>phi_cooler</td>\n",
              "      <td>37.70</td>\n",
              "      <td>fixed</td>\n",
              "    </tr>\n",
              "    <tr>\n",
              "      <th>5</th>\n",
              "      <td>phi_cementmill</td>\n",
              "      <td>30.00</td>\n",
              "      <td>fixed</td>\n",
              "    </tr>\n",
              "    <tr>\n",
              "      <th>6</th>\n",
              "      <td>w_add_ls</td>\n",
              "      <td>0.11</td>\n",
              "      <td>fixed</td>\n",
              "    </tr>\n",
              "    <tr>\n",
              "      <th>7</th>\n",
              "      <td>w_c_ls</td>\n",
              "      <td>0.06</td>\n",
              "      <td>fixed</td>\n",
              "    </tr>\n",
              "    <tr>\n",
              "      <th>8</th>\n",
              "      <td>w_c_coal</td>\n",
              "      <td>0.76</td>\n",
              "      <td>fixed</td>\n",
              "    </tr>\n",
              "    <tr>\n",
              "      <th>9</th>\n",
              "      <td>w_cl_rm</td>\n",
              "      <td>0.64</td>\n",
              "      <td>fixed</td>\n",
              "    </tr>\n",
              "    <tr>\n",
              "      <th>10</th>\n",
              "      <td>w_air_ls</td>\n",
              "      <td>1.64</td>\n",
              "      <td>fixed</td>\n",
              "    </tr>\n",
              "    <tr>\n",
              "      <th>11</th>\n",
              "      <td>w_gy_ls</td>\n",
              "      <td>0.05</td>\n",
              "      <td>fixed</td>\n",
              "    </tr>\n",
              "    <tr>\n",
              "      <th>12</th>\n",
              "      <td>w_fly_ls</td>\n",
              "      <td>0.33</td>\n",
              "      <td>fixed</td>\n",
              "    </tr>\n",
              "    <tr>\n",
              "      <th>13</th>\n",
              "      <td>w_cl_ls</td>\n",
              "      <td>0.71</td>\n",
              "      <td>fixed</td>\n",
              "    </tr>\n",
              "    <tr>\n",
              "      <th>14</th>\n",
              "      <td>beta_phk</td>\n",
              "      <td>2.97</td>\n",
              "      <td>fixed</td>\n",
              "    </tr>\n",
              "    <tr>\n",
              "      <th>16</th>\n",
              "      <td>gcv</td>\n",
              "      <td>25.00</td>\n",
              "      <td>fixed</td>\n",
              "    </tr>\n",
              "    <tr>\n",
              "      <th>18</th>\n",
              "      <td>mol_wt_co2</td>\n",
              "      <td>44.00</td>\n",
              "      <td>fixed</td>\n",
              "    </tr>\n",
              "    <tr>\n",
              "      <th>19</th>\n",
              "      <td>mol_wt_c</td>\n",
              "      <td>12.00</td>\n",
              "      <td>fixed</td>\n",
              "    </tr>\n",
              "  </tbody>\n",
              "</table>\n",
              "</div>\n",
              "      <button class=\"colab-df-convert\" onclick=\"convertToInteractive('df-740f513a-faad-4cc4-b179-ddad5ad77bdb')\"\n",
              "              title=\"Convert this dataframe to an interactive table.\"\n",
              "              style=\"display:none;\">\n",
              "        \n",
              "  <svg xmlns=\"http://www.w3.org/2000/svg\" height=\"24px\"viewBox=\"0 0 24 24\"\n",
              "       width=\"24px\">\n",
              "    <path d=\"M0 0h24v24H0V0z\" fill=\"none\"/>\n",
              "    <path d=\"M18.56 5.44l.94 2.06.94-2.06 2.06-.94-2.06-.94-.94-2.06-.94 2.06-2.06.94zm-11 1L8.5 8.5l.94-2.06 2.06-.94-2.06-.94L8.5 2.5l-.94 2.06-2.06.94zm10 10l.94 2.06.94-2.06 2.06-.94-2.06-.94-.94-2.06-.94 2.06-2.06.94z\"/><path d=\"M17.41 7.96l-1.37-1.37c-.4-.4-.92-.59-1.43-.59-.52 0-1.04.2-1.43.59L10.3 9.45l-7.72 7.72c-.78.78-.78 2.05 0 2.83L4 21.41c.39.39.9.59 1.41.59.51 0 1.02-.2 1.41-.59l7.78-7.78 2.81-2.81c.8-.78.8-2.07 0-2.86zM5.41 20L4 18.59l7.72-7.72 1.47 1.35L5.41 20z\"/>\n",
              "  </svg>\n",
              "      </button>\n",
              "      \n",
              "  <style>\n",
              "    .colab-df-container {\n",
              "      display:flex;\n",
              "      flex-wrap:wrap;\n",
              "      gap: 12px;\n",
              "    }\n",
              "\n",
              "    .colab-df-convert {\n",
              "      background-color: #E8F0FE;\n",
              "      border: none;\n",
              "      border-radius: 50%;\n",
              "      cursor: pointer;\n",
              "      display: none;\n",
              "      fill: #1967D2;\n",
              "      height: 32px;\n",
              "      padding: 0 0 0 0;\n",
              "      width: 32px;\n",
              "    }\n",
              "\n",
              "    .colab-df-convert:hover {\n",
              "      background-color: #E2EBFA;\n",
              "      box-shadow: 0px 1px 2px rgba(60, 64, 67, 0.3), 0px 1px 3px 1px rgba(60, 64, 67, 0.15);\n",
              "      fill: #174EA6;\n",
              "    }\n",
              "\n",
              "    [theme=dark] .colab-df-convert {\n",
              "      background-color: #3B4455;\n",
              "      fill: #D2E3FC;\n",
              "    }\n",
              "\n",
              "    [theme=dark] .colab-df-convert:hover {\n",
              "      background-color: #434B5C;\n",
              "      box-shadow: 0px 1px 3px 1px rgba(0, 0, 0, 0.15);\n",
              "      filter: drop-shadow(0px 1px 2px rgba(0, 0, 0, 0.3));\n",
              "      fill: #FFFFFF;\n",
              "    }\n",
              "  </style>\n",
              "\n",
              "      <script>\n",
              "        const buttonEl =\n",
              "          document.querySelector('#df-740f513a-faad-4cc4-b179-ddad5ad77bdb button.colab-df-convert');\n",
              "        buttonEl.style.display =\n",
              "          google.colab.kernel.accessAllowed ? 'block' : 'none';\n",
              "\n",
              "        async function convertToInteractive(key) {\n",
              "          const element = document.querySelector('#df-740f513a-faad-4cc4-b179-ddad5ad77bdb');\n",
              "          const dataTable =\n",
              "            await google.colab.kernel.invokeFunction('convertToInteractive',\n",
              "                                                     [key], {});\n",
              "          if (!dataTable) return;\n",
              "\n",
              "          const docLinkHtml = 'Like what you see? Visit the ' +\n",
              "            '<a target=\"_blank\" href=https://colab.research.google.com/notebooks/data_table.ipynb>data table notebook</a>'\n",
              "            + ' to learn more about interactive tables.';\n",
              "          element.innerHTML = '';\n",
              "          dataTable['output_type'] = 'display_data';\n",
              "          await google.colab.output.renderOutput(dataTable, element);\n",
              "          const docLink = document.createElement('div');\n",
              "          docLink.innerHTML = docLinkHtml;\n",
              "          element.appendChild(docLink);\n",
              "        }\n",
              "      </script>\n",
              "    </div>\n",
              "  </div>\n",
              "  "
            ]
          },
          "metadata": {},
          "execution_count": 99
        }
      ]
    },
    {
      "cell_type": "code",
      "source": [
        "print(decision_var_list)"
      ],
      "metadata": {
        "colab": {
          "base_uri": "https://localhost:8080/"
        },
        "id": "HGl15MHYKz_y",
        "outputId": "13865d5c-bc0a-4635-825b-fec394f84950"
      },
      "execution_count": 100,
      "outputs": [
        {
          "output_type": "stream",
          "name": "stdout",
          "text": [
            "['m_rm_gcv', 'm_rawmeal', 'm_pcoal', 'm_phk_air', 'm_hotclinker', 'm_stackgas', 'm_clinker', 'm_cement', 'm_cooler_air', 'e_crusher', 'e_rawmill', 'e_coalmill', 'e_phk_total', 'e_cooler', 'e_cementmill', 'm_co2', 'eta_kiln', 'eta_plant']\n"
          ]
        }
      ]
    },
    {
      "cell_type": "code",
      "execution_count": 101,
      "metadata": {
        "id": "CRaZZlk6R1NJ"
      },
      "outputs": [],
      "source": [
        "with open('equations', 'r') as f:\n",
        "    # Read the equations line by line\n",
        "    eq_lines = f.readlines()"
      ]
    },
    {
      "cell_type": "code",
      "execution_count": 102,
      "metadata": {
        "id": "YS11BD2MR1NJ",
        "outputId": "4931656d-1b53-4d65-f465-8cc7d13392c0",
        "colab": {
          "base_uri": "https://localhost:8080/"
        }
      },
      "outputs": [
        {
          "output_type": "stream",
          "name": "stdout",
          "text": [
            "['eq1: (1 + w_add_ls) * m_ls - m_rm_gcv\\n', 'eq2: m_rm_gcv - m_rawmeal\\n', 'eq3: (beta_phk * w_cl_ls / gcv) * (m_ls / eta_plant) - m_pcoal  \\n', 'eq4: m_cooler_air - w_c_coal * 23.0158 * m_pcoal \\n', 'eq5: m_cooler_air - m_phk_air\\n', 'eq6: (1 - w_cl_rm) * m_rawmeal + w_c_coal * m_pcoal + m_phk_air - m_stackgas\\n', 'eq7: w_cl_rm * m_rawmeal + (1 - w_c_coal) * m_pcoal - m_clinker\\n', 'eq8: m_hotclinker - m_clinker\\n', 'eq9: m_clinker + w_gy_ls * m_ls + w_fly_ls * m_ls - m_cement\\n', 'eq10: (m_ls * mol_wt_co2 / 100) + (w_c_coal * eta_kiln * mol_wt_co2 / mol_wt_c) * m_pcoal - m_co2 \\n', 'eq11: e_crusher - phi_crusher * m_rm_gcv\\n', 'eq12: e_rawmill - phi_rm * m_rawmeal\\n', 'eq13: e_coalmill - phi_cm * m_pcoal\\n', 'eq14: e_phk_total - beta_phk * 1000 * m_clinker \\n', 'eq15: e_cooler - phi_cooler * m_hotclinker\\n', 'eq16: e_cementmill - phi_cementmill * m_cement\\n']\n"
          ]
        }
      ],
      "source": [
        "print(eq_lines)"
      ]
    },
    {
      "cell_type": "code",
      "execution_count": 103,
      "metadata": {
        "id": "YnMT1VBsR1NK",
        "colab": {
          "base_uri": "https://localhost:8080/"
        },
        "outputId": "83f1bd89-4e9d-47e2-a306-45d3a697c4a8"
      },
      "outputs": [
        {
          "output_type": "stream",
          "name": "stdout",
          "text": [
            "[' (1 + w_add_ls) * m_ls - m_rm_gcv', ' m_rm_gcv - m_rawmeal', ' (beta_phk * w_cl_ls / gcv) * (m_ls / eta_plant) - m_pcoal', ' m_cooler_air - w_c_coal * 23.0158 * m_pcoal', ' m_cooler_air - m_phk_air', ' (1 - w_cl_rm) * m_rawmeal + w_c_coal * m_pcoal + m_phk_air - m_stackgas', ' w_cl_rm * m_rawmeal + (1 - w_c_coal) * m_pcoal - m_clinker', ' m_hotclinker - m_clinker', ' m_clinker + w_gy_ls * m_ls + w_fly_ls * m_ls - m_cement', ' (m_ls * mol_wt_co2 / 100) + (w_c_coal * eta_kiln * mol_wt_co2 / mol_wt_c) * m_pcoal - m_co2', ' e_crusher - phi_crusher * m_rm_gcv', ' e_rawmill - phi_rm * m_rawmeal', ' e_coalmill - phi_cm * m_pcoal', ' e_phk_total - beta_phk * 1000 * m_clinker', ' e_cooler - phi_cooler * m_hotclinker', ' e_cementmill - phi_cementmill * m_cement']\n"
          ]
        }
      ],
      "source": [
        "# Create a list to store the equations\n",
        "eq_list = []\n",
        "\n",
        "# Loop through the equation lines\n",
        "for eq_line in eq_lines:\n",
        "    # Split the line into the equation name and the equation expression\n",
        "    eq_name, eq_expr = eq_line.strip().split(':')\n",
        "    # Convert the tuple of symbols to a single expression\n",
        "    eq_list.append(eq_expr)\n",
        "    # Add the equation to the dictionary\n",
        "print(eq_list)"
      ]
    },
    {
      "cell_type": "code",
      "execution_count": 104,
      "metadata": {
        "id": "nGf16bA1R1NM",
        "outputId": "489b2200-40b7-4e17-e8c6-19cf077c5ef1",
        "colab": {
          "base_uri": "https://localhost:8080/"
        }
      },
      "outputs": [
        {
          "output_type": "stream",
          "name": "stdout",
          "text": [
            "{'phi_crusher': 3.5, 'phi_rm': 26.0, 'phi_cm': 76.3, 'phi_phk': 37.7, 'phi_cooler': 37.7, 'phi_cementmill': 30.0, 'w_add_ls': 0.11, 'w_c_ls': 0.06, 'w_c_coal': 0.76, 'w_cl_rm': 0.64, 'w_air_ls': 1.64, 'w_gy_ls': 0.05, 'w_fly_ls': 0.33, 'w_cl_ls': 0.71, 'beta_phk': 2.97, 'gcv': 25.0, 'mol_wt_co2': 44.0, 'mol_wt_c': 12.0}\n"
          ]
        }
      ],
      "source": [
        "# Creating dictionary for parameters and their values\n",
        "param_fixed_dict = dict(zip(parameters_df['parameters'],parameters_df['values']))\n",
        "print(param_fixed_dict)"
      ]
    },
    {
      "cell_type": "code",
      "source": [
        "# Creating dictionary for variables and their values\n",
        "var_fixed_dict = dict(zip(variables_df['variables'],variables_df['values']))\n",
        "print(var_fixed_dict)"
      ],
      "metadata": {
        "colab": {
          "base_uri": "https://localhost:8080/"
        },
        "id": "cOjsG0KUNQ3Z",
        "outputId": "089b4a24-c00e-45a2-b02e-7a925e1d127d"
      },
      "execution_count": 105,
      "outputs": [
        {
          "output_type": "stream",
          "name": "stdout",
          "text": [
            "{'m_ls': 100}\n"
          ]
        }
      ]
    },
    {
      "cell_type": "code",
      "source": [
        "correct_dict = dict(zip(correct_df['variables'],correct_df['values']))\n",
        "print(correct_dict)"
      ],
      "metadata": {
        "colab": {
          "base_uri": "https://localhost:8080/"
        },
        "id": "pRKXWSuLBysR",
        "outputId": "e1ea81c3-367b-4508-90ba-e1cb7e16bcda"
      },
      "execution_count": 106,
      "outputs": [
        {
          "output_type": "stream",
          "name": "stdout",
          "text": [
            "{'eta_plant': 0.6}\n"
          ]
        }
      ]
    },
    {
      "cell_type": "code",
      "execution_count": 108,
      "metadata": {
        "id": "heYwSSfqR1NM",
        "outputId": "4929789e-792a-48bf-f46b-0f1fea18a977",
        "colab": {
          "base_uri": "https://localhost:8080/"
        }
      },
      "outputs": [
        {
          "output_type": "stream",
          "name": "stdout",
          "text": [
            "[' (1 + 0.11) * m_ls - m_rm_gcv', ' m_rm_gcv - m_rawmeal', ' (2.97 * 0.71 / 25.0) * (m_ls / eta_plant) - m_pcoal', ' m_cooler_air - 0.76 * 23.0158 * m_pcoal', ' m_cooler_air - m_phk_air', ' (1 - 0.64) * m_rawmeal + 0.76 * m_pcoal + m_phk_air - m_stackgas', ' 0.64 * m_rawmeal + (1 - 0.76) * m_pcoal - m_clinker', ' m_hotclinker - m_clinker', ' m_clinker + 0.05 * m_ls + 0.33 * m_ls - m_cement', ' (m_ls * 44.0 / 100) + (0.76 * eta_kiln * 44.0 / 12.0) * m_pcoal - m_co2', ' e_crusher - 3.5 * m_rm_gcv', ' e_rawmill - 26.0 * m_rawmeal', ' e_coalmill - 76.3 * m_pcoal', ' e_phk_total - 2.97 * 1000 * m_clinker', ' e_cooler - 37.7 * m_hotclinker', ' e_cementmill - 30.0 * m_cement']\n"
          ]
        }
      ],
      "source": [
        "# Substituting parameters in equation with their values\n",
        "modified_eq_list_param = []\n",
        "for eq in eq_list:\n",
        "  for key in param_fixed_dict:\n",
        "    pattern = r'\\b' + re.escape(key) + r'\\b'\n",
        "    if re.search(pattern, eq):\n",
        "        value = param_fixed_dict.get(key)\n",
        "        # eq = eq.replace(key, str(param_fixed_dict.get(key)))\n",
        "        eq = re.sub(pattern, str(value), eq)\n",
        "  modified_eq_list_param.append(eq)\n",
        "print(modified_eq_list_param)"
      ]
    },
    {
      "cell_type": "code",
      "source": [
        "# Substituting variables in equation with their values\n",
        "modified_eq_list_var = [] # list after substituting for variables with corresponding values\n",
        "for eq in modified_eq_list_param:\n",
        "  for key in var_fixed_dict:\n",
        "    if key in eq:\n",
        "        value = var_fixed_dict.get(key)\n",
        "        eq = eq.replace(key, str(var_fixed_dict.get(key)))\n",
        "  modified_eq_list_var.append(eq)\n",
        "print(modified_eq_list_var)"
      ],
      "metadata": {
        "colab": {
          "base_uri": "https://localhost:8080/"
        },
        "id": "kL-HV4XwNr5X",
        "outputId": "a1f8afbb-4a74-4675-bc5a-7455ada0141b"
      },
      "execution_count": 109,
      "outputs": [
        {
          "output_type": "stream",
          "name": "stdout",
          "text": [
            "[' (1 + 0.11) * 100 - m_rm_gcv', ' m_rm_gcv - m_rawmeal', ' (2.97 * 0.71 / 25.0) * (100 / eta_plant) - m_pcoal', ' m_cooler_air - 0.76 * 23.0158 * m_pcoal', ' m_cooler_air - m_phk_air', ' (1 - 0.64) * m_rawmeal + 0.76 * m_pcoal + m_phk_air - m_stackgas', ' 0.64 * m_rawmeal + (1 - 0.76) * m_pcoal - m_clinker', ' m_hotclinker - m_clinker', ' m_clinker + 0.05 * 100 + 0.33 * 100 - m_cement', ' (100 * 44.0 / 100) + (0.76 * eta_kiln * 44.0 / 12.0) * m_pcoal - m_co2', ' e_crusher - 3.5 * m_rm_gcv', ' e_rawmill - 26.0 * m_rawmeal', ' e_coalmill - 76.3 * m_pcoal', ' e_phk_total - 2.97 * 1000 * m_clinker', ' e_cooler - 37.7 * m_hotclinker', ' e_cementmill - 30.0 * m_cement']\n"
          ]
        }
      ]
    },
    {
      "cell_type": "code",
      "source": [
        "''' Updating the equations with the equations for data reconsiliation'''\n",
        "\n",
        "for key, value in correct_dict.items():\n",
        "  eq = f'{key} - {value}'\n",
        "  modified_eq_list_var.append(eq)"
      ],
      "metadata": {
        "id": "X2eVvvLyIgkO"
      },
      "execution_count": 110,
      "outputs": []
    },
    {
      "cell_type": "code",
      "source": [
        "for item in modified_eq_list_var:\n",
        "  print(item)"
      ],
      "metadata": {
        "colab": {
          "base_uri": "https://localhost:8080/"
        },
        "id": "UVElDmuPLGO-",
        "outputId": "7cab1b2b-7ecd-47c8-8a74-6f0ae18ad10c"
      },
      "execution_count": 111,
      "outputs": [
        {
          "output_type": "stream",
          "name": "stdout",
          "text": [
            " (1 + 0.11) * 100 - m_rm_gcv\n",
            " m_rm_gcv - m_rawmeal\n",
            " (2.97 * 0.71 / 25.0) * (100 / eta_plant) - m_pcoal\n",
            " m_cooler_air - 0.76 * 23.0158 * m_pcoal\n",
            " m_cooler_air - m_phk_air\n",
            " (1 - 0.64) * m_rawmeal + 0.76 * m_pcoal + m_phk_air - m_stackgas\n",
            " 0.64 * m_rawmeal + (1 - 0.76) * m_pcoal - m_clinker\n",
            " m_hotclinker - m_clinker\n",
            " m_clinker + 0.05 * 100 + 0.33 * 100 - m_cement\n",
            " (100 * 44.0 / 100) + (0.76 * eta_kiln * 44.0 / 12.0) * m_pcoal - m_co2\n",
            " e_crusher - 3.5 * m_rm_gcv\n",
            " e_rawmill - 26.0 * m_rawmeal\n",
            " e_coalmill - 76.3 * m_pcoal\n",
            " e_phk_total - 2.97 * 1000 * m_clinker\n",
            " e_cooler - 37.7 * m_hotclinker\n",
            " e_cementmill - 30.0 * m_cement\n",
            "eta_plant - 0.6\n"
          ]
        }
      ]
    },
    {
      "cell_type": "markdown",
      "source": [
        "# Solving the optimization problem"
      ],
      "metadata": {
        "id": "ayYXW1-utqHl"
      }
    },
    {
      "cell_type": "code",
      "source": [
        "# Define the objective function\n",
        "def objective_function(decision_variables):\n",
        "    # x, y, z, w = initial_guess\n",
        "    for index, variable in enumerate(decision_var_list):\n",
        "      globals()[variable] = decision_variables[index]\n",
        "\n",
        "    equations = []\n",
        "    for equation in modified_eq_list_var:\n",
        "      equations.append(eval(equation))\n",
        "    # print(equations)\n",
        "    squared_errors = [result**2 for result in equations]\n",
        "    return sum(squared_errors)"
      ],
      "metadata": {
        "id": "1N9BHoMz3h9j"
      },
      "execution_count": 112,
      "outputs": []
    },
    {
      "cell_type": "code",
      "source": [
        "def constraints(decision_variables):\n",
        "\n",
        "    for index, variable in enumerate(decision_var_list):\n",
        "      globals()[variable] = decision_variables[index]\n",
        "\n",
        "    constraints = []\n",
        "    for equation in modified_eq_list_var:\n",
        "      constraints.append(eval(equation))\n",
        "    return constraints"
      ],
      "metadata": {
        "id": "aDxc_wxXEVNT"
      },
      "execution_count": 113,
      "outputs": []
    },
    {
      "cell_type": "code",
      "source": [
        "# Initial guess for the decision variables\n",
        "initial_guess = [1] * len(decision_var_list)\n",
        "\n",
        "# Bounds for the decision variables\n",
        "# bounds = [(0, 1000)]* len(variables_list)\n",
        "\n",
        "# If type of decision variable is correctable the bounds are adjusted to a tolerance\n",
        "tol = 0.2\n",
        "bounds = []\n",
        "for var in decision_var_list:\n",
        "  if var in correct_params:\n",
        "    value = correct_params_df.loc[correct_params_df['parameters'] == var, 'values'].values[0]\n",
        "    # value = param_dict[var]\n",
        "    lower_bound = value * (1 - tol)\n",
        "    upper_bound = value * (1 + tol)\n",
        "    bounds.append((lower_bound, upper_bound))\n",
        "\n",
        "  elif var in correct_vars:\n",
        "    value = correct_vars_df.loc[correct_vars_df['variables'] == var, 'values'].values[0]\n",
        "    # value = param_dict[var]\n",
        "    lower_bound = value * (1 - tol)\n",
        "    upper_bound = value * (1 + tol)\n",
        "    bounds.append((lower_bound, upper_bound))\n",
        "\n",
        "  else:\n",
        "    bounds.append((0, float('inf')))\n",
        "\n",
        "result = minimize(objective_function, initial_guess, bounds = bounds, constraints={'type': 'eq', 'fun': constraints})"
      ],
      "metadata": {
        "id": "J-P3NzlR3orz"
      },
      "execution_count": 114,
      "outputs": []
    },
    {
      "cell_type": "code",
      "source": [
        "# Extract the optimal solution\n",
        "optimal_solution = result.x\n",
        "print(\"Optimal solution:\", optimal_solution)"
      ],
      "metadata": {
        "id": "W1RpebUE3wdi",
        "colab": {
          "base_uri": "https://localhost:8080/"
        },
        "outputId": "a5b0ec90-52fb-42f8-9334-a78573b885ad"
      },
      "execution_count": 115,
      "outputs": [
        {
          "output_type": "stream",
          "name": "stdout",
          "text": [
            "Optimal solution: [1.11000000e+02 1.11000000e+02 1.40580000e+01 2.45902648e+02\n",
            " 7.44139200e+01 2.96546728e+02 7.44139200e+01 1.12413920e+02\n",
            " 2.45902648e+02 3.88500000e+02 2.88600000e+03 1.07262540e+03\n",
            " 2.21009342e+05 2.80540478e+03 3.37241760e+03 7.92834319e+01\n",
            " 9.00662870e-01 6.00000000e-01]\n"
          ]
        }
      ]
    },
    {
      "cell_type": "markdown",
      "source": [
        "# Print solution"
      ],
      "metadata": {
        "id": "wqd___FVsuR5"
      }
    },
    {
      "cell_type": "code",
      "source": [
        "for variable, value in zip(decision_var_list, optimal_solution):\n",
        "    value = round(value,2)\n",
        "    print(f\"{variable}: {value}\")"
      ],
      "metadata": {
        "colab": {
          "base_uri": "https://localhost:8080/"
        },
        "id": "AryDcxcIs8uG",
        "outputId": "79d87dc9-2c00-41e4-baba-198851d231c8"
      },
      "execution_count": 116,
      "outputs": [
        {
          "output_type": "stream",
          "name": "stdout",
          "text": [
            "m_rm_gcv: 111.0\n",
            "m_rawmeal: 111.0\n",
            "m_pcoal: 14.06\n",
            "m_phk_air: 245.9\n",
            "m_hotclinker: 74.41\n",
            "m_stackgas: 296.55\n",
            "m_clinker: 74.41\n",
            "m_cement: 112.41\n",
            "m_cooler_air: 245.9\n",
            "e_crusher: 388.5\n",
            "e_rawmill: 2886.0\n",
            "e_coalmill: 1072.63\n",
            "e_phk_total: 221009.34\n",
            "e_cooler: 2805.4\n",
            "e_cementmill: 3372.42\n",
            "m_co2: 79.28\n",
            "eta_kiln: 0.9\n",
            "eta_plant: 0.6\n"
          ]
        }
      ]
    }
  ],
  "metadata": {
    "kernelspec": {
      "display_name": "base",
      "language": "python",
      "name": "python3"
    },
    "language_info": {
      "codemirror_mode": {
        "name": "ipython",
        "version": 3
      },
      "file_extension": ".py",
      "mimetype": "text/x-python",
      "name": "python",
      "nbconvert_exporter": "python",
      "pygments_lexer": "ipython3",
      "version": "3.9.13"
    },
    "orig_nbformat": 4,
    "colab": {
      "provenance": [],
      "collapsed_sections": [
        "r9KgIAECtgxv",
        "ayYXW1-utqHl"
      ],
      "include_colab_link": true
    }
  },
  "nbformat": 4,
  "nbformat_minor": 0
}