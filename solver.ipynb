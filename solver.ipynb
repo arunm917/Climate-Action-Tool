{
  "cells": [
    {
      "cell_type": "markdown",
      "metadata": {
        "id": "view-in-github",
        "colab_type": "text"
      },
      "source": [
        "<a href=\"https://colab.research.google.com/github/arunm917/Climate-Action-Tool/blob/main/solver.ipynb\" target=\"_parent\"><img src=\"https://colab.research.google.com/assets/colab-badge.svg\" alt=\"Open In Colab\"/></a>"
      ]
    },
    {
      "cell_type": "markdown",
      "source": [
        "# Downloading packages and files"
      ],
      "metadata": {
        "id": "KdS99pR9tZiY"
      }
    },
    {
      "cell_type": "code",
      "execution_count": 22,
      "metadata": {
        "id": "tTLsHuFjR1NC"
      },
      "outputs": [],
      "source": [
        "import numpy as np\n",
        "import pandas as pd\n",
        "import gdown\n",
        "import regex as re\n",
        "from scipy.optimize import minimize"
      ]
    },
    {
      "cell_type": "code",
      "source": [
        "# from google.colab import files\n",
        "# uploaded = files.upload()"
      ],
      "metadata": {
        "id": "klbPqIK3l2X-"
      },
      "execution_count": 23,
      "outputs": []
    },
    {
      "cell_type": "code",
      "source": [
        "# downloading file from gdrive\n",
        "output = 'equations'\n",
        "file_id = '1q9cRaPAXvg2KSuc9f8WDjnfLQDFdmtew' # Google drive ID\n",
        "#Download the file\n",
        "gdown.download('https://drive.google.com/uc?id=' + file_id, output, quiet=False)\n",
        "print('\\nDONE.')"
      ],
      "metadata": {
        "colab": {
          "base_uri": "https://localhost:8080/"
        },
        "id": "CPLhUbpdsA8Q",
        "outputId": "c76c3895-7335-43b4-f501-1a612ba1cf9d"
      },
      "execution_count": 24,
      "outputs": [
        {
          "output_type": "stream",
          "name": "stderr",
          "text": [
            "Downloading...\n",
            "From: https://drive.google.com/uc?id=1q9cRaPAXvg2KSuc9f8WDjnfLQDFdmtew\n",
            "To: /content/equations\n",
            "100%|██████████| 578/578 [00:00<00:00, 428kB/s]"
          ]
        },
        {
          "output_type": "stream",
          "name": "stdout",
          "text": [
            "\n",
            "DONE.\n"
          ]
        },
        {
          "output_type": "stream",
          "name": "stderr",
          "text": [
            "\n"
          ]
        }
      ]
    },
    {
      "cell_type": "code",
      "source": [
        "# downloading file from gdrive\n",
        "output = 'parameters'\n",
        "file_id = '1qC5eDYSwAqwYZ0QqlVpayiuQnix9e85K' # Google drive ID\n",
        "#Download the file\n",
        "gdown.download('https://drive.google.com/uc?id=' + file_id, output, quiet=False)\n",
        "print('\\nDONE.')"
      ],
      "metadata": {
        "colab": {
          "base_uri": "https://localhost:8080/"
        },
        "id": "_VNs8JfDstU-",
        "outputId": "0ae1503b-3fd7-4c7a-9b41-a1b45b1000c7"
      },
      "execution_count": 25,
      "outputs": [
        {
          "output_type": "stream",
          "name": "stderr",
          "text": [
            "Downloading...\n",
            "From: https://drive.google.com/uc?id=1qC5eDYSwAqwYZ0QqlVpayiuQnix9e85K\n",
            "To: /content/parameters\n",
            "100%|██████████| 208/208 [00:00<00:00, 522kB/s]"
          ]
        },
        {
          "output_type": "stream",
          "name": "stdout",
          "text": [
            "\n",
            "DONE.\n"
          ]
        },
        {
          "output_type": "stream",
          "name": "stderr",
          "text": [
            "\n"
          ]
        }
      ]
    },
    {
      "cell_type": "code",
      "source": [
        "# downloading file from gdrive\n",
        "output = 'variables'\n",
        "file_id = '1qAyqEmDgX0hvR2LN3moC6i3SDNrlylYZ' # Google drive ID\n",
        "#Download the file\n",
        "gdown.download('https://drive.google.com/uc?id=' + file_id, output, quiet=False)\n",
        "print('\\nDONE.')"
      ],
      "metadata": {
        "colab": {
          "base_uri": "https://localhost:8080/"
        },
        "id": "BgRc7RZVsuv1",
        "outputId": "372fdfd5-7077-405b-938d-6a36a7d17b5d"
      },
      "execution_count": 26,
      "outputs": [
        {
          "output_type": "stream",
          "name": "stderr",
          "text": [
            "Downloading...\n",
            "From: https://drive.google.com/uc?id=1qAyqEmDgX0hvR2LN3moC6i3SDNrlylYZ\n",
            "To: /content/variables\n",
            "100%|██████████| 218/218 [00:00<00:00, 659kB/s]"
          ]
        },
        {
          "output_type": "stream",
          "name": "stdout",
          "text": [
            "\n",
            "DONE.\n"
          ]
        },
        {
          "output_type": "stream",
          "name": "stderr",
          "text": [
            "\n"
          ]
        }
      ]
    },
    {
      "cell_type": "markdown",
      "source": [
        "# Processing files"
      ],
      "metadata": {
        "id": "r9KgIAECtgxv"
      }
    },
    {
      "cell_type": "code",
      "execution_count": 27,
      "metadata": {
        "id": "t_oSCk3YR1NH"
      },
      "outputs": [],
      "source": [
        "parameters = pd.read_csv('parameters')"
      ]
    },
    {
      "cell_type": "code",
      "source": [
        "parameters"
      ],
      "metadata": {
        "colab": {
          "base_uri": "https://localhost:8080/",
          "height": 457
        },
        "id": "oP8u4XXDudd8",
        "outputId": "90fea611-e466-43d3-bc2f-995ab3f7968a"
      },
      "execution_count": 28,
      "outputs": [
        {
          "output_type": "execute_result",
          "data": {
            "text/plain": [
              "        parameters  values\n",
              "0      phi_crusher    3.50\n",
              "1           phi_rm   26.00\n",
              "2           phi_cm   76.30\n",
              "3          phi_phk   37.70\n",
              "4       phi_cooler   37.70\n",
              "5   phi_cementmill   30.00\n",
              "6         w_add_ls    0.11\n",
              "7           w_c_ls    0.06\n",
              "8         w_c_coal    1.00\n",
              "9          w_cl_rm    0.64\n",
              "10        w_air_ls    1.64\n",
              "11         w_gy_ls    0.05\n",
              "12        w_fly_ls    0.33"
            ],
            "text/html": [
              "\n",
              "  <div id=\"df-57c6e4cc-193e-415f-a566-b00e94802e2b\">\n",
              "    <div class=\"colab-df-container\">\n",
              "      <div>\n",
              "<style scoped>\n",
              "    .dataframe tbody tr th:only-of-type {\n",
              "        vertical-align: middle;\n",
              "    }\n",
              "\n",
              "    .dataframe tbody tr th {\n",
              "        vertical-align: top;\n",
              "    }\n",
              "\n",
              "    .dataframe thead th {\n",
              "        text-align: right;\n",
              "    }\n",
              "</style>\n",
              "<table border=\"1\" class=\"dataframe\">\n",
              "  <thead>\n",
              "    <tr style=\"text-align: right;\">\n",
              "      <th></th>\n",
              "      <th>parameters</th>\n",
              "      <th>values</th>\n",
              "    </tr>\n",
              "  </thead>\n",
              "  <tbody>\n",
              "    <tr>\n",
              "      <th>0</th>\n",
              "      <td>phi_crusher</td>\n",
              "      <td>3.50</td>\n",
              "    </tr>\n",
              "    <tr>\n",
              "      <th>1</th>\n",
              "      <td>phi_rm</td>\n",
              "      <td>26.00</td>\n",
              "    </tr>\n",
              "    <tr>\n",
              "      <th>2</th>\n",
              "      <td>phi_cm</td>\n",
              "      <td>76.30</td>\n",
              "    </tr>\n",
              "    <tr>\n",
              "      <th>3</th>\n",
              "      <td>phi_phk</td>\n",
              "      <td>37.70</td>\n",
              "    </tr>\n",
              "    <tr>\n",
              "      <th>4</th>\n",
              "      <td>phi_cooler</td>\n",
              "      <td>37.70</td>\n",
              "    </tr>\n",
              "    <tr>\n",
              "      <th>5</th>\n",
              "      <td>phi_cementmill</td>\n",
              "      <td>30.00</td>\n",
              "    </tr>\n",
              "    <tr>\n",
              "      <th>6</th>\n",
              "      <td>w_add_ls</td>\n",
              "      <td>0.11</td>\n",
              "    </tr>\n",
              "    <tr>\n",
              "      <th>7</th>\n",
              "      <td>w_c_ls</td>\n",
              "      <td>0.06</td>\n",
              "    </tr>\n",
              "    <tr>\n",
              "      <th>8</th>\n",
              "      <td>w_c_coal</td>\n",
              "      <td>1.00</td>\n",
              "    </tr>\n",
              "    <tr>\n",
              "      <th>9</th>\n",
              "      <td>w_cl_rm</td>\n",
              "      <td>0.64</td>\n",
              "    </tr>\n",
              "    <tr>\n",
              "      <th>10</th>\n",
              "      <td>w_air_ls</td>\n",
              "      <td>1.64</td>\n",
              "    </tr>\n",
              "    <tr>\n",
              "      <th>11</th>\n",
              "      <td>w_gy_ls</td>\n",
              "      <td>0.05</td>\n",
              "    </tr>\n",
              "    <tr>\n",
              "      <th>12</th>\n",
              "      <td>w_fly_ls</td>\n",
              "      <td>0.33</td>\n",
              "    </tr>\n",
              "  </tbody>\n",
              "</table>\n",
              "</div>\n",
              "      <button class=\"colab-df-convert\" onclick=\"convertToInteractive('df-57c6e4cc-193e-415f-a566-b00e94802e2b')\"\n",
              "              title=\"Convert this dataframe to an interactive table.\"\n",
              "              style=\"display:none;\">\n",
              "        \n",
              "  <svg xmlns=\"http://www.w3.org/2000/svg\" height=\"24px\"viewBox=\"0 0 24 24\"\n",
              "       width=\"24px\">\n",
              "    <path d=\"M0 0h24v24H0V0z\" fill=\"none\"/>\n",
              "    <path d=\"M18.56 5.44l.94 2.06.94-2.06 2.06-.94-2.06-.94-.94-2.06-.94 2.06-2.06.94zm-11 1L8.5 8.5l.94-2.06 2.06-.94-2.06-.94L8.5 2.5l-.94 2.06-2.06.94zm10 10l.94 2.06.94-2.06 2.06-.94-2.06-.94-.94-2.06-.94 2.06-2.06.94z\"/><path d=\"M17.41 7.96l-1.37-1.37c-.4-.4-.92-.59-1.43-.59-.52 0-1.04.2-1.43.59L10.3 9.45l-7.72 7.72c-.78.78-.78 2.05 0 2.83L4 21.41c.39.39.9.59 1.41.59.51 0 1.02-.2 1.41-.59l7.78-7.78 2.81-2.81c.8-.78.8-2.07 0-2.86zM5.41 20L4 18.59l7.72-7.72 1.47 1.35L5.41 20z\"/>\n",
              "  </svg>\n",
              "      </button>\n",
              "      \n",
              "  <style>\n",
              "    .colab-df-container {\n",
              "      display:flex;\n",
              "      flex-wrap:wrap;\n",
              "      gap: 12px;\n",
              "    }\n",
              "\n",
              "    .colab-df-convert {\n",
              "      background-color: #E8F0FE;\n",
              "      border: none;\n",
              "      border-radius: 50%;\n",
              "      cursor: pointer;\n",
              "      display: none;\n",
              "      fill: #1967D2;\n",
              "      height: 32px;\n",
              "      padding: 0 0 0 0;\n",
              "      width: 32px;\n",
              "    }\n",
              "\n",
              "    .colab-df-convert:hover {\n",
              "      background-color: #E2EBFA;\n",
              "      box-shadow: 0px 1px 2px rgba(60, 64, 67, 0.3), 0px 1px 3px 1px rgba(60, 64, 67, 0.15);\n",
              "      fill: #174EA6;\n",
              "    }\n",
              "\n",
              "    [theme=dark] .colab-df-convert {\n",
              "      background-color: #3B4455;\n",
              "      fill: #D2E3FC;\n",
              "    }\n",
              "\n",
              "    [theme=dark] .colab-df-convert:hover {\n",
              "      background-color: #434B5C;\n",
              "      box-shadow: 0px 1px 3px 1px rgba(0, 0, 0, 0.15);\n",
              "      filter: drop-shadow(0px 1px 2px rgba(0, 0, 0, 0.3));\n",
              "      fill: #FFFFFF;\n",
              "    }\n",
              "  </style>\n",
              "\n",
              "      <script>\n",
              "        const buttonEl =\n",
              "          document.querySelector('#df-57c6e4cc-193e-415f-a566-b00e94802e2b button.colab-df-convert');\n",
              "        buttonEl.style.display =\n",
              "          google.colab.kernel.accessAllowed ? 'block' : 'none';\n",
              "\n",
              "        async function convertToInteractive(key) {\n",
              "          const element = document.querySelector('#df-57c6e4cc-193e-415f-a566-b00e94802e2b');\n",
              "          const dataTable =\n",
              "            await google.colab.kernel.invokeFunction('convertToInteractive',\n",
              "                                                     [key], {});\n",
              "          if (!dataTable) return;\n",
              "\n",
              "          const docLinkHtml = 'Like what you see? Visit the ' +\n",
              "            '<a target=\"_blank\" href=https://colab.research.google.com/notebooks/data_table.ipynb>data table notebook</a>'\n",
              "            + ' to learn more about interactive tables.';\n",
              "          element.innerHTML = '';\n",
              "          dataTable['output_type'] = 'display_data';\n",
              "          await google.colab.output.renderOutput(dataTable, element);\n",
              "          const docLink = document.createElement('div');\n",
              "          docLink.innerHTML = docLinkHtml;\n",
              "          element.appendChild(docLink);\n",
              "        }\n",
              "      </script>\n",
              "    </div>\n",
              "  </div>\n",
              "  "
            ]
          },
          "metadata": {},
          "execution_count": 28
        }
      ]
    },
    {
      "cell_type": "code",
      "source": [
        "variables_df = pd.read_csv('variables')\n",
        "variables_df"
      ],
      "metadata": {
        "colab": {
          "base_uri": "https://localhost:8080/",
          "height": 551
        },
        "id": "y7LQDv_junnM",
        "outputId": "8f08838c-017a-490e-c318-ba1256af8a1a"
      },
      "execution_count": 29,
      "outputs": [
        {
          "output_type": "execute_result",
          "data": {
            "text/plain": [
              "       variables  values\n",
              "0           m_ls       0\n",
              "1           m_rm       0\n",
              "2      m_rawmeal       0\n",
              "3        m_pcoal       0\n",
              "4      m_phk_air       0\n",
              "5   m_hotclinker       0\n",
              "6     m_stackgas       0\n",
              "7      m_clinker       0\n",
              "8       m_cement       0\n",
              "9          m_co2       0\n",
              "10     e_crusher       0\n",
              "11     e_rawmill       0\n",
              "12    e_coalmill       0\n",
              "13   e_phk_total       0\n",
              "14      e_cooler       0\n",
              "15  e_cementmill       0"
            ],
            "text/html": [
              "\n",
              "  <div id=\"df-b45b9298-846a-4068-a6be-eeae27c8d3af\">\n",
              "    <div class=\"colab-df-container\">\n",
              "      <div>\n",
              "<style scoped>\n",
              "    .dataframe tbody tr th:only-of-type {\n",
              "        vertical-align: middle;\n",
              "    }\n",
              "\n",
              "    .dataframe tbody tr th {\n",
              "        vertical-align: top;\n",
              "    }\n",
              "\n",
              "    .dataframe thead th {\n",
              "        text-align: right;\n",
              "    }\n",
              "</style>\n",
              "<table border=\"1\" class=\"dataframe\">\n",
              "  <thead>\n",
              "    <tr style=\"text-align: right;\">\n",
              "      <th></th>\n",
              "      <th>variables</th>\n",
              "      <th>values</th>\n",
              "    </tr>\n",
              "  </thead>\n",
              "  <tbody>\n",
              "    <tr>\n",
              "      <th>0</th>\n",
              "      <td>m_ls</td>\n",
              "      <td>0</td>\n",
              "    </tr>\n",
              "    <tr>\n",
              "      <th>1</th>\n",
              "      <td>m_rm</td>\n",
              "      <td>0</td>\n",
              "    </tr>\n",
              "    <tr>\n",
              "      <th>2</th>\n",
              "      <td>m_rawmeal</td>\n",
              "      <td>0</td>\n",
              "    </tr>\n",
              "    <tr>\n",
              "      <th>3</th>\n",
              "      <td>m_pcoal</td>\n",
              "      <td>0</td>\n",
              "    </tr>\n",
              "    <tr>\n",
              "      <th>4</th>\n",
              "      <td>m_phk_air</td>\n",
              "      <td>0</td>\n",
              "    </tr>\n",
              "    <tr>\n",
              "      <th>5</th>\n",
              "      <td>m_hotclinker</td>\n",
              "      <td>0</td>\n",
              "    </tr>\n",
              "    <tr>\n",
              "      <th>6</th>\n",
              "      <td>m_stackgas</td>\n",
              "      <td>0</td>\n",
              "    </tr>\n",
              "    <tr>\n",
              "      <th>7</th>\n",
              "      <td>m_clinker</td>\n",
              "      <td>0</td>\n",
              "    </tr>\n",
              "    <tr>\n",
              "      <th>8</th>\n",
              "      <td>m_cement</td>\n",
              "      <td>0</td>\n",
              "    </tr>\n",
              "    <tr>\n",
              "      <th>9</th>\n",
              "      <td>m_co2</td>\n",
              "      <td>0</td>\n",
              "    </tr>\n",
              "    <tr>\n",
              "      <th>10</th>\n",
              "      <td>e_crusher</td>\n",
              "      <td>0</td>\n",
              "    </tr>\n",
              "    <tr>\n",
              "      <th>11</th>\n",
              "      <td>e_rawmill</td>\n",
              "      <td>0</td>\n",
              "    </tr>\n",
              "    <tr>\n",
              "      <th>12</th>\n",
              "      <td>e_coalmill</td>\n",
              "      <td>0</td>\n",
              "    </tr>\n",
              "    <tr>\n",
              "      <th>13</th>\n",
              "      <td>e_phk_total</td>\n",
              "      <td>0</td>\n",
              "    </tr>\n",
              "    <tr>\n",
              "      <th>14</th>\n",
              "      <td>e_cooler</td>\n",
              "      <td>0</td>\n",
              "    </tr>\n",
              "    <tr>\n",
              "      <th>15</th>\n",
              "      <td>e_cementmill</td>\n",
              "      <td>0</td>\n",
              "    </tr>\n",
              "  </tbody>\n",
              "</table>\n",
              "</div>\n",
              "      <button class=\"colab-df-convert\" onclick=\"convertToInteractive('df-b45b9298-846a-4068-a6be-eeae27c8d3af')\"\n",
              "              title=\"Convert this dataframe to an interactive table.\"\n",
              "              style=\"display:none;\">\n",
              "        \n",
              "  <svg xmlns=\"http://www.w3.org/2000/svg\" height=\"24px\"viewBox=\"0 0 24 24\"\n",
              "       width=\"24px\">\n",
              "    <path d=\"M0 0h24v24H0V0z\" fill=\"none\"/>\n",
              "    <path d=\"M18.56 5.44l.94 2.06.94-2.06 2.06-.94-2.06-.94-.94-2.06-.94 2.06-2.06.94zm-11 1L8.5 8.5l.94-2.06 2.06-.94-2.06-.94L8.5 2.5l-.94 2.06-2.06.94zm10 10l.94 2.06.94-2.06 2.06-.94-2.06-.94-.94-2.06-.94 2.06-2.06.94z\"/><path d=\"M17.41 7.96l-1.37-1.37c-.4-.4-.92-.59-1.43-.59-.52 0-1.04.2-1.43.59L10.3 9.45l-7.72 7.72c-.78.78-.78 2.05 0 2.83L4 21.41c.39.39.9.59 1.41.59.51 0 1.02-.2 1.41-.59l7.78-7.78 2.81-2.81c.8-.78.8-2.07 0-2.86zM5.41 20L4 18.59l7.72-7.72 1.47 1.35L5.41 20z\"/>\n",
              "  </svg>\n",
              "      </button>\n",
              "      \n",
              "  <style>\n",
              "    .colab-df-container {\n",
              "      display:flex;\n",
              "      flex-wrap:wrap;\n",
              "      gap: 12px;\n",
              "    }\n",
              "\n",
              "    .colab-df-convert {\n",
              "      background-color: #E8F0FE;\n",
              "      border: none;\n",
              "      border-radius: 50%;\n",
              "      cursor: pointer;\n",
              "      display: none;\n",
              "      fill: #1967D2;\n",
              "      height: 32px;\n",
              "      padding: 0 0 0 0;\n",
              "      width: 32px;\n",
              "    }\n",
              "\n",
              "    .colab-df-convert:hover {\n",
              "      background-color: #E2EBFA;\n",
              "      box-shadow: 0px 1px 2px rgba(60, 64, 67, 0.3), 0px 1px 3px 1px rgba(60, 64, 67, 0.15);\n",
              "      fill: #174EA6;\n",
              "    }\n",
              "\n",
              "    [theme=dark] .colab-df-convert {\n",
              "      background-color: #3B4455;\n",
              "      fill: #D2E3FC;\n",
              "    }\n",
              "\n",
              "    [theme=dark] .colab-df-convert:hover {\n",
              "      background-color: #434B5C;\n",
              "      box-shadow: 0px 1px 3px 1px rgba(0, 0, 0, 0.15);\n",
              "      filter: drop-shadow(0px 1px 2px rgba(0, 0, 0, 0.3));\n",
              "      fill: #FFFFFF;\n",
              "    }\n",
              "  </style>\n",
              "\n",
              "      <script>\n",
              "        const buttonEl =\n",
              "          document.querySelector('#df-b45b9298-846a-4068-a6be-eeae27c8d3af button.colab-df-convert');\n",
              "        buttonEl.style.display =\n",
              "          google.colab.kernel.accessAllowed ? 'block' : 'none';\n",
              "\n",
              "        async function convertToInteractive(key) {\n",
              "          const element = document.querySelector('#df-b45b9298-846a-4068-a6be-eeae27c8d3af');\n",
              "          const dataTable =\n",
              "            await google.colab.kernel.invokeFunction('convertToInteractive',\n",
              "                                                     [key], {});\n",
              "          if (!dataTable) return;\n",
              "\n",
              "          const docLinkHtml = 'Like what you see? Visit the ' +\n",
              "            '<a target=\"_blank\" href=https://colab.research.google.com/notebooks/data_table.ipynb>data table notebook</a>'\n",
              "            + ' to learn more about interactive tables.';\n",
              "          element.innerHTML = '';\n",
              "          dataTable['output_type'] = 'display_data';\n",
              "          await google.colab.output.renderOutput(dataTable, element);\n",
              "          const docLink = document.createElement('div');\n",
              "          docLink.innerHTML = docLinkHtml;\n",
              "          element.appendChild(docLink);\n",
              "        }\n",
              "      </script>\n",
              "    </div>\n",
              "  </div>\n",
              "  "
            ]
          },
          "metadata": {},
          "execution_count": 29
        }
      ]
    },
    {
      "cell_type": "code",
      "source": [
        "variables_list = list(variables_df['variables'])"
      ],
      "metadata": {
        "id": "i95q64vC4bmU"
      },
      "execution_count": 30,
      "outputs": []
    },
    {
      "cell_type": "code",
      "source": [
        "print(variables_list)"
      ],
      "metadata": {
        "colab": {
          "base_uri": "https://localhost:8080/"
        },
        "id": "Uyfmx9_849sM",
        "outputId": "2a41a12d-814b-41e0-b06c-7a64bab3e5bc"
      },
      "execution_count": 31,
      "outputs": [
        {
          "output_type": "stream",
          "name": "stdout",
          "text": [
            "['m_ls', 'm_rm', 'm_rawmeal', 'm_pcoal', 'm_phk_air', 'm_hotclinker', 'm_stackgas', 'm_clinker', 'm_cement', 'm_co2', 'e_crusher', 'e_rawmill', 'e_coalmill', 'e_phk_total', 'e_cooler', 'e_cementmill']\n"
          ]
        }
      ]
    },
    {
      "cell_type": "code",
      "execution_count": 32,
      "metadata": {
        "id": "CRaZZlk6R1NJ"
      },
      "outputs": [],
      "source": [
        "with open('equations', 'r') as f:\n",
        "    # Read the equations line by line\n",
        "    eq_lines = f.readlines()"
      ]
    },
    {
      "cell_type": "code",
      "execution_count": 33,
      "metadata": {
        "id": "YS11BD2MR1NJ",
        "outputId": "7554b6c8-1dbe-4e6d-d5c4-9fadbfe856e2",
        "colab": {
          "base_uri": "https://localhost:8080/"
        }
      },
      "outputs": [
        {
          "output_type": "stream",
          "name": "stdout",
          "text": [
            "['eq1: w_add_ls * m_ls - m_rm + 100\\n', 'eq2: m_rm - m_rawmeal\\n', 'eq3: (w_c_ls/w_c_coal) * m_ls - m_pcoal\\n', 'eq4: (1 - w_cl_rm) * m_rawmeal + w_c_coal * m_pcoal + m_phk_air - m_stackgas\\n', 'eq5: m_hotclinker + w_air_ls * m_ls - m_phk_air - m_clinker\\n', 'eq6: m_clinker + w_gy_ls * m_ls + w_fly_ls * m_ls - m_cement\\n', 'eq7: e_crusher - phi_crusher * m_rm\\n', 'eq8: e_rawmill - phi_rm * m_rawmeal\\n', 'eq9: e_coalmill - phi_cm * m_pcoal\\n', 'eq10: e_phk_total - phi_phk * m_hotclinker - (w_c_ls * 393.5/12) * m_pcoal\\n', 'eq11: e_cooler - phi_cooler * m_hotclinker\\n', 'eq12: e_cementmill - phi_cementmill * m_cement\\n']\n"
          ]
        }
      ],
      "source": [
        "print(eq_lines)"
      ]
    },
    {
      "cell_type": "code",
      "execution_count": 34,
      "metadata": {
        "id": "YnMT1VBsR1NK",
        "colab": {
          "base_uri": "https://localhost:8080/"
        },
        "outputId": "603d10e0-33bb-484e-a261-3a825e7d24e0"
      },
      "outputs": [
        {
          "output_type": "stream",
          "name": "stdout",
          "text": [
            "[' w_add_ls * m_ls - m_rm + 100', ' m_rm - m_rawmeal', ' (w_c_ls/w_c_coal) * m_ls - m_pcoal', ' (1 - w_cl_rm) * m_rawmeal + w_c_coal * m_pcoal + m_phk_air - m_stackgas', ' m_hotclinker + w_air_ls * m_ls - m_phk_air - m_clinker', ' m_clinker + w_gy_ls * m_ls + w_fly_ls * m_ls - m_cement', ' e_crusher - phi_crusher * m_rm', ' e_rawmill - phi_rm * m_rawmeal', ' e_coalmill - phi_cm * m_pcoal', ' e_phk_total - phi_phk * m_hotclinker - (w_c_ls * 393.5/12) * m_pcoal', ' e_cooler - phi_cooler * m_hotclinker', ' e_cementmill - phi_cementmill * m_cement']\n"
          ]
        }
      ],
      "source": [
        "# Create a list to store the equations\n",
        "eq_list = []\n",
        "\n",
        "# Loop through the equation lines\n",
        "for eq_line in eq_lines:\n",
        "    # Split the line into the equation name and the equation expression\n",
        "    eq_name, eq_expr = eq_line.strip().split(':')\n",
        "    # Convert the tuple of symbols to a single expression\n",
        "    eq_list.append(eq_expr) \n",
        "    # Add the equation to the dictionary\n",
        "print(eq_list)"
      ]
    },
    {
      "cell_type": "code",
      "execution_count": 35,
      "metadata": {
        "id": "nGf16bA1R1NM",
        "outputId": "a6924790-b081-4794-8087-429cd3537778",
        "colab": {
          "base_uri": "https://localhost:8080/"
        }
      },
      "outputs": [
        {
          "output_type": "stream",
          "name": "stdout",
          "text": [
            "{'phi_crusher': 3.5, 'phi_rm': 26.0, 'phi_cm': 76.3, 'phi_phk': 37.7, 'phi_cooler': 37.7, 'phi_cementmill': 30.0, 'w_add_ls': 0.11, 'w_c_ls': 0.06, 'w_c_coal': 1.0, 'w_cl_rm': 0.64, 'w_air_ls': 1.64, 'w_gy_ls': 0.05, 'w_fly_ls': 0.33}\n"
          ]
        }
      ],
      "source": [
        "# Creating dictionary for parameters and values\n",
        "param_dict = dict(zip(parameters['parameters'],parameters['values']))\n",
        "print(param_dict)"
      ]
    },
    {
      "cell_type": "code",
      "execution_count": 36,
      "metadata": {
        "id": "heYwSSfqR1NM",
        "outputId": "8cfeaf41-3c98-4789-80e8-0ce1d36b3923",
        "colab": {
          "base_uri": "https://localhost:8080/"
        }
      },
      "outputs": [
        {
          "output_type": "stream",
          "name": "stdout",
          "text": [
            "[' 0.11 * m_ls - m_rm + 100', ' m_rm - m_rawmeal', ' (0.06/1.0) * m_ls - m_pcoal', ' (1 - 0.64) * m_rawmeal + 1.0 * m_pcoal + m_phk_air - m_stackgas', ' m_hotclinker + 1.64 * m_ls - m_phk_air - m_clinker', ' m_clinker + 0.05 * m_ls + 0.33 * m_ls - m_cement', ' e_crusher - 3.5 * m_rm', ' e_rawmill - 26.0 * m_rawmeal', ' e_coalmill - 76.3 * m_pcoal', ' e_phk_total - 37.7 * m_hotclinker - (0.06 * 393.5/12) * m_pcoal', ' e_cooler - 37.7 * m_hotclinker', ' e_cementmill - 30.0 * m_cement']\n"
          ]
        }
      ],
      "source": [
        "# Substituting parameters in equation with their values\n",
        "modified_list = []\n",
        "for eq in eq_list:\n",
        "  for key in param_dict:\n",
        "    if key in eq:\n",
        "        value = param_dict.get(key)\n",
        "        eq = eq.replace(key, str(param_dict.get(key)))\n",
        "  modified_list.append(eq)\n",
        "print(modified_list)"
      ]
    },
    {
      "cell_type": "code",
      "source": [
        "for item in modified_list:\n",
        "  print(item)"
      ],
      "metadata": {
        "colab": {
          "base_uri": "https://localhost:8080/"
        },
        "id": "lfW6GMpz12U9",
        "outputId": "d377e797-2279-41cd-9f11-40234b766a23"
      },
      "execution_count": 37,
      "outputs": [
        {
          "output_type": "stream",
          "name": "stdout",
          "text": [
            " 0.11 * m_ls - m_rm + 100\n",
            " m_rm - m_rawmeal\n",
            " (0.06/1.0) * m_ls - m_pcoal\n",
            " (1 - 0.64) * m_rawmeal + 1.0 * m_pcoal + m_phk_air - m_stackgas\n",
            " m_hotclinker + 1.64 * m_ls - m_phk_air - m_clinker\n",
            " m_clinker + 0.05 * m_ls + 0.33 * m_ls - m_cement\n",
            " e_crusher - 3.5 * m_rm\n",
            " e_rawmill - 26.0 * m_rawmeal\n",
            " e_coalmill - 76.3 * m_pcoal\n",
            " e_phk_total - 37.7 * m_hotclinker - (0.06 * 393.5/12) * m_pcoal\n",
            " e_cooler - 37.7 * m_hotclinker\n",
            " e_cementmill - 30.0 * m_cement\n"
          ]
        }
      ]
    },
    {
      "cell_type": "markdown",
      "source": [
        "# Evaluating coefficients"
      ],
      "metadata": {
        "id": "XFyOujcvXQlB"
      }
    },
    {
      "cell_type": "code",
      "source": [
        "corrected_equations = []\n",
        "expressions_inside_parentheses = []\n",
        "for equation in modified_list:\n",
        "  matches = re.findall(r'(\\(.*?\\))', equation)\n",
        "  # print(matches)\n",
        "  for expression in matches:\n",
        "    # print(expression)\n",
        "    eval_coeff = eval(expression)\n",
        "    # print(eval_coeff)\n",
        "    equation = equation.replace(expression, str(eval_coeff))\n",
        "  # expressions_inside_parentheses.extend(matches)\n",
        "  corrected_equations.append(equation)\n",
        "\n",
        "print(corrected_equations)\n",
        "# print(expressions_inside_parentheses)"
      ],
      "metadata": {
        "colab": {
          "base_uri": "https://localhost:8080/"
        },
        "id": "rhOGt1kGZXyh",
        "outputId": "538c8108-c2ab-4076-e84d-a62310158e51"
      },
      "execution_count": 38,
      "outputs": [
        {
          "output_type": "stream",
          "name": "stdout",
          "text": [
            "[' 0.11 * m_ls - m_rm + 100', ' m_rm - m_rawmeal', ' 0.06 * m_ls - m_pcoal', ' 0.36 * m_rawmeal + 1.0 * m_pcoal + m_phk_air - m_stackgas', ' m_hotclinker + 1.64 * m_ls - m_phk_air - m_clinker', ' m_clinker + 0.05 * m_ls + 0.33 * m_ls - m_cement', ' e_crusher - 3.5 * m_rm', ' e_rawmill - 26.0 * m_rawmeal', ' e_coalmill - 76.3 * m_pcoal', ' e_phk_total - 37.7 * m_hotclinker - 1.9675 * m_pcoal', ' e_cooler - 37.7 * m_hotclinker', ' e_cementmill - 30.0 * m_cement']\n"
          ]
        }
      ]
    },
    {
      "cell_type": "code",
      "source": [
        "for item in corrected_equations:\n",
        "  print(item)"
      ],
      "metadata": {
        "colab": {
          "base_uri": "https://localhost:8080/"
        },
        "id": "nwTB47Jyco4p",
        "outputId": "b8fc19f8-2514-4b67-a830-9fefac8594b6"
      },
      "execution_count": 39,
      "outputs": [
        {
          "output_type": "stream",
          "name": "stdout",
          "text": [
            " 0.11 * m_ls - m_rm + 100\n",
            " m_rm - m_rawmeal\n",
            " 0.06 * m_ls - m_pcoal\n",
            " 0.36 * m_rawmeal + 1.0 * m_pcoal + m_phk_air - m_stackgas\n",
            " m_hotclinker + 1.64 * m_ls - m_phk_air - m_clinker\n",
            " m_clinker + 0.05 * m_ls + 0.33 * m_ls - m_cement\n",
            " e_crusher - 3.5 * m_rm\n",
            " e_rawmill - 26.0 * m_rawmeal\n",
            " e_coalmill - 76.3 * m_pcoal\n",
            " e_phk_total - 37.7 * m_hotclinker - 1.9675 * m_pcoal\n",
            " e_cooler - 37.7 * m_hotclinker\n",
            " e_cementmill - 30.0 * m_cement\n"
          ]
        }
      ]
    },
    {
      "cell_type": "markdown",
      "source": [
        "# Solving the optimization problem"
      ],
      "metadata": {
        "id": "ayYXW1-utqHl"
      }
    },
    {
      "cell_type": "code",
      "source": [
        "# Define the objective function\n",
        "def objective_function(decision_variables):\n",
        "    # x, y, z, w = initial_guess\n",
        "    for index, variable in enumerate(variables_list):\n",
        "      globals()[variable] = decision_variables[index]\n",
        "\n",
        "    equations = []\n",
        "    for equation in corrected_equations:\n",
        "      equations.append(eval(equation))\n",
        "    squared_errors = [result**2 for result in equations]\n",
        "    return sum(squared_errors)"
      ],
      "metadata": {
        "id": "1N9BHoMz3h9j"
      },
      "execution_count": 51,
      "outputs": []
    },
    {
      "cell_type": "code",
      "source": [
        "def constraints(decision_variables):\n",
        "\n",
        "    for index, variable in enumerate(variables_list):\n",
        "      globals()[variable] = decision_variables[index]\n",
        "\n",
        "    constraints = []\n",
        "    for equation in corrected_equations:\n",
        "      constraints.append(eval(equation))\n",
        "    return constraints"
      ],
      "metadata": {
        "id": "aDxc_wxXEVNT"
      },
      "execution_count": 52,
      "outputs": []
    },
    {
      "cell_type": "code",
      "source": [
        "# Initial guess for the decision variables\n",
        "initial_guess = [1] * len(variables_list)\n",
        "\n",
        "# Bounds for the decision variables\n",
        "bounds = [(0, 1000)]* len(variables_list)\n",
        "\n",
        "result = minimize(objective_function, initial_guess, bounds = bounds, constraints={'type': 'eq', 'fun': constraints})"
      ],
      "metadata": {
        "id": "J-P3NzlR3orz"
      },
      "execution_count": 57,
      "outputs": []
    },
    {
      "cell_type": "code",
      "source": [
        "# Extract the optimal solution\n",
        "optimal_solution = result.x\n",
        "print(\"Optimal solution:\", optimal_solution)"
      ],
      "metadata": {
        "colab": {
          "base_uri": "https://localhost:8080/"
        },
        "id": "W1RpebUE3wdi",
        "outputId": "5c73a6c8-834f-40fb-9ae7-946dc48a5600"
      },
      "execution_count": 58,
      "outputs": [
        {
          "output_type": "stream",
          "name": "stdout",
          "text": [
            "Optimal solution: [4.81031876e-01 3.90533399e+01 3.90533399e+01 6.07406955e-01\n",
            " 3.22653345e-01 6.21628766e-01 1.41522171e+01 6.93964687e-01\n",
            " 6.42876888e-01 1.00000000e+00 1.35148006e+02 1.00000000e+03\n",
            " 3.49867111e-14 8.31658074e-01 8.47528864e-01 1.43757661e+00]\n"
          ]
        }
      ]
    }
  ],
  "metadata": {
    "kernelspec": {
      "display_name": "base",
      "language": "python",
      "name": "python3"
    },
    "language_info": {
      "codemirror_mode": {
        "name": "ipython",
        "version": 3
      },
      "file_extension": ".py",
      "mimetype": "text/x-python",
      "name": "python",
      "nbconvert_exporter": "python",
      "pygments_lexer": "ipython3",
      "version": "3.9.13"
    },
    "orig_nbformat": 4,
    "colab": {
      "provenance": [],
      "collapsed_sections": [
        "KdS99pR9tZiY",
        "r9KgIAECtgxv",
        "XFyOujcvXQlB",
        "ayYXW1-utqHl"
      ],
      "include_colab_link": true
    }
  },
  "nbformat": 4,
  "nbformat_minor": 0
}