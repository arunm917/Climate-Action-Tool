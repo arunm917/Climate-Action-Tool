{
  "cells": [
    {
      "cell_type": "markdown",
      "metadata": {
        "id": "view-in-github",
        "colab_type": "text"
      },
      "source": [
        "<a href=\"https://colab.research.google.com/github/arunm917/Climate-Action-Tool/blob/main/equation_solver_test.ipynb\" target=\"_parent\"><img src=\"https://colab.research.google.com/assets/colab-badge.svg\" alt=\"Open In Colab\"/></a>"
      ]
    },
    {
      "cell_type": "markdown",
      "source": [
        "# Downloading packages and files"
      ],
      "metadata": {
        "id": "KdS99pR9tZiY"
      }
    },
    {
      "cell_type": "code",
      "execution_count": null,
      "metadata": {
        "id": "tTLsHuFjR1NC"
      },
      "outputs": [],
      "source": [
        "import numpy as np\n",
        "import pandas as pd\n",
        "import gdown\n",
        "import regex as re\n",
        "from scipy.optimize import minimize"
      ]
    },
    {
      "cell_type": "code",
      "source": [
        "# from google.colab import files\n",
        "# uploaded = files.upload()"
      ],
      "metadata": {
        "id": "klbPqIK3l2X-"
      },
      "execution_count": null,
      "outputs": []
    },
    {
      "cell_type": "code",
      "source": [
        "# downloading file from gdrive\n",
        "output = 'equations'\n",
        "file_id = '1qEMQT4lnXe0X2WgNZ2QHciH1lw_rDsgp' # Google drive ID\n",
        "#Download the file\n",
        "gdown.download('https://drive.google.com/uc?id=' + file_id, output, quiet=False)\n",
        "print('\\nDONE.')"
      ],
      "metadata": {
        "colab": {
          "base_uri": "https://localhost:8080/"
        },
        "id": "CPLhUbpdsA8Q",
        "outputId": "1afe317a-1b95-4560-e9a3-6576ff20c599"
      },
      "execution_count": null,
      "outputs": [
        {
          "output_type": "stream",
          "name": "stderr",
          "text": [
            "Downloading...\n",
            "From: https://drive.google.com/uc?id=1qEMQT4lnXe0X2WgNZ2QHciH1lw_rDsgp\n",
            "To: /content/equations\n",
            "100%|██████████| 89.0/89.0 [00:00<00:00, 260kB/s]"
          ]
        },
        {
          "output_type": "stream",
          "name": "stdout",
          "text": [
            "\n",
            "DONE.\n"
          ]
        },
        {
          "output_type": "stream",
          "name": "stderr",
          "text": [
            "\n"
          ]
        }
      ]
    },
    {
      "cell_type": "code",
      "source": [
        "# downloading file from gdrive\n",
        "output = 'parameters'\n",
        "file_id = '1qEVz2N1atZjRtPK4kGYbZp-bOIrctm2V' # Google drive ID\n",
        "#Download the file\n",
        "gdown.download('https://drive.google.com/uc?id=' + file_id, output, quiet=False)\n",
        "print('\\nDONE.')"
      ],
      "metadata": {
        "colab": {
          "base_uri": "https://localhost:8080/"
        },
        "id": "_VNs8JfDstU-",
        "outputId": "77b77bcf-3835-49c9-8a4e-3ea0146b35bc"
      },
      "execution_count": null,
      "outputs": [
        {
          "output_type": "stream",
          "name": "stderr",
          "text": [
            "Downloading...\n",
            "From: https://drive.google.com/uc?id=1qEVz2N1atZjRtPK4kGYbZp-bOIrctm2V\n",
            "To: /content/parameters\n",
            "100%|██████████| 212/212 [00:00<00:00, 613kB/s]"
          ]
        },
        {
          "output_type": "stream",
          "name": "stdout",
          "text": [
            "\n",
            "DONE.\n"
          ]
        },
        {
          "output_type": "stream",
          "name": "stderr",
          "text": [
            "\n"
          ]
        }
      ]
    },
    {
      "cell_type": "code",
      "source": [
        "# downloading file from gdrive\n",
        "output = 'variables'\n",
        "file_id = '1qFxa_f1ApVT0BBi_ed826kZ9ombKqap5' # Google drive ID\n",
        "#Download the file\n",
        "gdown.download('https://drive.google.com/uc?id=' + file_id, output, quiet=False)\n",
        "print('\\nDONE.')"
      ],
      "metadata": {
        "colab": {
          "base_uri": "https://localhost:8080/"
        },
        "id": "BgRc7RZVsuv1",
        "outputId": "53fc51d4-567b-49a9-ad48-02ca91367ec6"
      },
      "execution_count": null,
      "outputs": [
        {
          "output_type": "stream",
          "name": "stderr",
          "text": [
            "Downloading...\n",
            "From: https://drive.google.com/uc?id=1qFxa_f1ApVT0BBi_ed826kZ9ombKqap5\n",
            "To: /content/variables\n",
            "100%|██████████| 38.0/38.0 [00:00<00:00, 75.9kB/s]"
          ]
        },
        {
          "output_type": "stream",
          "name": "stdout",
          "text": [
            "\n",
            "DONE.\n"
          ]
        },
        {
          "output_type": "stream",
          "name": "stderr",
          "text": [
            "\n"
          ]
        }
      ]
    },
    {
      "cell_type": "markdown",
      "source": [
        "# Processing files"
      ],
      "metadata": {
        "id": "r9KgIAECtgxv"
      }
    },
    {
      "cell_type": "code",
      "execution_count": null,
      "metadata": {
        "id": "t_oSCk3YR1NH"
      },
      "outputs": [],
      "source": [
        "parameters = pd.read_csv('parameters')"
      ]
    },
    {
      "cell_type": "code",
      "source": [
        "parameters"
      ],
      "metadata": {
        "colab": {
          "base_uri": "https://localhost:8080/",
          "height": 143
        },
        "id": "oP8u4XXDudd8",
        "outputId": "e7789ee7-0e26-4e19-f28a-4de05632bfe6"
      },
      "execution_count": null,
      "outputs": [
        {
          "output_type": "execute_result",
          "data": {
            "text/plain": [
              "  parameters  values   Status  \\\n",
              "0       phi1       3    Float   \n",
              "1       phi2       2    fixed   \n",
              "2       phi3       2  Correct   \n",
              "\n",
              "                                              Remark  \n",
              "0         Parameter is part of the decision variable  \n",
              "1                                     Value is fixed  \n",
              "2  Paramete is changed by a small margin by min. ...  "
            ],
            "text/html": [
              "\n",
              "  <div id=\"df-2ecb1afc-3946-42e4-b333-72a2e799f5ce\">\n",
              "    <div class=\"colab-df-container\">\n",
              "      <div>\n",
              "<style scoped>\n",
              "    .dataframe tbody tr th:only-of-type {\n",
              "        vertical-align: middle;\n",
              "    }\n",
              "\n",
              "    .dataframe tbody tr th {\n",
              "        vertical-align: top;\n",
              "    }\n",
              "\n",
              "    .dataframe thead th {\n",
              "        text-align: right;\n",
              "    }\n",
              "</style>\n",
              "<table border=\"1\" class=\"dataframe\">\n",
              "  <thead>\n",
              "    <tr style=\"text-align: right;\">\n",
              "      <th></th>\n",
              "      <th>parameters</th>\n",
              "      <th>values</th>\n",
              "      <th>Status</th>\n",
              "      <th>Remark</th>\n",
              "    </tr>\n",
              "  </thead>\n",
              "  <tbody>\n",
              "    <tr>\n",
              "      <th>0</th>\n",
              "      <td>phi1</td>\n",
              "      <td>3</td>\n",
              "      <td>Float</td>\n",
              "      <td>Parameter is part of the decision variable</td>\n",
              "    </tr>\n",
              "    <tr>\n",
              "      <th>1</th>\n",
              "      <td>phi2</td>\n",
              "      <td>2</td>\n",
              "      <td>fixed</td>\n",
              "      <td>Value is fixed</td>\n",
              "    </tr>\n",
              "    <tr>\n",
              "      <th>2</th>\n",
              "      <td>phi3</td>\n",
              "      <td>2</td>\n",
              "      <td>Correct</td>\n",
              "      <td>Paramete is changed by a small margin by min. ...</td>\n",
              "    </tr>\n",
              "  </tbody>\n",
              "</table>\n",
              "</div>\n",
              "      <button class=\"colab-df-convert\" onclick=\"convertToInteractive('df-2ecb1afc-3946-42e4-b333-72a2e799f5ce')\"\n",
              "              title=\"Convert this dataframe to an interactive table.\"\n",
              "              style=\"display:none;\">\n",
              "        \n",
              "  <svg xmlns=\"http://www.w3.org/2000/svg\" height=\"24px\"viewBox=\"0 0 24 24\"\n",
              "       width=\"24px\">\n",
              "    <path d=\"M0 0h24v24H0V0z\" fill=\"none\"/>\n",
              "    <path d=\"M18.56 5.44l.94 2.06.94-2.06 2.06-.94-2.06-.94-.94-2.06-.94 2.06-2.06.94zm-11 1L8.5 8.5l.94-2.06 2.06-.94-2.06-.94L8.5 2.5l-.94 2.06-2.06.94zm10 10l.94 2.06.94-2.06 2.06-.94-2.06-.94-.94-2.06-.94 2.06-2.06.94z\"/><path d=\"M17.41 7.96l-1.37-1.37c-.4-.4-.92-.59-1.43-.59-.52 0-1.04.2-1.43.59L10.3 9.45l-7.72 7.72c-.78.78-.78 2.05 0 2.83L4 21.41c.39.39.9.59 1.41.59.51 0 1.02-.2 1.41-.59l7.78-7.78 2.81-2.81c.8-.78.8-2.07 0-2.86zM5.41 20L4 18.59l7.72-7.72 1.47 1.35L5.41 20z\"/>\n",
              "  </svg>\n",
              "      </button>\n",
              "      \n",
              "  <style>\n",
              "    .colab-df-container {\n",
              "      display:flex;\n",
              "      flex-wrap:wrap;\n",
              "      gap: 12px;\n",
              "    }\n",
              "\n",
              "    .colab-df-convert {\n",
              "      background-color: #E8F0FE;\n",
              "      border: none;\n",
              "      border-radius: 50%;\n",
              "      cursor: pointer;\n",
              "      display: none;\n",
              "      fill: #1967D2;\n",
              "      height: 32px;\n",
              "      padding: 0 0 0 0;\n",
              "      width: 32px;\n",
              "    }\n",
              "\n",
              "    .colab-df-convert:hover {\n",
              "      background-color: #E2EBFA;\n",
              "      box-shadow: 0px 1px 2px rgba(60, 64, 67, 0.3), 0px 1px 3px 1px rgba(60, 64, 67, 0.15);\n",
              "      fill: #174EA6;\n",
              "    }\n",
              "\n",
              "    [theme=dark] .colab-df-convert {\n",
              "      background-color: #3B4455;\n",
              "      fill: #D2E3FC;\n",
              "    }\n",
              "\n",
              "    [theme=dark] .colab-df-convert:hover {\n",
              "      background-color: #434B5C;\n",
              "      box-shadow: 0px 1px 3px 1px rgba(0, 0, 0, 0.15);\n",
              "      filter: drop-shadow(0px 1px 2px rgba(0, 0, 0, 0.3));\n",
              "      fill: #FFFFFF;\n",
              "    }\n",
              "  </style>\n",
              "\n",
              "      <script>\n",
              "        const buttonEl =\n",
              "          document.querySelector('#df-2ecb1afc-3946-42e4-b333-72a2e799f5ce button.colab-df-convert');\n",
              "        buttonEl.style.display =\n",
              "          google.colab.kernel.accessAllowed ? 'block' : 'none';\n",
              "\n",
              "        async function convertToInteractive(key) {\n",
              "          const element = document.querySelector('#df-2ecb1afc-3946-42e4-b333-72a2e799f5ce');\n",
              "          const dataTable =\n",
              "            await google.colab.kernel.invokeFunction('convertToInteractive',\n",
              "                                                     [key], {});\n",
              "          if (!dataTable) return;\n",
              "\n",
              "          const docLinkHtml = 'Like what you see? Visit the ' +\n",
              "            '<a target=\"_blank\" href=https://colab.research.google.com/notebooks/data_table.ipynb>data table notebook</a>'\n",
              "            + ' to learn more about interactive tables.';\n",
              "          element.innerHTML = '';\n",
              "          dataTable['output_type'] = 'display_data';\n",
              "          await google.colab.output.renderOutput(dataTable, element);\n",
              "          const docLink = document.createElement('div');\n",
              "          docLink.innerHTML = docLinkHtml;\n",
              "          element.appendChild(docLink);\n",
              "        }\n",
              "      </script>\n",
              "    </div>\n",
              "  </div>\n",
              "  "
            ]
          },
          "metadata": {},
          "execution_count": 113
        }
      ]
    },
    {
      "cell_type": "code",
      "source": [
        "variables_df = pd.read_csv('variables')\n",
        "variables_df"
      ],
      "metadata": {
        "colab": {
          "base_uri": "https://localhost:8080/",
          "height": 175
        },
        "id": "y7LQDv_junnM",
        "outputId": "3d22d330-fb30-4ca9-df9d-8b51fa7a22af"
      },
      "execution_count": null,
      "outputs": [
        {
          "output_type": "execute_result",
          "data": {
            "text/plain": [
              "  variables  values\n",
              "0         x       0\n",
              "1         y       0\n",
              "2         z       0\n",
              "3         w       0"
            ],
            "text/html": [
              "\n",
              "  <div id=\"df-ccbb2925-9797-4260-83b8-12de626e41ae\">\n",
              "    <div class=\"colab-df-container\">\n",
              "      <div>\n",
              "<style scoped>\n",
              "    .dataframe tbody tr th:only-of-type {\n",
              "        vertical-align: middle;\n",
              "    }\n",
              "\n",
              "    .dataframe tbody tr th {\n",
              "        vertical-align: top;\n",
              "    }\n",
              "\n",
              "    .dataframe thead th {\n",
              "        text-align: right;\n",
              "    }\n",
              "</style>\n",
              "<table border=\"1\" class=\"dataframe\">\n",
              "  <thead>\n",
              "    <tr style=\"text-align: right;\">\n",
              "      <th></th>\n",
              "      <th>variables</th>\n",
              "      <th>values</th>\n",
              "    </tr>\n",
              "  </thead>\n",
              "  <tbody>\n",
              "    <tr>\n",
              "      <th>0</th>\n",
              "      <td>x</td>\n",
              "      <td>0</td>\n",
              "    </tr>\n",
              "    <tr>\n",
              "      <th>1</th>\n",
              "      <td>y</td>\n",
              "      <td>0</td>\n",
              "    </tr>\n",
              "    <tr>\n",
              "      <th>2</th>\n",
              "      <td>z</td>\n",
              "      <td>0</td>\n",
              "    </tr>\n",
              "    <tr>\n",
              "      <th>3</th>\n",
              "      <td>w</td>\n",
              "      <td>0</td>\n",
              "    </tr>\n",
              "  </tbody>\n",
              "</table>\n",
              "</div>\n",
              "      <button class=\"colab-df-convert\" onclick=\"convertToInteractive('df-ccbb2925-9797-4260-83b8-12de626e41ae')\"\n",
              "              title=\"Convert this dataframe to an interactive table.\"\n",
              "              style=\"display:none;\">\n",
              "        \n",
              "  <svg xmlns=\"http://www.w3.org/2000/svg\" height=\"24px\"viewBox=\"0 0 24 24\"\n",
              "       width=\"24px\">\n",
              "    <path d=\"M0 0h24v24H0V0z\" fill=\"none\"/>\n",
              "    <path d=\"M18.56 5.44l.94 2.06.94-2.06 2.06-.94-2.06-.94-.94-2.06-.94 2.06-2.06.94zm-11 1L8.5 8.5l.94-2.06 2.06-.94-2.06-.94L8.5 2.5l-.94 2.06-2.06.94zm10 10l.94 2.06.94-2.06 2.06-.94-2.06-.94-.94-2.06-.94 2.06-2.06.94z\"/><path d=\"M17.41 7.96l-1.37-1.37c-.4-.4-.92-.59-1.43-.59-.52 0-1.04.2-1.43.59L10.3 9.45l-7.72 7.72c-.78.78-.78 2.05 0 2.83L4 21.41c.39.39.9.59 1.41.59.51 0 1.02-.2 1.41-.59l7.78-7.78 2.81-2.81c.8-.78.8-2.07 0-2.86zM5.41 20L4 18.59l7.72-7.72 1.47 1.35L5.41 20z\"/>\n",
              "  </svg>\n",
              "      </button>\n",
              "      \n",
              "  <style>\n",
              "    .colab-df-container {\n",
              "      display:flex;\n",
              "      flex-wrap:wrap;\n",
              "      gap: 12px;\n",
              "    }\n",
              "\n",
              "    .colab-df-convert {\n",
              "      background-color: #E8F0FE;\n",
              "      border: none;\n",
              "      border-radius: 50%;\n",
              "      cursor: pointer;\n",
              "      display: none;\n",
              "      fill: #1967D2;\n",
              "      height: 32px;\n",
              "      padding: 0 0 0 0;\n",
              "      width: 32px;\n",
              "    }\n",
              "\n",
              "    .colab-df-convert:hover {\n",
              "      background-color: #E2EBFA;\n",
              "      box-shadow: 0px 1px 2px rgba(60, 64, 67, 0.3), 0px 1px 3px 1px rgba(60, 64, 67, 0.15);\n",
              "      fill: #174EA6;\n",
              "    }\n",
              "\n",
              "    [theme=dark] .colab-df-convert {\n",
              "      background-color: #3B4455;\n",
              "      fill: #D2E3FC;\n",
              "    }\n",
              "\n",
              "    [theme=dark] .colab-df-convert:hover {\n",
              "      background-color: #434B5C;\n",
              "      box-shadow: 0px 1px 3px 1px rgba(0, 0, 0, 0.15);\n",
              "      filter: drop-shadow(0px 1px 2px rgba(0, 0, 0, 0.3));\n",
              "      fill: #FFFFFF;\n",
              "    }\n",
              "  </style>\n",
              "\n",
              "      <script>\n",
              "        const buttonEl =\n",
              "          document.querySelector('#df-ccbb2925-9797-4260-83b8-12de626e41ae button.colab-df-convert');\n",
              "        buttonEl.style.display =\n",
              "          google.colab.kernel.accessAllowed ? 'block' : 'none';\n",
              "\n",
              "        async function convertToInteractive(key) {\n",
              "          const element = document.querySelector('#df-ccbb2925-9797-4260-83b8-12de626e41ae');\n",
              "          const dataTable =\n",
              "            await google.colab.kernel.invokeFunction('convertToInteractive',\n",
              "                                                     [key], {});\n",
              "          if (!dataTable) return;\n",
              "\n",
              "          const docLinkHtml = 'Like what you see? Visit the ' +\n",
              "            '<a target=\"_blank\" href=https://colab.research.google.com/notebooks/data_table.ipynb>data table notebook</a>'\n",
              "            + ' to learn more about interactive tables.';\n",
              "          element.innerHTML = '';\n",
              "          dataTable['output_type'] = 'display_data';\n",
              "          await google.colab.output.renderOutput(dataTable, element);\n",
              "          const docLink = document.createElement('div');\n",
              "          docLink.innerHTML = docLinkHtml;\n",
              "          element.appendChild(docLink);\n",
              "        }\n",
              "      </script>\n",
              "    </div>\n",
              "  </div>\n",
              "  "
            ]
          },
          "metadata": {},
          "execution_count": 114
        }
      ]
    },
    {
      "cell_type": "code",
      "source": [
        "variables_list = list(variables_df['variables'])"
      ],
      "metadata": {
        "id": "i95q64vC4bmU"
      },
      "execution_count": null,
      "outputs": []
    },
    {
      "cell_type": "code",
      "source": [
        "print(variables_list)"
      ],
      "metadata": {
        "colab": {
          "base_uri": "https://localhost:8080/"
        },
        "id": "Uyfmx9_849sM",
        "outputId": "e75109d4-1f5a-4d69-fe46-c25ac20a33c6"
      },
      "execution_count": null,
      "outputs": [
        {
          "output_type": "stream",
          "name": "stdout",
          "text": [
            "['x', 'y', 'z', 'w']\n"
          ]
        }
      ]
    },
    {
      "cell_type": "code",
      "execution_count": null,
      "metadata": {
        "id": "CRaZZlk6R1NJ"
      },
      "outputs": [],
      "source": [
        "with open('equations', 'r') as f:\n",
        "    # Read the equations line by line\n",
        "    eq_lines = f.readlines()"
      ]
    },
    {
      "cell_type": "code",
      "execution_count": null,
      "metadata": {
        "id": "YS11BD2MR1NJ",
        "outputId": "1859c720-38ec-46f0-d2ad-ed99c8b38cea",
        "colab": {
          "base_uri": "https://localhost:8080/"
        }
      },
      "outputs": [
        {
          "output_type": "stream",
          "name": "stdout",
          "text": [
            "['eq1: x + y - (phi1 / phi2) * w - 10\\n', 'eq2: x - y + phi2 * z - 3\\n', 'eq3: phi3 * x + y - z + 6']\n"
          ]
        }
      ],
      "source": [
        "print(eq_lines)"
      ]
    },
    {
      "cell_type": "code",
      "execution_count": null,
      "metadata": {
        "id": "YnMT1VBsR1NK",
        "colab": {
          "base_uri": "https://localhost:8080/"
        },
        "outputId": "f9bd2236-c8f2-407e-dea7-b94814f22228"
      },
      "outputs": [
        {
          "output_type": "stream",
          "name": "stdout",
          "text": [
            "[' x + y - (phi1 / phi2) * w - 10', ' x - y + phi2 * z - 3', ' phi3 * x + y - z + 6']\n"
          ]
        }
      ],
      "source": [
        "# Create a list to store the equations\n",
        "eq_list = []\n",
        "\n",
        "# Loop through the equation lines\n",
        "for eq_line in eq_lines:\n",
        "    # Split the line into the equation name and the equation expression\n",
        "    eq_name, eq_expr = eq_line.strip().split(':')\n",
        "    # Convert the tuple of symbols to a single expression\n",
        "    eq_list.append(eq_expr) \n",
        "    # Add the equation to the dictionary\n",
        "print(eq_list)"
      ]
    },
    {
      "cell_type": "code",
      "execution_count": null,
      "metadata": {
        "id": "nGf16bA1R1NM",
        "outputId": "0e8df031-b7e0-43d8-a1c8-ad30c1926ca5",
        "colab": {
          "base_uri": "https://localhost:8080/"
        }
      },
      "outputs": [
        {
          "output_type": "stream",
          "name": "stdout",
          "text": [
            "{'phi1': 3, 'phi2': 2, 'phi3': 2}\n"
          ]
        }
      ],
      "source": [
        "# Creating dictionary for parameters and values\n",
        "param_dict = dict(zip(parameters['parameters'],parameters['values']))\n",
        "print(param_dict)"
      ]
    },
    {
      "cell_type": "code",
      "execution_count": null,
      "metadata": {
        "id": "heYwSSfqR1NM",
        "outputId": "b486d1ba-dd22-483e-a747-d6b16c74fff9",
        "colab": {
          "base_uri": "https://localhost:8080/"
        }
      },
      "outputs": [
        {
          "output_type": "stream",
          "name": "stdout",
          "text": [
            "[' x + y - (3 / 2) * w - 10', ' x - y + 2 * z - 3', ' 2 * x + y - z + 6']\n"
          ]
        }
      ],
      "source": [
        "# Substituting parameters in equation with their values\n",
        "modified_list = []\n",
        "for eq in eq_list:\n",
        "  for key in param_dict:\n",
        "    if key in eq:\n",
        "        value = param_dict.get(key)\n",
        "        eq = eq.replace(key, str(param_dict.get(key)))\n",
        "  modified_list.append(eq)\n",
        "print(modified_list)"
      ]
    },
    {
      "cell_type": "code",
      "source": [
        "for item in modified_list:\n",
        "  print(item)"
      ],
      "metadata": {
        "colab": {
          "base_uri": "https://localhost:8080/"
        },
        "id": "lfW6GMpz12U9",
        "outputId": "2f1d3113-7785-4cbe-d0ad-81b4ab7c7827"
      },
      "execution_count": null,
      "outputs": [
        {
          "output_type": "stream",
          "name": "stdout",
          "text": [
            " x + y - (3 / 2) * w - 10\n",
            " x - y + 2 * z - 3\n",
            " 2 * x + y - z + 6\n"
          ]
        }
      ]
    },
    {
      "cell_type": "markdown",
      "source": [
        "# Evaluating coefficients"
      ],
      "metadata": {
        "id": "XFyOujcvXQlB"
      }
    },
    {
      "cell_type": "code",
      "source": [
        "corrected_equations = []\n",
        "expressions_inside_parentheses = []\n",
        "for equation in modified_list:\n",
        "  matches = re.findall(r'(\\(.*?\\))', equation)\n",
        "  # print(matches)\n",
        "  for expression in matches:\n",
        "    # print(expression)\n",
        "    eval_coeff = eval(expression)\n",
        "    # print(eval_coeff)\n",
        "    equation = equation.replace(expression, str(eval_coeff))\n",
        "  # expressions_inside_parentheses.extend(matches)\n",
        "  corrected_equations.append(equation)\n",
        "\n",
        "print(corrected_equations)\n",
        "# print(expressions_inside_parentheses)"
      ],
      "metadata": {
        "colab": {
          "base_uri": "https://localhost:8080/"
        },
        "id": "rhOGt1kGZXyh",
        "outputId": "ee06c4c3-65d8-4fe9-ad4b-758c46414e6a"
      },
      "execution_count": null,
      "outputs": [
        {
          "output_type": "stream",
          "name": "stdout",
          "text": [
            "[' x + y - 1.5 * w - 10', ' x - y + 2 * z - 3', ' 2 * x + y - z + 6']\n"
          ]
        }
      ]
    },
    {
      "cell_type": "code",
      "source": [
        "for item in corrected_equations:\n",
        "  print(item)"
      ],
      "metadata": {
        "colab": {
          "base_uri": "https://localhost:8080/"
        },
        "id": "nwTB47Jyco4p",
        "outputId": "b1f36bfa-cdcf-46c4-a06f-7c92a2b6a56e"
      },
      "execution_count": null,
      "outputs": [
        {
          "output_type": "stream",
          "name": "stdout",
          "text": [
            " x + y - 1.5 * w - 10\n",
            " x - y + 2 * z - 3\n",
            " 2 * x + y - z + 6\n"
          ]
        }
      ]
    },
    {
      "cell_type": "markdown",
      "source": [
        "#Extracting coefficients to setup optimization problem"
      ],
      "metadata": {
        "id": "X7jCTtjN9nE6"
      }
    },
    {
      "cell_type": "code",
      "source": [
        "equations_list = corrected_equations\n",
        "# variables_list\n",
        "coefficients_nested_list = []\n",
        "constants_list = []\n",
        "\n",
        "for equation in equations_list:\n",
        "  coefficients_list = []\n",
        "  # print('Equation:', equation)\n",
        "  equation_split = equation.split()\n",
        "  # print('Equation_split:', equation_split)\n",
        "  i = 1\n",
        "  for variable in variables_list:\n",
        "    coeff = 0\n",
        "    # print('i:',i)\n",
        "    # print('variable:', variable)\n",
        "    if variable in equation_split:\n",
        "      variable_index = equation_split.index(variable)\n",
        "      # print('variable_index:', variable_index)\n",
        "      if i == 1:\n",
        "        if variable_index == 0:\n",
        "          coeff = 1\n",
        "          coefficients_list.append(float(coeff))\n",
        "        \n",
        "        if variable_index == 1:\n",
        "          coeff = -1\n",
        "          coefficients_list.append(float(coeff))\n",
        "        \n",
        "        if variable_index == 2:\n",
        "          coeff = equation_split[variable_index - 2]\n",
        "          coefficients_list.append(float(coeff))\n",
        "\n",
        "      else:\n",
        "        if equation_split[variable_index - 1] == '-' or '+':\n",
        "          # print(equation_split[variable_index - 1])\n",
        "          sign = equation_split[variable_index - 1]\n",
        "          if sign == '+':\n",
        "            coeff = +1\n",
        "            coefficients_list.append(float(coeff))\n",
        "          if sign == '-':\n",
        "            coeff = -1\n",
        "            coefficients_list.append(float(coeff))\n",
        "\n",
        "        if equation_split[variable_index - 1] == '*':\n",
        "          # print(equation_split[variable_index - 1])\n",
        "          sign = equation_split[variable_index - 3]\n",
        "          number = equation_split[variable_index - 2]\n",
        "          coeff_list = [sign, number]\n",
        "          # print(coeff_list)\n",
        "          coeff = float(''.join(coeff_list))\n",
        "          coefficients_list.append(coeff)\n",
        "          \n",
        "      i += 1\n",
        "    else:\n",
        "      coeff = 0\n",
        "      coefficients_list.append(float(coeff))\n",
        "\n",
        "    \n",
        "  coefficients_nested_list.append(coefficients_list)\n",
        "  constant = [equation_split[-2], equation_split[-1]]\n",
        "  constant = float(''.join(constant))\n",
        "  constants_list.append(-1*constant)\n",
        "  # print(constants_list)\n",
        "  # print(coefficients_list)\n",
        "\n",
        "print('A:', coefficients_nested_list)\n",
        "print('b:', constants_list)"
      ],
      "metadata": {
        "id": "94HR4dfGMNO7",
        "colab": {
          "base_uri": "https://localhost:8080/"
        },
        "outputId": "f2cd02ce-c32c-4f1c-d088-b1b0d6145992"
      },
      "execution_count": null,
      "outputs": [
        {
          "output_type": "stream",
          "name": "stdout",
          "text": [
            "A: [[1.0, 1.0, 0.0, -1.5], [1.0, -1.0, 2.0, 0.0], [2.0, 1.0, -1.0, 0.0]]\n",
            "b: [10.0, 3.0, -6.0]\n"
          ]
        }
      ]
    },
    {
      "cell_type": "markdown",
      "source": [
        "# Solving the optimization problem"
      ],
      "metadata": {
        "id": "ayYXW1-utqHl"
      }
    },
    {
      "cell_type": "code",
      "execution_count": null,
      "metadata": {
        "id": "RSBbPAMvR1NR"
      },
      "outputs": [],
      "source": [
        "# Define the matrix A and the vector b\n",
        "# A = np.array([[1, 1, 0, -3], [1, -1, 2, 0], [2, 1, -1, 0]])\n",
        "# b = np.array([10, 3, -6])\n",
        "A = np.array(coefficients_nested_list)\n",
        "b = np.array(constants_list)"
      ]
    },
    {
      "cell_type": "code",
      "execution_count": null,
      "metadata": {
        "id": "tHP7gWCeR1NR"
      },
      "outputs": [],
      "source": [
        "# Define the objective function\n",
        "def objective_function(x):\n",
        "    # print(np.linalg.norm(A.dot(x) - b, 2))\n",
        "    return np.linalg.norm(A.dot(x) - b, 2)"
      ]
    },
    {
      "cell_type": "code",
      "execution_count": null,
      "metadata": {
        "id": "SWok3u5fR1NS"
      },
      "outputs": [],
      "source": [
        "# Define the constraint\n",
        "def constraint(x):\n",
        "    return A.dot(x) - b"
      ]
    },
    {
      "cell_type": "code",
      "execution_count": null,
      "metadata": {
        "id": "EDXCvsCNR1NS"
      },
      "outputs": [],
      "source": [
        "# Define the initial guess for x\n",
        "x0 = np.array([1, 1, 1, 1])\n"
      ]
    },
    {
      "cell_type": "code",
      "execution_count": null,
      "metadata": {
        "id": "l4pwOkpMR1NT"
      },
      "outputs": [],
      "source": [
        "# Define the optimization problem\n",
        "problem = {'type': 'eq', 'fun': constraint}\n"
      ]
    },
    {
      "cell_type": "code",
      "execution_count": null,
      "metadata": {
        "id": "tO2VYSz6R1NT",
        "outputId": "c155f410-c96d-42a4-8623-f01e456224fd",
        "colab": {
          "base_uri": "https://localhost:8080/"
        }
      },
      "outputs": [
        {
          "output_type": "stream",
          "name": "stdout",
          "text": [
            "Solution:  [-2.31368133  2.56840665  3.94104399 -6.49684978]\n"
          ]
        }
      ],
      "source": [
        "# Solve the optimization problem\n",
        "solution = minimize(objective_function, x0, constraints=problem)\n",
        "\n",
        "# Print the solution\n",
        "print(\"Solution: \", solution.x)"
      ]
    },
    {
      "cell_type": "markdown",
      "source": [
        "Non-linear function"
      ],
      "metadata": {
        "id": "7rZ5C4Xd3knD"
      }
    },
    {
      "cell_type": "code",
      "source": [
        "# Define the objective function\n",
        "def objective_function(initial_guess):\n",
        "    x, y, phi1, z = initial_guess\n",
        "    eq1 = x + y - phi1 * z - 10\n",
        "    eq2 = x - y + 2 * z - 3\n",
        "    eq3 = 2 * x + y - z + 6\n",
        "    return eq1**2 + eq2**2 + eq3**2"
      ],
      "metadata": {
        "id": "1N9BHoMz3h9j"
      },
      "execution_count": null,
      "outputs": []
    },
    {
      "cell_type": "code",
      "source": [
        "# Initial guess for the decision variables\n",
        "initial_guess = [0, 0, 0, 0]\n",
        "\n",
        "# Bounds for the decision variables\n",
        "bounds = [(-10, 10), (-10, 10), (-10, 10), (-10, 10)]\n",
        "\n",
        "result = minimize(objective_function, initial_guess, bounds=bounds)"
      ],
      "metadata": {
        "id": "J-P3NzlR3orz"
      },
      "execution_count": null,
      "outputs": []
    },
    {
      "cell_type": "code",
      "source": [
        "# Extract the optimal solution\n",
        "optimal_solution = result.x\n",
        "print(\"Optimal solution:\")\n",
        "print(\"x =\", optimal_solution[0])\n",
        "print(\"y =\", optimal_solution[1])\n",
        "print(\"phi1 =\", optimal_solution[2])\n",
        "print(\"z =\", optimal_solution[3])"
      ],
      "metadata": {
        "colab": {
          "base_uri": "https://localhost:8080/"
        },
        "id": "W1RpebUE3wdi",
        "outputId": "3ddeb091-138f-4eaf-dd1a-b16685256cd5"
      },
      "execution_count": null,
      "outputs": [
        {
          "output_type": "stream",
          "name": "stdout",
          "text": [
            "Optimal solution:\n",
            "x = -2.351620300290772\n",
            "y = 2.7581015833364155\n",
            "phi1 = -2.3659303995706917\n",
            "z = 4.054860930459148\n"
          ]
        }
      ]
    }
  ],
  "metadata": {
    "kernelspec": {
      "display_name": "base",
      "language": "python",
      "name": "python3"
    },
    "language_info": {
      "codemirror_mode": {
        "name": "ipython",
        "version": 3
      },
      "file_extension": ".py",
      "mimetype": "text/x-python",
      "name": "python",
      "nbconvert_exporter": "python",
      "pygments_lexer": "ipython3",
      "version": "3.9.13"
    },
    "orig_nbformat": 4,
    "colab": {
      "provenance": [],
      "collapsed_sections": [
        "KdS99pR9tZiY",
        "r9KgIAECtgxv",
        "X7jCTtjN9nE6"
      ],
      "include_colab_link": true
    }
  },
  "nbformat": 4,
  "nbformat_minor": 0
}